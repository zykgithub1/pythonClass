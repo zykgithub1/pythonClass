{
 "cells": [
  {
   "cell_type": "code",
   "execution_count": 1,
   "id": "ab180128",
   "metadata": {},
   "outputs": [],
   "source": [
    "import pandas as pd\n",
    "from sklearn.model_selection import train_test_split,GridSearchCV\n",
    "from sklearn.preprocessing import StandardScaler\n",
    "from sklearn.neighbors import KNeighborsClassifier"
   ]
  },
  {
   "cell_type": "code",
   "execution_count": 2,
   "id": "835884d9",
   "metadata": {},
   "outputs": [
    {
     "data": {
      "text/plain": [
       "(20505, 5)"
      ]
     },
     "execution_count": 2,
     "metadata": {},
     "output_type": "execute_result"
    }
   ],
   "source": [
    "\n",
    "data=pd.read_csv(\"test.csv\")\n",
    "partial_data=data.query(\"x>2.0&x<2.5&y>2.0&y<2.5\")\n",
    "partial_data.shape"
   ]
  },
  {
   "cell_type": "code",
   "execution_count": 5,
   "id": "63022205",
   "metadata": {},
   "outputs": [
    {
     "data": {
      "text/plain": [
       "1512    793680\n",
       "1861    846674\n",
       "2194    985636\n",
       "2243    949704\n",
       "2644    876147\n",
       "Name: time, dtype: int64"
      ]
     },
     "execution_count": 5,
     "metadata": {},
     "output_type": "execute_result"
    }
   ],
   "source": [
    "partial_data[\"time\"].head()"
   ]
  },
  {
   "cell_type": "code",
   "execution_count": 8,
   "id": "e2c83c06",
   "metadata": {},
   "outputs": [
    {
     "data": {
      "text/plain": [
       "1512   1970-01-10 04:28:00\n",
       "1861   1970-01-10 19:11:14\n",
       "2194   1970-01-12 09:47:16\n",
       "2243   1970-01-11 23:48:24\n",
       "2644   1970-01-11 03:22:27\n",
       "Name: time, dtype: datetime64[ns]"
      ]
     },
     "execution_count": 8,
     "metadata": {},
     "output_type": "execute_result"
    }
   ],
   "source": [
    "time=pd.to_datetime(partial_data[\"time\"],unit=\"s\")\n",
    "time.head()"
   ]
  },
  {
   "cell_type": "code",
   "execution_count": 11,
   "id": "303d1cae",
   "metadata": {},
   "outputs": [
    {
     "data": {
      "text/plain": [
       "Int64Index([ 4, 19,  9, 23,  3, 15,  6,  5, 12, 12,\n",
       "            ...\n",
       "            12, 11,  8, 21, 10,  7,  2,  4, 17, 11],\n",
       "           dtype='int64', name='time', length=20505)"
      ]
     },
     "execution_count": 11,
     "metadata": {},
     "output_type": "execute_result"
    }
   ],
   "source": [
    "time=pd.DatetimeIndex(time)\n",
    "time.hour"
   ]
  },
  {
   "cell_type": "code",
   "execution_count": 12,
   "id": "6f822177",
   "metadata": {},
   "outputs": [
    {
     "name": "stderr",
     "output_type": "stream",
     "text": [
      "/tmp/ipykernel_7366/4168604514.py:1: SettingWithCopyWarning: \n",
      "A value is trying to be set on a copy of a slice from a DataFrame.\n",
      "Try using .loc[row_indexer,col_indexer] = value instead\n",
      "\n",
      "See the caveats in the documentation: https://pandas.pydata.org/pandas-docs/stable/user_guide/indexing.html#returning-a-view-versus-a-copy\n",
      "  partial_data[\"hour\"]=time.hour\n",
      "/tmp/ipykernel_7366/4168604514.py:2: SettingWithCopyWarning: \n",
      "A value is trying to be set on a copy of a slice from a DataFrame.\n",
      "Try using .loc[row_indexer,col_indexer] = value instead\n",
      "\n",
      "See the caveats in the documentation: https://pandas.pydata.org/pandas-docs/stable/user_guide/indexing.html#returning-a-view-versus-a-copy\n",
      "  partial_data[\"day\"]=time.day\n",
      "/tmp/ipykernel_7366/4168604514.py:3: SettingWithCopyWarning: \n",
      "A value is trying to be set on a copy of a slice from a DataFrame.\n",
      "Try using .loc[row_indexer,col_indexer] = value instead\n",
      "\n",
      "See the caveats in the documentation: https://pandas.pydata.org/pandas-docs/stable/user_guide/indexing.html#returning-a-view-versus-a-copy\n",
      "  partial_data[\"weekday\"]=time.weekday\n"
     ]
    },
    {
     "data": {
      "text/html": [
       "<div>\n",
       "<style scoped>\n",
       "    .dataframe tbody tr th:only-of-type {\n",
       "        vertical-align: middle;\n",
       "    }\n",
       "\n",
       "    .dataframe tbody tr th {\n",
       "        vertical-align: top;\n",
       "    }\n",
       "\n",
       "    .dataframe thead th {\n",
       "        text-align: right;\n",
       "    }\n",
       "</style>\n",
       "<table border=\"1\" class=\"dataframe\">\n",
       "  <thead>\n",
       "    <tr style=\"text-align: right;\">\n",
       "      <th></th>\n",
       "      <th>row_id</th>\n",
       "      <th>x</th>\n",
       "      <th>y</th>\n",
       "      <th>accuracy</th>\n",
       "      <th>time</th>\n",
       "      <th>hour</th>\n",
       "      <th>day</th>\n",
       "      <th>weekday</th>\n",
       "    </tr>\n",
       "  </thead>\n",
       "  <tbody>\n",
       "    <tr>\n",
       "      <th>1512</th>\n",
       "      <td>1512</td>\n",
       "      <td>2.0306</td>\n",
       "      <td>2.0505</td>\n",
       "      <td>30</td>\n",
       "      <td>793680</td>\n",
       "      <td>4</td>\n",
       "      <td>10</td>\n",
       "      <td>5</td>\n",
       "    </tr>\n",
       "    <tr>\n",
       "      <th>1861</th>\n",
       "      <td>1861</td>\n",
       "      <td>2.2929</td>\n",
       "      <td>2.1761</td>\n",
       "      <td>59</td>\n",
       "      <td>846674</td>\n",
       "      <td>19</td>\n",
       "      <td>10</td>\n",
       "      <td>5</td>\n",
       "    </tr>\n",
       "    <tr>\n",
       "      <th>2194</th>\n",
       "      <td>2194</td>\n",
       "      <td>2.1846</td>\n",
       "      <td>2.1788</td>\n",
       "      <td>178</td>\n",
       "      <td>985636</td>\n",
       "      <td>9</td>\n",
       "      <td>12</td>\n",
       "      <td>0</td>\n",
       "    </tr>\n",
       "    <tr>\n",
       "      <th>2243</th>\n",
       "      <td>2243</td>\n",
       "      <td>2.2299</td>\n",
       "      <td>2.1910</td>\n",
       "      <td>125</td>\n",
       "      <td>949704</td>\n",
       "      <td>23</td>\n",
       "      <td>11</td>\n",
       "      <td>6</td>\n",
       "    </tr>\n",
       "    <tr>\n",
       "      <th>2644</th>\n",
       "      <td>2644</td>\n",
       "      <td>2.3651</td>\n",
       "      <td>2.2494</td>\n",
       "      <td>10</td>\n",
       "      <td>876147</td>\n",
       "      <td>3</td>\n",
       "      <td>11</td>\n",
       "      <td>6</td>\n",
       "    </tr>\n",
       "  </tbody>\n",
       "</table>\n",
       "</div>"
      ],
      "text/plain": [
       "      row_id       x       y  accuracy    time  hour  day  weekday\n",
       "1512    1512  2.0306  2.0505        30  793680     4   10        5\n",
       "1861    1861  2.2929  2.1761        59  846674    19   10        5\n",
       "2194    2194  2.1846  2.1788       178  985636     9   12        0\n",
       "2243    2243  2.2299  2.1910       125  949704    23   11        6\n",
       "2644    2644  2.3651  2.2494        10  876147     3   11        6"
      ]
     },
     "execution_count": 12,
     "metadata": {},
     "output_type": "execute_result"
    }
   ],
   "source": [
    "partial_data[\"hour\"]=time.hour\n",
    "partial_data[\"day\"]=time.day\n",
    "partial_data[\"weekday\"]=time.weekday\n",
    "partial_data.head()"
   ]
  },
  {
   "cell_type": "code",
   "execution_count": 13,
   "id": "f9b5692a",
   "metadata": {},
   "outputs": [
    {
     "data": {
      "text/html": [
       "<div>\n",
       "<style scoped>\n",
       "    .dataframe tbody tr th:only-of-type {\n",
       "        vertical-align: middle;\n",
       "    }\n",
       "\n",
       "    .dataframe tbody tr th {\n",
       "        vertical-align: top;\n",
       "    }\n",
       "\n",
       "    .dataframe thead th {\n",
       "        text-align: right;\n",
       "    }\n",
       "</style>\n",
       "<table border=\"1\" class=\"dataframe\">\n",
       "  <thead>\n",
       "    <tr style=\"text-align: right;\">\n",
       "      <th></th>\n",
       "      <th>row_id</th>\n",
       "      <th>x</th>\n",
       "      <th>y</th>\n",
       "      <th>accuracy</th>\n",
       "      <th>time</th>\n",
       "      <th>hour</th>\n",
       "      <th>day</th>\n",
       "      <th>weekday</th>\n",
       "    </tr>\n",
       "  </thead>\n",
       "  <tbody>\n",
       "    <tr>\n",
       "      <th>1512</th>\n",
       "      <td>1512</td>\n",
       "      <td>2.0306</td>\n",
       "      <td>2.0505</td>\n",
       "      <td>30</td>\n",
       "      <td>793680</td>\n",
       "      <td>4</td>\n",
       "      <td>10</td>\n",
       "      <td>5</td>\n",
       "    </tr>\n",
       "    <tr>\n",
       "      <th>1861</th>\n",
       "      <td>1861</td>\n",
       "      <td>2.2929</td>\n",
       "      <td>2.1761</td>\n",
       "      <td>59</td>\n",
       "      <td>846674</td>\n",
       "      <td>19</td>\n",
       "      <td>10</td>\n",
       "      <td>5</td>\n",
       "    </tr>\n",
       "    <tr>\n",
       "      <th>2194</th>\n",
       "      <td>2194</td>\n",
       "      <td>2.1846</td>\n",
       "      <td>2.1788</td>\n",
       "      <td>178</td>\n",
       "      <td>985636</td>\n",
       "      <td>9</td>\n",
       "      <td>12</td>\n",
       "      <td>0</td>\n",
       "    </tr>\n",
       "    <tr>\n",
       "      <th>2243</th>\n",
       "      <td>2243</td>\n",
       "      <td>2.2299</td>\n",
       "      <td>2.1910</td>\n",
       "      <td>125</td>\n",
       "      <td>949704</td>\n",
       "      <td>23</td>\n",
       "      <td>11</td>\n",
       "      <td>6</td>\n",
       "    </tr>\n",
       "    <tr>\n",
       "      <th>2644</th>\n",
       "      <td>2644</td>\n",
       "      <td>2.3651</td>\n",
       "      <td>2.2494</td>\n",
       "      <td>10</td>\n",
       "      <td>876147</td>\n",
       "      <td>3</td>\n",
       "      <td>11</td>\n",
       "      <td>6</td>\n",
       "    </tr>\n",
       "  </tbody>\n",
       "</table>\n",
       "</div>"
      ],
      "text/plain": [
       "      row_id       x       y  accuracy    time  hour  day  weekday\n",
       "1512    1512  2.0306  2.0505        30  793680     4   10        5\n",
       "1861    1861  2.2929  2.1761        59  846674    19   10        5\n",
       "2194    2194  2.1846  2.1788       178  985636     9   12        0\n",
       "2243    2243  2.2299  2.1910       125  949704    23   11        6\n",
       "2644    2644  2.3651  2.2494        10  876147     3   11        6"
      ]
     },
     "execution_count": 13,
     "metadata": {},
     "output_type": "execute_result"
    }
   ],
   "source": [
    "partial_data.head()"
   ]
  },
  {
   "cell_type": "code",
   "execution_count": null,
   "id": "32d75b7a",
   "metadata": {},
   "outputs": [],
   "source": []
  },
  {
   "cell_type": "code",
   "execution_count": null,
   "id": "cb6c7bce",
   "metadata": {},
   "outputs": [],
   "source": []
  },
  {
   "cell_type": "code",
   "execution_count": null,
   "id": "702b7230",
   "metadata": {},
   "outputs": [],
   "source": []
  },
  {
   "cell_type": "code",
   "execution_count": null,
   "id": "3d3315f3",
   "metadata": {},
   "outputs": [],
   "source": []
  },
  {
   "cell_type": "code",
   "execution_count": null,
   "id": "a34ddffd",
   "metadata": {},
   "outputs": [],
   "source": []
  },
  {
   "cell_type": "code",
   "execution_count": null,
   "id": "fab32f9b",
   "metadata": {},
   "outputs": [],
   "source": []
  },
  {
   "cell_type": "code",
   "execution_count": null,
   "id": "e950e92d",
   "metadata": {},
   "outputs": [],
   "source": []
  },
  {
   "cell_type": "code",
   "execution_count": null,
   "id": "ac4469b8",
   "metadata": {},
   "outputs": [],
   "source": []
  },
  {
   "cell_type": "code",
   "execution_count": null,
   "id": "28bdcf65",
   "metadata": {},
   "outputs": [],
   "source": []
  },
  {
   "cell_type": "code",
   "execution_count": null,
   "id": "af013a97",
   "metadata": {},
   "outputs": [],
   "source": []
  }
 ],
 "metadata": {
  "kernelspec": {
   "display_name": "Python 3 (ipykernel)",
   "language": "python",
   "name": "python3"
  },
  "language_info": {
   "codemirror_mode": {
    "name": "ipython",
    "version": 3
   },
   "file_extension": ".py",
   "mimetype": "text/x-python",
   "name": "python",
   "nbconvert_exporter": "python",
   "pygments_lexer": "ipython3",
   "version": "3.8.10"
  },
  "toc": {
   "base_numbering": 1,
   "nav_menu": {},
   "number_sections": true,
   "sideBar": true,
   "skip_h1_title": false,
   "title_cell": "Table of Contents",
   "title_sidebar": "Contents",
   "toc_cell": false,
   "toc_position": {},
   "toc_section_display": true,
   "toc_window_display": false
  }
 },
 "nbformat": 4,
 "nbformat_minor": 5
}
