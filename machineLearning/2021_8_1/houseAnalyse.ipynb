{
 "cells": [
  {
   "cell_type": "code",
   "execution_count": 1,
   "id": "a9a55350",
   "metadata": {},
   "outputs": [],
   "source": [
    "import numpy as np\n",
    "import pandas as pd\n",
    "import matplotlib.pyplot as plt\n",
    "import seaborn as sns"
   ]
  },
  {
   "cell_type": "markdown",
   "id": "f9a6e98d",
   "metadata": {},
   "source": [
    "# read house data"
   ]
  },
  {
   "cell_type": "code",
   "execution_count": 7,
   "id": "21f9646b",
   "metadata": {},
   "outputs": [
    {
     "data": {
      "text/html": [
       "<div>\n",
       "<style scoped>\n",
       "    .dataframe tbody tr th:only-of-type {\n",
       "        vertical-align: middle;\n",
       "    }\n",
       "\n",
       "    .dataframe tbody tr th {\n",
       "        vertical-align: top;\n",
       "    }\n",
       "\n",
       "    .dataframe thead th {\n",
       "        text-align: right;\n",
       "    }\n",
       "</style>\n",
       "<table border=\"1\" class=\"dataframe\">\n",
       "  <thead>\n",
       "    <tr style=\"text-align: right;\">\n",
       "      <th></th>\n",
       "      <th>区域</th>\n",
       "      <th>小区名称</th>\n",
       "      <th>户型</th>\n",
       "      <th>面积(㎡)</th>\n",
       "      <th>价格(元/月)</th>\n",
       "    </tr>\n",
       "  </thead>\n",
       "  <tbody>\n",
       "    <tr>\n",
       "      <th>0</th>\n",
       "      <td>东城</td>\n",
       "      <td>万国城MOMA</td>\n",
       "      <td>1室0厅</td>\n",
       "      <td>59.11平米</td>\n",
       "      <td>10000</td>\n",
       "    </tr>\n",
       "    <tr>\n",
       "      <th>1</th>\n",
       "      <td>东城</td>\n",
       "      <td>北官厅胡同2号院</td>\n",
       "      <td>3室0厅</td>\n",
       "      <td>56.92平米</td>\n",
       "      <td>6000</td>\n",
       "    </tr>\n",
       "    <tr>\n",
       "      <th>2</th>\n",
       "      <td>东城</td>\n",
       "      <td>和平里三区</td>\n",
       "      <td>1室1厅</td>\n",
       "      <td>40.57平米</td>\n",
       "      <td>6900</td>\n",
       "    </tr>\n",
       "    <tr>\n",
       "      <th>3</th>\n",
       "      <td>东城</td>\n",
       "      <td>菊儿胡同</td>\n",
       "      <td>2室1厅</td>\n",
       "      <td>57.09平米</td>\n",
       "      <td>8000</td>\n",
       "    </tr>\n",
       "    <tr>\n",
       "      <th>4</th>\n",
       "      <td>东城</td>\n",
       "      <td>交道口北二条35号院</td>\n",
       "      <td>1室1厅</td>\n",
       "      <td>42.67平米</td>\n",
       "      <td>5500</td>\n",
       "    </tr>\n",
       "  </tbody>\n",
       "</table>\n",
       "</div>"
      ],
      "text/plain": [
       "   区域        小区名称    户型    面积(㎡)  价格(元/月)\n",
       "0  东城     万国城MOMA  1室0厅  59.11平米    10000\n",
       "1  东城    北官厅胡同2号院  3室0厅  56.92平米     6000\n",
       "2  东城       和平里三区  1室1厅  40.57平米     6900\n",
       "3  东城        菊儿胡同  2室1厅  57.09平米     8000\n",
       "4  东城  交道口北二条35号院  1室1厅  42.67平米     5500"
      ]
     },
     "execution_count": 7,
     "metadata": {},
     "output_type": "execute_result"
    }
   ],
   "source": [
    "file_data=pd.read_csv(\"./housedata.csv\")\n",
    "file_data.head()"
   ]
  },
  {
   "cell_type": "code",
   "execution_count": 9,
   "id": "811158a6",
   "metadata": {},
   "outputs": [
    {
     "data": {
      "text/plain": [
       "(8223, 5)"
      ]
     },
     "execution_count": 9,
     "metadata": {},
     "output_type": "execute_result"
    }
   ],
   "source": [
    "file_data.shape"
   ]
  },
  {
   "cell_type": "code",
   "execution_count": 11,
   "id": "c1d8d1ba",
   "metadata": {},
   "outputs": [
    {
     "name": "stdout",
     "output_type": "stream",
     "text": [
      "<class 'pandas.core.frame.DataFrame'>\n",
      "RangeIndex: 8223 entries, 0 to 8222\n",
      "Data columns (total 5 columns):\n",
      " #   Column   Non-Null Count  Dtype \n",
      "---  ------   --------------  ----- \n",
      " 0   区域       8223 non-null   object\n",
      " 1   小区名称     8223 non-null   object\n",
      " 2   户型       8223 non-null   object\n",
      " 3   面积(㎡)    8223 non-null   object\n",
      " 4   价格(元/月)  8223 non-null   int64 \n",
      "dtypes: int64(1), object(4)\n",
      "memory usage: 321.3+ KB\n"
     ]
    }
   ],
   "source": [
    "file_data.info()"
   ]
  },
  {
   "cell_type": "code",
   "execution_count": 13,
   "id": "c34a2268",
   "metadata": {},
   "outputs": [
    {
     "data": {
      "text/html": [
       "<div>\n",
       "<style scoped>\n",
       "    .dataframe tbody tr th:only-of-type {\n",
       "        vertical-align: middle;\n",
       "    }\n",
       "\n",
       "    .dataframe tbody tr th {\n",
       "        vertical-align: top;\n",
       "    }\n",
       "\n",
       "    .dataframe thead th {\n",
       "        text-align: right;\n",
       "    }\n",
       "</style>\n",
       "<table border=\"1\" class=\"dataframe\">\n",
       "  <thead>\n",
       "    <tr style=\"text-align: right;\">\n",
       "      <th></th>\n",
       "      <th>价格(元/月)</th>\n",
       "    </tr>\n",
       "  </thead>\n",
       "  <tbody>\n",
       "    <tr>\n",
       "      <th>count</th>\n",
       "      <td>8223.000000</td>\n",
       "    </tr>\n",
       "    <tr>\n",
       "      <th>mean</th>\n",
       "      <td>9512.297823</td>\n",
       "    </tr>\n",
       "    <tr>\n",
       "      <th>std</th>\n",
       "      <td>9186.752612</td>\n",
       "    </tr>\n",
       "    <tr>\n",
       "      <th>min</th>\n",
       "      <td>566.000000</td>\n",
       "    </tr>\n",
       "    <tr>\n",
       "      <th>25%</th>\n",
       "      <td>4800.000000</td>\n",
       "    </tr>\n",
       "    <tr>\n",
       "      <th>50%</th>\n",
       "      <td>6800.000000</td>\n",
       "    </tr>\n",
       "    <tr>\n",
       "      <th>75%</th>\n",
       "      <td>10000.000000</td>\n",
       "    </tr>\n",
       "    <tr>\n",
       "      <th>max</th>\n",
       "      <td>150000.000000</td>\n",
       "    </tr>\n",
       "  </tbody>\n",
       "</table>\n",
       "</div>"
      ],
      "text/plain": [
       "             价格(元/月)\n",
       "count    8223.000000\n",
       "mean     9512.297823\n",
       "std      9186.752612\n",
       "min       566.000000\n",
       "25%      4800.000000\n",
       "50%      6800.000000\n",
       "75%     10000.000000\n",
       "max    150000.000000"
      ]
     },
     "execution_count": 13,
     "metadata": {},
     "output_type": "execute_result"
    }
   ],
   "source": [
    "file_data.describe()"
   ]
  },
  {
   "cell_type": "markdown",
   "id": "911819d5",
   "metadata": {},
   "source": [
    "## basic deals of data"
   ]
  },
  {
   "cell_type": "markdown",
   "id": "62bd5569",
   "metadata": {},
   "source": [
    "### check duplication "
   ]
  },
  {
   "cell_type": "code",
   "execution_count": 14,
   "id": "23af4e2e",
   "metadata": {},
   "outputs": [
    {
     "data": {
      "text/plain": [
       "0       False\n",
       "1       False\n",
       "2       False\n",
       "3       False\n",
       "4       False\n",
       "        ...  \n",
       "8218    False\n",
       "8219    False\n",
       "8220    False\n",
       "8221    False\n",
       "8222    False\n",
       "Length: 8223, dtype: bool"
      ]
     },
     "execution_count": 14,
     "metadata": {},
     "output_type": "execute_result"
    }
   ],
   "source": [
    "file_data.duplicated()"
   ]
  },
  {
   "cell_type": "code",
   "execution_count": 16,
   "id": "a57d3bf7",
   "metadata": {},
   "outputs": [
    {
     "data": {
      "text/plain": [
       "(5773, 5)"
      ]
     },
     "execution_count": 16,
     "metadata": {},
     "output_type": "execute_result"
    }
   ],
   "source": [
    "file_data=file_data.drop_duplicates()\n",
    "file_data.shape"
   ]
  },
  {
   "cell_type": "markdown",
   "id": "1aa608fc",
   "metadata": {},
   "source": [
    "### deal with none "
   ]
  },
  {
   "cell_type": "code",
   "execution_count": 18,
   "id": "7e97a35d",
   "metadata": {},
   "outputs": [
    {
     "data": {
      "text/plain": [
       "(5773, 5)"
      ]
     },
     "execution_count": 18,
     "metadata": {},
     "output_type": "execute_result"
    }
   ],
   "source": [
    "file_data=file_data.dropna()\n",
    "file_data.shape"
   ]
  },
  {
   "cell_type": "markdown",
   "id": "1c0fdf8c",
   "metadata": {},
   "source": [
    "## transform of datatype"
   ]
  },
  {
   "cell_type": "markdown",
   "id": "30e60d91",
   "metadata": {},
   "source": [
    "### transform area datatype"
   ]
  },
  {
   "cell_type": "code",
   "execution_count": 22,
   "id": "52d7c0bc",
   "metadata": {},
   "outputs": [
    {
     "data": {
      "text/plain": [
       "'59.11'"
      ]
     },
     "execution_count": 22,
     "metadata": {},
     "output_type": "execute_result"
    }
   ],
   "source": [
    "file_data[\"面积(㎡)\"].values[0][:-2]"
   ]
  },
  {
   "cell_type": "code",
   "execution_count": 27,
   "id": "959841e0",
   "metadata": {},
   "outputs": [],
   "source": [
    "#create a new array\n",
    "data_new=np.array([])\n",
    "data_area=file_data[\"面积(㎡)\"].values\n",
    "for i in data_area:\n",
    "    data_new=np.append(data_new,i[:-2])"
   ]
  },
  {
   "cell_type": "code",
   "execution_count": 24,
   "id": "f80b0753",
   "metadata": {},
   "outputs": [
    {
     "data": {
      "text/plain": [
       "array(['59.11平米', '56.92平米', '40.57平米', ..., '92.41平米', '71.81平米',\n",
       "       '35.43平米'], dtype=object)"
      ]
     },
     "execution_count": 24,
     "metadata": {},
     "output_type": "execute_result"
    }
   ],
   "source": [
    "data_area"
   ]
  },
  {
   "cell_type": "code",
   "execution_count": 28,
   "id": "922e7997",
   "metadata": {},
   "outputs": [
    {
     "data": {
      "text/plain": [
       "array(['59.11', '56.92', '40.57', ..., '92.41', '71.81', '35.43'],\n",
       "      dtype='<U32')"
      ]
     },
     "execution_count": 28,
     "metadata": {},
     "output_type": "execute_result"
    }
   ],
   "source": [
    "data_new"
   ]
  },
  {
   "cell_type": "markdown",
   "id": "c3889163",
   "metadata": {},
   "source": [
    "### transform datatype of data_new"
   ]
  },
  {
   "cell_type": "code",
   "execution_count": 30,
   "id": "a8762512",
   "metadata": {},
   "outputs": [],
   "source": [
    "data_new=data_new.astype(np.float64)"
   ]
  },
  {
   "cell_type": "code",
   "execution_count": 31,
   "id": "2e0745c9",
   "metadata": {},
   "outputs": [
    {
     "data": {
      "text/plain": [
       "array([59.11, 56.92, 40.57, ..., 92.41, 71.81, 35.43])"
      ]
     },
     "execution_count": 31,
     "metadata": {},
     "output_type": "execute_result"
    }
   ],
   "source": [
    "data_new"
   ]
  },
  {
   "cell_type": "code",
   "execution_count": 35,
   "id": "9145a3d5",
   "metadata": {},
   "outputs": [],
   "source": [
    "file_data.loc[:,\"面积(㎡)\"]=data_new"
   ]
  },
  {
   "cell_type": "code",
   "execution_count": 36,
   "id": "7383f7f3",
   "metadata": {},
   "outputs": [
    {
     "data": {
      "text/html": [
       "<div>\n",
       "<style scoped>\n",
       "    .dataframe tbody tr th:only-of-type {\n",
       "        vertical-align: middle;\n",
       "    }\n",
       "\n",
       "    .dataframe tbody tr th {\n",
       "        vertical-align: top;\n",
       "    }\n",
       "\n",
       "    .dataframe thead th {\n",
       "        text-align: right;\n",
       "    }\n",
       "</style>\n",
       "<table border=\"1\" class=\"dataframe\">\n",
       "  <thead>\n",
       "    <tr style=\"text-align: right;\">\n",
       "      <th></th>\n",
       "      <th>区域</th>\n",
       "      <th>小区名称</th>\n",
       "      <th>户型</th>\n",
       "      <th>面积(㎡)</th>\n",
       "      <th>价格(元/月)</th>\n",
       "    </tr>\n",
       "  </thead>\n",
       "  <tbody>\n",
       "    <tr>\n",
       "      <th>0</th>\n",
       "      <td>东城</td>\n",
       "      <td>万国城MOMA</td>\n",
       "      <td>1室0厅</td>\n",
       "      <td>59.11</td>\n",
       "      <td>10000</td>\n",
       "    </tr>\n",
       "    <tr>\n",
       "      <th>1</th>\n",
       "      <td>东城</td>\n",
       "      <td>北官厅胡同2号院</td>\n",
       "      <td>3室0厅</td>\n",
       "      <td>56.92</td>\n",
       "      <td>6000</td>\n",
       "    </tr>\n",
       "    <tr>\n",
       "      <th>2</th>\n",
       "      <td>东城</td>\n",
       "      <td>和平里三区</td>\n",
       "      <td>1室1厅</td>\n",
       "      <td>40.57</td>\n",
       "      <td>6900</td>\n",
       "    </tr>\n",
       "    <tr>\n",
       "      <th>3</th>\n",
       "      <td>东城</td>\n",
       "      <td>菊儿胡同</td>\n",
       "      <td>2室1厅</td>\n",
       "      <td>57.09</td>\n",
       "      <td>8000</td>\n",
       "    </tr>\n",
       "    <tr>\n",
       "      <th>4</th>\n",
       "      <td>东城</td>\n",
       "      <td>交道口北二条35号院</td>\n",
       "      <td>1室1厅</td>\n",
       "      <td>42.67</td>\n",
       "      <td>5500</td>\n",
       "    </tr>\n",
       "  </tbody>\n",
       "</table>\n",
       "</div>"
      ],
      "text/plain": [
       "   区域        小区名称    户型  面积(㎡)  价格(元/月)\n",
       "0  东城     万国城MOMA  1室0厅  59.11    10000\n",
       "1  东城    北官厅胡同2号院  3室0厅  56.92     6000\n",
       "2  东城       和平里三区  1室1厅  40.57     6900\n",
       "3  东城        菊儿胡同  2室1厅  57.09     8000\n",
       "4  东城  交道口北二条35号院  1室1厅  42.67     5500"
      ]
     },
     "execution_count": 36,
     "metadata": {},
     "output_type": "execute_result"
    }
   ],
   "source": [
    "file_data.head()"
   ]
  },
  {
   "cell_type": "markdown",
   "id": "ab877eac",
   "metadata": {},
   "source": [
    "### house type expression transform"
   ]
  },
  {
   "cell_type": "code",
   "execution_count": 42,
   "id": "1cdba04f",
   "metadata": {},
   "outputs": [],
   "source": [
    "house_data=file_data[\"户型\"]\n",
    "temp_list=[]\n",
    "for i in house_data:\n",
    "    new_info=i.replace(\"房间\",\"室\")\n",
    "    temp_list.append(new_info)\n",
    "#temp_list"
   ]
  },
  {
   "cell_type": "code",
   "execution_count": 46,
   "id": "594d0f67",
   "metadata": {},
   "outputs": [],
   "source": [
    "file_data.loc[:,\"户型\"]=temp_list\n",
    "#file_data"
   ]
  },
  {
   "cell_type": "markdown",
   "id": "9bd97bb3",
   "metadata": {},
   "source": [
    "# housedata annalyse by table"
   ]
  },
  {
   "cell_type": "markdown",
   "id": "6d4882fe",
   "metadata": {},
   "source": [
    "## annalyse of house number and positions"
   ]
  },
  {
   "cell_type": "code",
   "execution_count": 48,
   "id": "82696e09",
   "metadata": {},
   "outputs": [
    {
     "data": {
      "text/plain": [
       "(13,)"
      ]
     },
     "execution_count": 48,
     "metadata": {},
     "output_type": "execute_result"
    }
   ],
   "source": [
    "file_data[\"区域\"].unique().shape"
   ]
  },
  {
   "cell_type": "code",
   "execution_count": 65,
   "id": "edff19ad",
   "metadata": {},
   "outputs": [],
   "source": [
    "new_df=pd.DataFrame({\"area\":file_data[\"区域\"].unique(),\"number\":[0]*file_data[\"区域\"].unique().shape[0]})"
   ]
  },
  {
   "cell_type": "markdown",
   "id": "78124375",
   "metadata": {},
   "source": [
    "## get size of each area "
   ]
  },
  {
   "cell_type": "code",
   "execution_count": 51,
   "id": "32cdfd08",
   "metadata": {},
   "outputs": [
    {
     "data": {
      "text/html": [
       "<div>\n",
       "<style scoped>\n",
       "    .dataframe tbody tr th:only-of-type {\n",
       "        vertical-align: middle;\n",
       "    }\n",
       "\n",
       "    .dataframe tbody tr th {\n",
       "        vertical-align: top;\n",
       "    }\n",
       "\n",
       "    .dataframe thead th {\n",
       "        text-align: right;\n",
       "    }\n",
       "</style>\n",
       "<table border=\"1\" class=\"dataframe\">\n",
       "  <thead>\n",
       "    <tr style=\"text-align: right;\">\n",
       "      <th></th>\n",
       "      <th>小区名称</th>\n",
       "      <th>户型</th>\n",
       "      <th>面积(㎡)</th>\n",
       "      <th>价格(元/月)</th>\n",
       "    </tr>\n",
       "    <tr>\n",
       "      <th>区域</th>\n",
       "      <th></th>\n",
       "      <th></th>\n",
       "      <th></th>\n",
       "      <th></th>\n",
       "    </tr>\n",
       "  </thead>\n",
       "  <tbody>\n",
       "    <tr>\n",
       "      <th>东城</th>\n",
       "      <td>282</td>\n",
       "      <td>282</td>\n",
       "      <td>282</td>\n",
       "      <td>282</td>\n",
       "    </tr>\n",
       "    <tr>\n",
       "      <th>丰台</th>\n",
       "      <td>577</td>\n",
       "      <td>577</td>\n",
       "      <td>577</td>\n",
       "      <td>577</td>\n",
       "    </tr>\n",
       "    <tr>\n",
       "      <th>亦庄开发区</th>\n",
       "      <td>147</td>\n",
       "      <td>147</td>\n",
       "      <td>147</td>\n",
       "      <td>147</td>\n",
       "    </tr>\n",
       "    <tr>\n",
       "      <th>大兴</th>\n",
       "      <td>362</td>\n",
       "      <td>362</td>\n",
       "      <td>362</td>\n",
       "      <td>362</td>\n",
       "    </tr>\n",
       "    <tr>\n",
       "      <th>房山</th>\n",
       "      <td>180</td>\n",
       "      <td>180</td>\n",
       "      <td>180</td>\n",
       "      <td>180</td>\n",
       "    </tr>\n",
       "    <tr>\n",
       "      <th>昌平</th>\n",
       "      <td>347</td>\n",
       "      <td>347</td>\n",
       "      <td>347</td>\n",
       "      <td>347</td>\n",
       "    </tr>\n",
       "    <tr>\n",
       "      <th>朝阳</th>\n",
       "      <td>1597</td>\n",
       "      <td>1597</td>\n",
       "      <td>1597</td>\n",
       "      <td>1597</td>\n",
       "    </tr>\n",
       "    <tr>\n",
       "      <th>海淀</th>\n",
       "      <td>605</td>\n",
       "      <td>605</td>\n",
       "      <td>605</td>\n",
       "      <td>605</td>\n",
       "    </tr>\n",
       "    <tr>\n",
       "      <th>石景山</th>\n",
       "      <td>175</td>\n",
       "      <td>175</td>\n",
       "      <td>175</td>\n",
       "      <td>175</td>\n",
       "    </tr>\n",
       "    <tr>\n",
       "      <th>西城</th>\n",
       "      <td>442</td>\n",
       "      <td>442</td>\n",
       "      <td>442</td>\n",
       "      <td>442</td>\n",
       "    </tr>\n",
       "    <tr>\n",
       "      <th>通州</th>\n",
       "      <td>477</td>\n",
       "      <td>477</td>\n",
       "      <td>477</td>\n",
       "      <td>477</td>\n",
       "    </tr>\n",
       "    <tr>\n",
       "      <th>门头沟</th>\n",
       "      <td>285</td>\n",
       "      <td>285</td>\n",
       "      <td>285</td>\n",
       "      <td>285</td>\n",
       "    </tr>\n",
       "    <tr>\n",
       "      <th>顺义</th>\n",
       "      <td>297</td>\n",
       "      <td>297</td>\n",
       "      <td>297</td>\n",
       "      <td>297</td>\n",
       "    </tr>\n",
       "  </tbody>\n",
       "</table>\n",
       "</div>"
      ],
      "text/plain": [
       "       小区名称    户型  面积(㎡)  价格(元/月)\n",
       "区域                               \n",
       "东城      282   282    282      282\n",
       "丰台      577   577    577      577\n",
       "亦庄开发区   147   147    147      147\n",
       "大兴      362   362    362      362\n",
       "房山      180   180    180      180\n",
       "昌平      347   347    347      347\n",
       "朝阳     1597  1597   1597     1597\n",
       "海淀      605   605    605      605\n",
       "石景山     175   175    175      175\n",
       "西城      442   442    442      442\n",
       "通州      477   477    477      477\n",
       "门头沟     285   285    285      285\n",
       "顺义      297   297    297      297"
      ]
     },
     "execution_count": 51,
     "metadata": {},
     "output_type": "execute_result"
    }
   ],
   "source": [
    "area_count=file_data.groupby(by=\"区域\").count()\n",
    "area_count"
   ]
  },
  {
   "cell_type": "code",
   "execution_count": 58,
   "id": "d2b148b5",
   "metadata": {},
   "outputs": [
    {
     "data": {
      "text/plain": [
       "array([ 282,  577,  147,  362,  180,  347, 1597,  605,  175,  442,  477,\n",
       "        285,  297])"
      ]
     },
     "execution_count": 58,
     "metadata": {},
     "output_type": "execute_result"
    }
   ],
   "source": [
    "area_count.values[:,0]"
   ]
  },
  {
   "cell_type": "code",
   "execution_count": 69,
   "id": "2d0e443c",
   "metadata": {},
   "outputs": [
    {
     "data": {
      "text/html": [
       "<div>\n",
       "<style scoped>\n",
       "    .dataframe tbody tr th:only-of-type {\n",
       "        vertical-align: middle;\n",
       "    }\n",
       "\n",
       "    .dataframe tbody tr th {\n",
       "        vertical-align: top;\n",
       "    }\n",
       "\n",
       "    .dataframe thead th {\n",
       "        text-align: right;\n",
       "    }\n",
       "</style>\n",
       "<table border=\"1\" class=\"dataframe\">\n",
       "  <thead>\n",
       "    <tr style=\"text-align: right;\">\n",
       "      <th></th>\n",
       "      <th>area</th>\n",
       "      <th>number</th>\n",
       "    </tr>\n",
       "  </thead>\n",
       "  <tbody>\n",
       "    <tr>\n",
       "      <th>2</th>\n",
       "      <td>亦庄开发区</td>\n",
       "      <td>147</td>\n",
       "    </tr>\n",
       "    <tr>\n",
       "      <th>8</th>\n",
       "      <td>石景山</td>\n",
       "      <td>175</td>\n",
       "    </tr>\n",
       "    <tr>\n",
       "      <th>4</th>\n",
       "      <td>房山</td>\n",
       "      <td>180</td>\n",
       "    </tr>\n",
       "    <tr>\n",
       "      <th>0</th>\n",
       "      <td>东城</td>\n",
       "      <td>282</td>\n",
       "    </tr>\n",
       "    <tr>\n",
       "      <th>11</th>\n",
       "      <td>门头沟</td>\n",
       "      <td>285</td>\n",
       "    </tr>\n",
       "    <tr>\n",
       "      <th>12</th>\n",
       "      <td>顺义</td>\n",
       "      <td>297</td>\n",
       "    </tr>\n",
       "    <tr>\n",
       "      <th>5</th>\n",
       "      <td>昌平</td>\n",
       "      <td>347</td>\n",
       "    </tr>\n",
       "    <tr>\n",
       "      <th>3</th>\n",
       "      <td>大兴</td>\n",
       "      <td>362</td>\n",
       "    </tr>\n",
       "    <tr>\n",
       "      <th>9</th>\n",
       "      <td>西城</td>\n",
       "      <td>442</td>\n",
       "    </tr>\n",
       "    <tr>\n",
       "      <th>10</th>\n",
       "      <td>通州</td>\n",
       "      <td>477</td>\n",
       "    </tr>\n",
       "    <tr>\n",
       "      <th>1</th>\n",
       "      <td>丰台</td>\n",
       "      <td>577</td>\n",
       "    </tr>\n",
       "    <tr>\n",
       "      <th>7</th>\n",
       "      <td>海淀</td>\n",
       "      <td>605</td>\n",
       "    </tr>\n",
       "    <tr>\n",
       "      <th>6</th>\n",
       "      <td>朝阳</td>\n",
       "      <td>1597</td>\n",
       "    </tr>\n",
       "  </tbody>\n",
       "</table>\n",
       "</div>"
      ],
      "text/plain": [
       "     area  number\n",
       "2   亦庄开发区     147\n",
       "8     石景山     175\n",
       "4      房山     180\n",
       "0      东城     282\n",
       "11    门头沟     285\n",
       "12     顺义     297\n",
       "5      昌平     347\n",
       "3      大兴     362\n",
       "9      西城     442\n",
       "10     通州     477\n",
       "1      丰台     577\n",
       "7      海淀     605\n",
       "6      朝阳    1597"
      ]
     },
     "execution_count": 69,
     "metadata": {},
     "output_type": "execute_result"
    }
   ],
   "source": [
    "new_df[\"number\"]=area_count.values[:,0]\n",
    "new_df.sort_values(by=\"number\",ascending=True)"
   ]
  },
  {
   "cell_type": "markdown",
   "id": "38f8a8a2",
   "metadata": {},
   "source": [
    "## house type annalyse"
   ]
  },
  {
   "cell_type": "code",
   "execution_count": 128,
   "id": "f2246619",
   "metadata": {},
   "outputs": [
    {
     "data": {
      "text/plain": [
       "0    1室0厅\n",
       "1    3室0厅\n",
       "2    1室1厅\n",
       "3    2室1厅\n",
       "4    1室1厅\n",
       "Name: 户型, dtype: object"
      ]
     },
     "execution_count": 128,
     "metadata": {},
     "output_type": "execute_result"
    }
   ],
   "source": [
    "house_data=file_data[\"户型\"]\n",
    "house_data.head()\n",
    "\n"
   ]
  },
  {
   "cell_type": "code",
   "execution_count": 129,
   "id": "0f1f8ead",
   "metadata": {
    "scrolled": true
   },
   "outputs": [],
   "source": [
    "# def all_house(arr):\n",
    "#     key=np.unique(arr)\n",
    "#     result={}\n",
    "#     for k in arr:\n",
    "#         if k not in result:\n",
    "#             result[k]=1\n",
    "#         else:\n",
    "#             result[k]=result[k]+1\n",
    "#     return result\n",
    "# house_info=all_house(house_data)\n",
    "\n",
    "# house_dic=pd.DataFrame.from_dict(house_info,orient=\"index\",columns=[\"numbers\"])\n",
    "# house_dic=house_dic.reset_index().rename(columns={\"index\":\"type\"})\n",
    "# house_dic.sort_values(by=\"type\",ascending=True)"
   ]
  },
  {
   "cell_type": "code",
   "execution_count": null,
   "id": "8e6b1b22",
   "metadata": {},
   "outputs": [],
   "source": [
    "def all_house(arr):\n",
    "    key=np.unique(arr)\n",
    "    result={}\n",
    "    for k in key:\n",
    "        mask=(arr==k)\n",
    "        arr_new=arr[mask]\n",
    "        v=arr_new.size\n",
    "        result[k]=v\n",
    "    return result\n"
   ]
  },
  {
   "cell_type": "code",
   "execution_count": 133,
   "id": "9f5ac1a0",
   "metadata": {},
   "outputs": [],
   "source": [
    "house_info=all_house(house_data)\n",
    "# house_info"
   ]
  },
  {
   "cell_type": "code",
   "execution_count": 137,
   "id": "684a4319",
   "metadata": {},
   "outputs": [
    {
     "data": {
      "text/plain": [
       "{'1室0厅': 244,\n",
       " '1室1厅': 844,\n",
       " '2室1厅': 2249,\n",
       " '2室2厅': 265,\n",
       " '3室1厅': 766,\n",
       " '2室1卫': 120,\n",
       " '4室1厅': 58,\n",
       " '3室2厅': 489,\n",
       " '1室1卫': 126,\n",
       " '4室2厅': 191,\n",
       " '3室1卫': 92}"
      ]
     },
     "execution_count": 137,
     "metadata": {},
     "output_type": "execute_result"
    }
   ],
   "source": [
    "house_data=dict((key,value) for key,value in house_info.items() if value>50)\n",
    "house_data"
   ]
  },
  {
   "cell_type": "code",
   "execution_count": 144,
   "id": "10b1eaed",
   "metadata": {},
   "outputs": [],
   "source": [
    "house_analyse=pd.DataFrame({\"houseType\":[x for x in house_data.keys()],\n",
    "                    \"nums\":[x for x in house_data.values()]})\n",
    "house_analyse=house_analyse.sort_values(by=\"houseType\")"
   ]
  },
  {
   "cell_type": "code",
   "execution_count": 156,
   "id": "c2266145",
   "metadata": {},
   "outputs": [
    {
     "name": "stderr",
     "output_type": "stream",
     "text": [
      "/usr/local/lib/python3.8/dist-packages/matplotlib/backends/backend_agg.py:240: RuntimeWarning: Glyph 23460 missing from current font.\n",
      "  font.set_text(s, 0.0, flags=flags)\n",
      "/usr/local/lib/python3.8/dist-packages/matplotlib/backends/backend_agg.py:240: RuntimeWarning: Glyph 21381 missing from current font.\n",
      "  font.set_text(s, 0.0, flags=flags)\n",
      "/usr/local/lib/python3.8/dist-packages/matplotlib/backends/backend_agg.py:240: RuntimeWarning: Glyph 21355 missing from current font.\n",
      "  font.set_text(s, 0.0, flags=flags)\n",
      "/usr/local/lib/python3.8/dist-packages/matplotlib/backends/backend_agg.py:203: RuntimeWarning: Glyph 23460 missing from current font.\n",
      "  font.set_text(s, 0, flags=flags)\n",
      "/usr/local/lib/python3.8/dist-packages/matplotlib/backends/backend_agg.py:203: RuntimeWarning: Glyph 21381 missing from current font.\n",
      "  font.set_text(s, 0, flags=flags)\n",
      "/usr/local/lib/python3.8/dist-packages/matplotlib/backends/backend_agg.py:203: RuntimeWarning: Glyph 21355 missing from current font.\n",
      "  font.set_text(s, 0, flags=flags)\n"
     ]
    },
    {
     "data": {
      "image/png": "[encoded data removed]",
      "text/plain": [
       "<Figure size 432x288 with 1 Axes>"
      ]
     },
     "metadata": {
      "needs_background": "light"
     },
     "output_type": "display_data"
    }
   ],
   "source": [
    "house_type=house_analyse[\"houseType\"]\n",
    "house_type_num=house_analyse[\"nums\"]\n",
    "plt.barh(range(11),house_type_num)\n",
    "plt.yticks(range(11),house_type)\n",
    "plt.xlim(0,2500)\n",
    "plt.title(\"beijing house rents nums of each area\")\n",
    "plt.xlabel(\"nums\")\n",
    "plt.ylabel(\"type\")\n",
    "\n",
    "# add number deracator of each bar\n",
    "for x,y in enumerate(house_type_num):\n",
    "    plt.text(y,x,\"%s\"%y)\n",
    "\n",
    "plt.show()"
   ]
  },
  {
   "cell_type": "markdown",
   "id": "835045f4",
   "metadata": {},
   "source": [
    "## average rent annalyse"
   ]
  },
  {
   "cell_type": "code",
   "execution_count": null,
   "id": "c1bfee92",
   "metadata": {},
   "outputs": [],
   "source": [
    "# 区域 \t小区名称 \t户型 \t面积(㎡) \t价格(元/月)"
   ]
  },
  {
   "cell_type": "code",
   "execution_count": 157,
   "id": "f0e3aa7d",
   "metadata": {},
   "outputs": [
    {
     "data": {
      "text/html": [
       "<div>\n",
       "<style scoped>\n",
       "    .dataframe tbody tr th:only-of-type {\n",
       "        vertical-align: middle;\n",
       "    }\n",
       "\n",
       "    .dataframe tbody tr th {\n",
       "        vertical-align: top;\n",
       "    }\n",
       "\n",
       "    .dataframe thead th {\n",
       "        text-align: right;\n",
       "    }\n",
       "</style>\n",
       "<table border=\"1\" class=\"dataframe\">\n",
       "  <thead>\n",
       "    <tr style=\"text-align: right;\">\n",
       "      <th></th>\n",
       "      <th>area</th>\n",
       "      <th>totalCost</th>\n",
       "      <th>totalArea</th>\n",
       "    </tr>\n",
       "  </thead>\n",
       "  <tbody>\n",
       "    <tr>\n",
       "      <th>0</th>\n",
       "      <td>东城</td>\n",
       "      <td>0</td>\n",
       "      <td>0</td>\n",
       "    </tr>\n",
       "    <tr>\n",
       "      <th>1</th>\n",
       "      <td>丰台</td>\n",
       "      <td>0</td>\n",
       "      <td>0</td>\n",
       "    </tr>\n",
       "    <tr>\n",
       "      <th>2</th>\n",
       "      <td>亦庄开发区</td>\n",
       "      <td>0</td>\n",
       "      <td>0</td>\n",
       "    </tr>\n",
       "    <tr>\n",
       "      <th>3</th>\n",
       "      <td>大兴</td>\n",
       "      <td>0</td>\n",
       "      <td>0</td>\n",
       "    </tr>\n",
       "    <tr>\n",
       "      <th>4</th>\n",
       "      <td>房山</td>\n",
       "      <td>0</td>\n",
       "      <td>0</td>\n",
       "    </tr>\n",
       "    <tr>\n",
       "      <th>5</th>\n",
       "      <td>昌平</td>\n",
       "      <td>0</td>\n",
       "      <td>0</td>\n",
       "    </tr>\n",
       "    <tr>\n",
       "      <th>6</th>\n",
       "      <td>朝阳</td>\n",
       "      <td>0</td>\n",
       "      <td>0</td>\n",
       "    </tr>\n",
       "    <tr>\n",
       "      <th>7</th>\n",
       "      <td>海淀</td>\n",
       "      <td>0</td>\n",
       "      <td>0</td>\n",
       "    </tr>\n",
       "    <tr>\n",
       "      <th>8</th>\n",
       "      <td>石景山</td>\n",
       "      <td>0</td>\n",
       "      <td>0</td>\n",
       "    </tr>\n",
       "    <tr>\n",
       "      <th>9</th>\n",
       "      <td>西城</td>\n",
       "      <td>0</td>\n",
       "      <td>0</td>\n",
       "    </tr>\n",
       "    <tr>\n",
       "      <th>10</th>\n",
       "      <td>通州</td>\n",
       "      <td>0</td>\n",
       "      <td>0</td>\n",
       "    </tr>\n",
       "    <tr>\n",
       "      <th>11</th>\n",
       "      <td>门头沟</td>\n",
       "      <td>0</td>\n",
       "      <td>0</td>\n",
       "    </tr>\n",
       "    <tr>\n",
       "      <th>12</th>\n",
       "      <td>顺义</td>\n",
       "      <td>0</td>\n",
       "      <td>0</td>\n",
       "    </tr>\n",
       "  </tbody>\n",
       "</table>\n",
       "</div>"
      ],
      "text/plain": [
       "     area  totalCost  totalArea\n",
       "0      东城          0          0\n",
       "1      丰台          0          0\n",
       "2   亦庄开发区          0          0\n",
       "3      大兴          0          0\n",
       "4      房山          0          0\n",
       "5      昌平          0          0\n",
       "6      朝阳          0          0\n",
       "7      海淀          0          0\n",
       "8     石景山          0          0\n",
       "9      西城          0          0\n",
       "10     通州          0          0\n",
       "11    门头沟          0          0\n",
       "12     顺义          0          0"
      ]
     },
     "execution_count": 157,
     "metadata": {},
     "output_type": "execute_result"
    }
   ],
   "source": [
    "df_all=pd.DataFrame({\"area\":file_data[\"区域\"].unique(),\n",
    "              \"totalCost\":[0]*file_data[\"区域\"].unique().shape[0],\n",
    "              \"totalArea\":[0]*13\n",
    "             })\n",
    "df_all"
   ]
  },
  {
   "cell_type": "code",
   "execution_count": 161,
   "id": "4bcaa0c9",
   "metadata": {},
   "outputs": [],
   "source": [
    "sum_price=file_data[\"价格(元/月)\"].groupby(file_data[\"区域\"]).sum()\n",
    "sum_area=file_data[\"面积(㎡)\"].groupby(file_data[\"区域\"]).sum()\n",
    "#sum_area"
   ]
  },
  {
   "cell_type": "code",
   "execution_count": 162,
   "id": "e697852c",
   "metadata": {},
   "outputs": [
    {
     "data": {
      "text/html": [
       "<div>\n",
       "<style scoped>\n",
       "    .dataframe tbody tr th:only-of-type {\n",
       "        vertical-align: middle;\n",
       "    }\n",
       "\n",
       "    .dataframe tbody tr th {\n",
       "        vertical-align: top;\n",
       "    }\n",
       "\n",
       "    .dataframe thead th {\n",
       "        text-align: right;\n",
       "    }\n",
       "</style>\n",
       "<table border=\"1\" class=\"dataframe\">\n",
       "  <thead>\n",
       "    <tr style=\"text-align: right;\">\n",
       "      <th></th>\n",
       "      <th>area</th>\n",
       "      <th>totalCost</th>\n",
       "      <th>totalArea</th>\n",
       "    </tr>\n",
       "  </thead>\n",
       "  <tbody>\n",
       "    <tr>\n",
       "      <th>0</th>\n",
       "      <td>东城</td>\n",
       "      <td>3945550</td>\n",
       "      <td>27353.99</td>\n",
       "    </tr>\n",
       "    <tr>\n",
       "      <th>1</th>\n",
       "      <td>丰台</td>\n",
       "      <td>4404893</td>\n",
       "      <td>50922.79</td>\n",
       "    </tr>\n",
       "    <tr>\n",
       "      <th>2</th>\n",
       "      <td>亦庄开发区</td>\n",
       "      <td>1318400</td>\n",
       "      <td>15995.53</td>\n",
       "    </tr>\n",
       "    <tr>\n",
       "      <th>3</th>\n",
       "      <td>大兴</td>\n",
       "      <td>2286950</td>\n",
       "      <td>35884.15</td>\n",
       "    </tr>\n",
       "    <tr>\n",
       "      <th>4</th>\n",
       "      <td>房山</td>\n",
       "      <td>726750</td>\n",
       "      <td>15275.41</td>\n",
       "    </tr>\n",
       "    <tr>\n",
       "      <th>5</th>\n",
       "      <td>昌平</td>\n",
       "      <td>2521515</td>\n",
       "      <td>35972.92</td>\n",
       "    </tr>\n",
       "    <tr>\n",
       "      <th>6</th>\n",
       "      <td>朝阳</td>\n",
       "      <td>20281396</td>\n",
       "      <td>166921.72</td>\n",
       "    </tr>\n",
       "    <tr>\n",
       "      <th>7</th>\n",
       "      <td>海淀</td>\n",
       "      <td>7279350</td>\n",
       "      <td>57210.39</td>\n",
       "    </tr>\n",
       "    <tr>\n",
       "      <th>8</th>\n",
       "      <td>石景山</td>\n",
       "      <td>1156500</td>\n",
       "      <td>13956.67</td>\n",
       "    </tr>\n",
       "    <tr>\n",
       "      <th>9</th>\n",
       "      <td>西城</td>\n",
       "      <td>5636975</td>\n",
       "      <td>37141.64</td>\n",
       "    </tr>\n",
       "    <tr>\n",
       "      <th>10</th>\n",
       "      <td>通州</td>\n",
       "      <td>2719600</td>\n",
       "      <td>46625.23</td>\n",
       "    </tr>\n",
       "    <tr>\n",
       "      <th>11</th>\n",
       "      <td>门头沟</td>\n",
       "      <td>1048300</td>\n",
       "      <td>20258.20</td>\n",
       "    </tr>\n",
       "    <tr>\n",
       "      <th>12</th>\n",
       "      <td>顺义</td>\n",
       "      <td>2190900</td>\n",
       "      <td>33668.97</td>\n",
       "    </tr>\n",
       "  </tbody>\n",
       "</table>\n",
       "</div>"
      ],
      "text/plain": [
       "     area  totalCost  totalArea\n",
       "0      东城    3945550   27353.99\n",
       "1      丰台    4404893   50922.79\n",
       "2   亦庄开发区    1318400   15995.53\n",
       "3      大兴    2286950   35884.15\n",
       "4      房山     726750   15275.41\n",
       "5      昌平    2521515   35972.92\n",
       "6      朝阳   20281396  166921.72\n",
       "7      海淀    7279350   57210.39\n",
       "8     石景山    1156500   13956.67\n",
       "9      西城    5636975   37141.64\n",
       "10     通州    2719600   46625.23\n",
       "11    门头沟    1048300   20258.20\n",
       "12     顺义    2190900   33668.97"
      ]
     },
     "execution_count": 162,
     "metadata": {},
     "output_type": "execute_result"
    }
   ],
   "source": [
    "df_all[\"totalCost\"]=sum_price.values\n",
    "df_all[\"totalArea\"]=sum_area.values\n",
    "df_all"
   ]
  },
  {
   "cell_type": "markdown",
   "id": "d03eb031",
   "metadata": {},
   "source": [
    "## calculate single m^2 price of each area"
   ]
  },
  {
   "cell_type": "code",
   "execution_count": 164,
   "id": "b77e6cd6",
   "metadata": {},
   "outputs": [
    {
     "data": {
      "text/html": [
       "<div>\n",
       "<style scoped>\n",
       "    .dataframe tbody tr th:only-of-type {\n",
       "        vertical-align: middle;\n",
       "    }\n",
       "\n",
       "    .dataframe tbody tr th {\n",
       "        vertical-align: top;\n",
       "    }\n",
       "\n",
       "    .dataframe thead th {\n",
       "        text-align: right;\n",
       "    }\n",
       "</style>\n",
       "<table border=\"1\" class=\"dataframe\">\n",
       "  <thead>\n",
       "    <tr style=\"text-align: right;\">\n",
       "      <th></th>\n",
       "      <th>area</th>\n",
       "      <th>totalCost</th>\n",
       "      <th>totalArea</th>\n",
       "      <th>single price</th>\n",
       "    </tr>\n",
       "  </thead>\n",
       "  <tbody>\n",
       "    <tr>\n",
       "      <th>0</th>\n",
       "      <td>东城</td>\n",
       "      <td>3945550</td>\n",
       "      <td>27353.99</td>\n",
       "      <td>144.24</td>\n",
       "    </tr>\n",
       "    <tr>\n",
       "      <th>1</th>\n",
       "      <td>丰台</td>\n",
       "      <td>4404893</td>\n",
       "      <td>50922.79</td>\n",
       "      <td>86.50</td>\n",
       "    </tr>\n",
       "    <tr>\n",
       "      <th>2</th>\n",
       "      <td>亦庄开发区</td>\n",
       "      <td>1318400</td>\n",
       "      <td>15995.53</td>\n",
       "      <td>82.42</td>\n",
       "    </tr>\n",
       "    <tr>\n",
       "      <th>3</th>\n",
       "      <td>大兴</td>\n",
       "      <td>2286950</td>\n",
       "      <td>35884.15</td>\n",
       "      <td>63.73</td>\n",
       "    </tr>\n",
       "    <tr>\n",
       "      <th>4</th>\n",
       "      <td>房山</td>\n",
       "      <td>726750</td>\n",
       "      <td>15275.41</td>\n",
       "      <td>47.58</td>\n",
       "    </tr>\n",
       "    <tr>\n",
       "      <th>5</th>\n",
       "      <td>昌平</td>\n",
       "      <td>2521515</td>\n",
       "      <td>35972.92</td>\n",
       "      <td>70.09</td>\n",
       "    </tr>\n",
       "    <tr>\n",
       "      <th>6</th>\n",
       "      <td>朝阳</td>\n",
       "      <td>20281396</td>\n",
       "      <td>166921.72</td>\n",
       "      <td>121.50</td>\n",
       "    </tr>\n",
       "    <tr>\n",
       "      <th>7</th>\n",
       "      <td>海淀</td>\n",
       "      <td>7279350</td>\n",
       "      <td>57210.39</td>\n",
       "      <td>127.24</td>\n",
       "    </tr>\n",
       "    <tr>\n",
       "      <th>8</th>\n",
       "      <td>石景山</td>\n",
       "      <td>1156500</td>\n",
       "      <td>13956.67</td>\n",
       "      <td>82.86</td>\n",
       "    </tr>\n",
       "    <tr>\n",
       "      <th>9</th>\n",
       "      <td>西城</td>\n",
       "      <td>5636975</td>\n",
       "      <td>37141.64</td>\n",
       "      <td>151.77</td>\n",
       "    </tr>\n",
       "    <tr>\n",
       "      <th>10</th>\n",
       "      <td>通州</td>\n",
       "      <td>2719600</td>\n",
       "      <td>46625.23</td>\n",
       "      <td>58.33</td>\n",
       "    </tr>\n",
       "    <tr>\n",
       "      <th>11</th>\n",
       "      <td>门头沟</td>\n",
       "      <td>1048300</td>\n",
       "      <td>20258.20</td>\n",
       "      <td>51.75</td>\n",
       "    </tr>\n",
       "    <tr>\n",
       "      <th>12</th>\n",
       "      <td>顺义</td>\n",
       "      <td>2190900</td>\n",
       "      <td>33668.97</td>\n",
       "      <td>65.07</td>\n",
       "    </tr>\n",
       "  </tbody>\n",
       "</table>\n",
       "</div>"
      ],
      "text/plain": [
       "     area  totalCost  totalArea  single price\n",
       "0      东城    3945550   27353.99        144.24\n",
       "1      丰台    4404893   50922.79         86.50\n",
       "2   亦庄开发区    1318400   15995.53         82.42\n",
       "3      大兴    2286950   35884.15         63.73\n",
       "4      房山     726750   15275.41         47.58\n",
       "5      昌平    2521515   35972.92         70.09\n",
       "6      朝阳   20281396  166921.72        121.50\n",
       "7      海淀    7279350   57210.39        127.24\n",
       "8     石景山    1156500   13956.67         82.86\n",
       "9      西城    5636975   37141.64        151.77\n",
       "10     通州    2719600   46625.23         58.33\n",
       "11    门头沟    1048300   20258.20         51.75\n",
       "12     顺义    2190900   33668.97         65.07"
      ]
     },
     "execution_count": 164,
     "metadata": {},
     "output_type": "execute_result"
    }
   ],
   "source": [
    "df_all[\"single price\"]=round(df_all[\"totalCost\"]/df_all[\"totalArea\"],2)\n",
    "df_all"
   ]
  },
  {
   "cell_type": "code",
   "execution_count": 169,
   "id": "7aa55d80",
   "metadata": {},
   "outputs": [
    {
     "data": {
      "text/html": [
       "<div>\n",
       "<style scoped>\n",
       "    .dataframe tbody tr th:only-of-type {\n",
       "        vertical-align: middle;\n",
       "    }\n",
       "\n",
       "    .dataframe tbody tr th {\n",
       "        vertical-align: top;\n",
       "    }\n",
       "\n",
       "    .dataframe thead th {\n",
       "        text-align: right;\n",
       "    }\n",
       "</style>\n",
       "<table border=\"1\" class=\"dataframe\">\n",
       "  <thead>\n",
       "    <tr style=\"text-align: right;\">\n",
       "      <th></th>\n",
       "      <th>area</th>\n",
       "      <th>number</th>\n",
       "      <th>totalCost</th>\n",
       "      <th>totalArea</th>\n",
       "      <th>single price</th>\n",
       "    </tr>\n",
       "  </thead>\n",
       "  <tbody>\n",
       "    <tr>\n",
       "      <th>0</th>\n",
       "      <td>东城</td>\n",
       "      <td>282</td>\n",
       "      <td>3945550</td>\n",
       "      <td>27353.99</td>\n",
       "      <td>144.24</td>\n",
       "    </tr>\n",
       "    <tr>\n",
       "      <th>1</th>\n",
       "      <td>丰台</td>\n",
       "      <td>577</td>\n",
       "      <td>4404893</td>\n",
       "      <td>50922.79</td>\n",
       "      <td>86.50</td>\n",
       "    </tr>\n",
       "    <tr>\n",
       "      <th>2</th>\n",
       "      <td>亦庄开发区</td>\n",
       "      <td>147</td>\n",
       "      <td>1318400</td>\n",
       "      <td>15995.53</td>\n",
       "      <td>82.42</td>\n",
       "    </tr>\n",
       "    <tr>\n",
       "      <th>3</th>\n",
       "      <td>大兴</td>\n",
       "      <td>362</td>\n",
       "      <td>2286950</td>\n",
       "      <td>35884.15</td>\n",
       "      <td>63.73</td>\n",
       "    </tr>\n",
       "    <tr>\n",
       "      <th>4</th>\n",
       "      <td>房山</td>\n",
       "      <td>180</td>\n",
       "      <td>726750</td>\n",
       "      <td>15275.41</td>\n",
       "      <td>47.58</td>\n",
       "    </tr>\n",
       "    <tr>\n",
       "      <th>5</th>\n",
       "      <td>昌平</td>\n",
       "      <td>347</td>\n",
       "      <td>2521515</td>\n",
       "      <td>35972.92</td>\n",
       "      <td>70.09</td>\n",
       "    </tr>\n",
       "    <tr>\n",
       "      <th>6</th>\n",
       "      <td>朝阳</td>\n",
       "      <td>1597</td>\n",
       "      <td>20281396</td>\n",
       "      <td>166921.72</td>\n",
       "      <td>121.50</td>\n",
       "    </tr>\n",
       "    <tr>\n",
       "      <th>7</th>\n",
       "      <td>海淀</td>\n",
       "      <td>605</td>\n",
       "      <td>7279350</td>\n",
       "      <td>57210.39</td>\n",
       "      <td>127.24</td>\n",
       "    </tr>\n",
       "    <tr>\n",
       "      <th>8</th>\n",
       "      <td>石景山</td>\n",
       "      <td>175</td>\n",
       "      <td>1156500</td>\n",
       "      <td>13956.67</td>\n",
       "      <td>82.86</td>\n",
       "    </tr>\n",
       "    <tr>\n",
       "      <th>9</th>\n",
       "      <td>西城</td>\n",
       "      <td>442</td>\n",
       "      <td>5636975</td>\n",
       "      <td>37141.64</td>\n",
       "      <td>151.77</td>\n",
       "    </tr>\n",
       "    <tr>\n",
       "      <th>10</th>\n",
       "      <td>通州</td>\n",
       "      <td>477</td>\n",
       "      <td>2719600</td>\n",
       "      <td>46625.23</td>\n",
       "      <td>58.33</td>\n",
       "    </tr>\n",
       "    <tr>\n",
       "      <th>11</th>\n",
       "      <td>门头沟</td>\n",
       "      <td>285</td>\n",
       "      <td>1048300</td>\n",
       "      <td>20258.20</td>\n",
       "      <td>51.75</td>\n",
       "    </tr>\n",
       "    <tr>\n",
       "      <th>12</th>\n",
       "      <td>顺义</td>\n",
       "      <td>297</td>\n",
       "      <td>2190900</td>\n",
       "      <td>33668.97</td>\n",
       "      <td>65.07</td>\n",
       "    </tr>\n",
       "  </tbody>\n",
       "</table>\n",
       "</div>"
      ],
      "text/plain": [
       "     area  number  totalCost  totalArea  single price\n",
       "0      东城     282    3945550   27353.99        144.24\n",
       "1      丰台     577    4404893   50922.79         86.50\n",
       "2   亦庄开发区     147    1318400   15995.53         82.42\n",
       "3      大兴     362    2286950   35884.15         63.73\n",
       "4      房山     180     726750   15275.41         47.58\n",
       "5      昌平     347    2521515   35972.92         70.09\n",
       "6      朝阳    1597   20281396  166921.72        121.50\n",
       "7      海淀     605    7279350   57210.39        127.24\n",
       "8     石景山     175    1156500   13956.67         82.86\n",
       "9      西城     442    5636975   37141.64        151.77\n",
       "10     通州     477    2719600   46625.23         58.33\n",
       "11    门头沟     285    1048300   20258.20         51.75\n",
       "12     顺义     297    2190900   33668.97         65.07"
      ]
     },
     "execution_count": 169,
     "metadata": {},
     "output_type": "execute_result"
    }
   ],
   "source": [
    "df_merge=pd.merge(new_df,df_all)\n",
    "df_merge"
   ]
  },
  {
   "cell_type": "markdown",
   "id": "dcb84509",
   "metadata": {},
   "source": [
    "### show in picture"
   ]
  },
  {
   "cell_type": "code",
   "execution_count": 189,
   "id": "e1552a6d",
   "metadata": {},
   "outputs": [
    {
     "data": {
      "image/png": "[encoded data removed]",
      "text/plain": [
       "<Figure size 1000x800 with 2 Axes>"
      ]
     },
     "metadata": {
      "needs_background": "light"
     },
     "output_type": "display_data"
    }
   ],
   "source": [
    "num=df_merge[\"number\"]\n",
    "price=df_merge[\"single price\"]\n",
    "lx=df_merge[\"area\"]\n",
    "l=[i for i in range(13)]\n",
    "fig=plt.figure(figsize=(10,8),dpi=100)\n",
    "\n",
    "#display liner picture\n",
    "axl=fig.add_subplot(111)\n",
    "\n",
    "axl.plot(l,price,\"or-\",label=\"price\")\n",
    "for i,(_x,_y)in enumerate(zip(l,price)):\n",
    "    plt.text(_x+0.1,_y,price[i])\n",
    "axl.set_ylim([0,160])\n",
    "axl.set_ylabel(\"price\")\n",
    "plt.legend(loc=\"best\")\n",
    "\n",
    "#display bow line picture\n",
    "ax2=axl.twinx()\n",
    "plt.bar(l,num,label=\"size\",alpha=0.2,color=\"green\")\n",
    "ax2.set_ylabel(\"size\")\n",
    "plt.legend(loc=\"upper left\")\n",
    "# plt.xticks(l,lx)\n",
    "plt.show()"
   ]
  },
  {
   "cell_type": "markdown",
   "id": "6486b069",
   "metadata": {},
   "source": [
    "## basic area annalyse"
   ]
  },
  {
   "cell_type": "code",
   "execution_count": null,
   "id": "8e26ddd1",
   "metadata": {},
   "outputs": [],
   "source": [
    "# 区域 \t小区名称 \t户型 \t面积(㎡) \t价格(元/月)"
   ]
  },
  {
   "cell_type": "code",
   "execution_count": 192,
   "id": "9b33b10f",
   "metadata": {},
   "outputs": [
    {
     "name": "stdout",
     "output_type": "stream",
     "text": [
      "max house area is 1133.0\n",
      "min house area is 11.63\n",
      "max house price is 150000\n",
      "min house price is 566\n"
     ]
    }
   ],
   "source": [
    "print(\"max house area is %s\"%file_data[\"面积(㎡)\"].max())\n",
    "print(\"min house area is %s\"%file_data[\"面积(㎡)\"].min())\n",
    "print(\"max house price is %s\"%file_data[\"价格(元/月)\"].max())\n",
    "print(\"min house price is %s\"%file_data[\"价格(元/月)\"].min())"
   ]
  },
  {
   "cell_type": "code",
   "execution_count": 194,
   "id": "5326631f",
   "metadata": {},
   "outputs": [],
   "source": [
    "area_divide=[1,30,50,70,90,120,140,160,1200]\n",
    "area_cut=pd.cut(list(file_data[\"面积(㎡)\"]),area_divide)"
   ]
  },
  {
   "cell_type": "code",
   "execution_count": 197,
   "id": "69b59a53",
   "metadata": {},
   "outputs": [
    {
     "data": {
      "text/html": [
       "<div>\n",
       "<style scoped>\n",
       "    .dataframe tbody tr th:only-of-type {\n",
       "        vertical-align: middle;\n",
       "    }\n",
       "\n",
       "    .dataframe tbody tr th {\n",
       "        vertical-align: top;\n",
       "    }\n",
       "\n",
       "    .dataframe thead th {\n",
       "        text-align: right;\n",
       "    }\n",
       "</style>\n",
       "<table border=\"1\" class=\"dataframe\">\n",
       "  <thead>\n",
       "    <tr style=\"text-align: right;\">\n",
       "      <th></th>\n",
       "      <th>counts</th>\n",
       "      <th>freqs</th>\n",
       "    </tr>\n",
       "    <tr>\n",
       "      <th>categories</th>\n",
       "      <th></th>\n",
       "      <th></th>\n",
       "    </tr>\n",
       "  </thead>\n",
       "  <tbody>\n",
       "    <tr>\n",
       "      <th>(1, 30]</th>\n",
       "      <td>41</td>\n",
       "      <td>0.007102</td>\n",
       "    </tr>\n",
       "    <tr>\n",
       "      <th>(30, 50]</th>\n",
       "      <td>710</td>\n",
       "      <td>0.122986</td>\n",
       "    </tr>\n",
       "    <tr>\n",
       "      <th>(50, 70]</th>\n",
       "      <td>1566</td>\n",
       "      <td>0.271263</td>\n",
       "    </tr>\n",
       "    <tr>\n",
       "      <th>(70, 90]</th>\n",
       "      <td>1094</td>\n",
       "      <td>0.189503</td>\n",
       "    </tr>\n",
       "    <tr>\n",
       "      <th>(90, 120]</th>\n",
       "      <td>1082</td>\n",
       "      <td>0.187424</td>\n",
       "    </tr>\n",
       "    <tr>\n",
       "      <th>(120, 140]</th>\n",
       "      <td>381</td>\n",
       "      <td>0.065997</td>\n",
       "    </tr>\n",
       "    <tr>\n",
       "      <th>(140, 160]</th>\n",
       "      <td>274</td>\n",
       "      <td>0.047462</td>\n",
       "    </tr>\n",
       "    <tr>\n",
       "      <th>(160, 1200]</th>\n",
       "      <td>625</td>\n",
       "      <td>0.108263</td>\n",
       "    </tr>\n",
       "  </tbody>\n",
       "</table>\n",
       "</div>"
      ],
      "text/plain": [
       "             counts     freqs\n",
       "categories                   \n",
       "(1, 30]          41  0.007102\n",
       "(30, 50]        710  0.122986\n",
       "(50, 70]       1566  0.271263\n",
       "(70, 90]       1094  0.189503\n",
       "(90, 120]      1082  0.187424\n",
       "(120, 140]      381  0.065997\n",
       "(140, 160]      274  0.047462\n",
       "(160, 1200]     625  0.108263"
      ]
     },
     "execution_count": 197,
     "metadata": {},
     "output_type": "execute_result"
    }
   ],
   "source": [
    "area_count_num=area_cut.describe()\n",
    "area_count_num"
   ]
  },
  {
   "cell_type": "code",
   "execution_count": 209,
   "id": "abd03336",
   "metadata": {},
   "outputs": [
    {
     "data": {
      "image/png": "[encoded data removed]",
      "text/plain": [
       "<Figure size 2000x800 with 1 Axes>"
      ]
     },
     "metadata": {},
     "output_type": "display_data"
    }
   ],
   "source": [
    "# data visualization\n",
    "area_per=(area_count_num[\"freqs\"].values)*100\n",
    "# area_per\n",
    "labels=[\"under 30m^2\",\"30 - 50 m^2\",\"50 - 70 m^2\"\n",
    "        ,\"70 - 90 m^2\",\"90 - 120 m^2\",\"120 - 140 m^2\",\"140 - 160 m^2\",\"over 160 m^2\"]\n",
    "plt.figure(figsize=(20,8),dpi=100)\n",
    "plt.axes()\n",
    "plt.pie(x=area_per,labels=labels,autopct=\"%.2f %%\")\n",
    "plt.legend()\n",
    "plt.show()\n"
   ]
  },
  {
   "cell_type": "code",
   "execution_count": null,
   "id": "7eed067e",
   "metadata": {},
   "outputs": [],
   "source": []
  },
  {
   "cell_type": "code",
   "execution_count": null,
   "id": "b2da28c9",
   "metadata": {},
   "outputs": [],
   "source": []
  },
  {
   "cell_type": "code",
   "execution_count": null,
   "id": "2ccfd247",
   "metadata": {},
   "outputs": [],
   "source": []
  },
  {
   "cell_type": "code",
   "execution_count": null,
   "id": "91a62012",
   "metadata": {},
   "outputs": [],
   "source": []
  },
  {
   "cell_type": "code",
   "execution_count": null,
   "id": "d60a0ee7",
   "metadata": {},
   "outputs": [],
   "source": []
  },
  {
   "cell_type": "code",
   "execution_count": null,
   "id": "7481b3cb",
   "metadata": {},
   "outputs": [],
   "source": []
  },
  {
   "cell_type": "code",
   "execution_count": null,
   "id": "f420b928",
   "metadata": {},
   "outputs": [],
   "source": []
  },
  {
   "cell_type": "code",
   "execution_count": null,
   "id": "8e6555f4",
   "metadata": {},
   "outputs": [],
   "source": []
  }
 ],
 "metadata": {
  "kernelspec": {
   "display_name": "Python 3 (ipykernel)",
   "language": "python",
   "name": "python3"
  },
  "language_info": {
   "codemirror_mode": {
    "name": "ipython",
    "version": 3
   },
   "file_extension": ".py",
   "mimetype": "text/x-python",
   "name": "python",
   "nbconvert_exporter": "python",
   "pygments_lexer": "ipython3",
   "version": "3.8.10"
  },
  "toc": {
   "base_numbering": 1,
   "nav_menu": {},
   "number_sections": true,
   "sideBar": true,
   "skip_h1_title": false,
   "title_cell": "Table of Contents",
   "title_sidebar": "Contents",
   "toc_cell": false,
   "toc_position": {},
   "toc_section_display": true,
   "toc_window_display": false
  }
 },
 "nbformat": 4,
 "nbformat_minor": 5
}
