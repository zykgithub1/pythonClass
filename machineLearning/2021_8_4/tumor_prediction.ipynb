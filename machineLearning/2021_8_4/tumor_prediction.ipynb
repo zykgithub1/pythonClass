{
 "cells": [
  {
   "cell_type": "code",
   "execution_count": 47,
   "id": "7d160c0c",
   "metadata": {},
   "outputs": [],
   "source": [
    "import pandas as pd\n",
    "import numpy as np\n",
    "from sklearn.model_selection import train_test_split\n",
    "from sklearn.preprocessing import StandardScaler\n",
    "from sklearn.linear_model import LogisticRegression\n",
    "from sklearn.metrics import classification_report,roc_auc_score"
   ]
  },
  {
   "cell_type": "code",
   "execution_count": 19,
   "id": "0f20f2fc",
   "metadata": {},
   "outputs": [],
   "source": [
    "#get data\n",
    "names = ['Sample code number', 'Clump Thickness', 'Uniformity of Cell Size', 'Uniformity of Cell Shape',\n",
    "                   'Marginal Adhesion', 'Single Epithelial Cell Size', 'Bare Nuclei', 'Bland Chromatin',\n",
    "                   'Normal Nucleoli', 'Mitoses', 'Class']\n",
    "data = pd.read_csv(\"./breast-cancer-wisconsin.data\",names=names)\n"
   ]
  },
  {
   "cell_type": "code",
   "execution_count": 21,
   "id": "a55e7669",
   "metadata": {},
   "outputs": [
    {
     "data": {
      "text/plain": [
       "(683, 11)"
      ]
     },
     "execution_count": 21,
     "metadata": {},
     "output_type": "execute_result"
    }
   ],
   "source": [
    "#basic data procedure\n",
    "# -> deal with lost data \n",
    "# data.shape  ->(699,11)\n",
    "data=data.replace(to_replace='?',value=np.nan)\n",
    "data=data.dropna()\n",
    "data.shape"
   ]
  },
  {
   "cell_type": "code",
   "execution_count": 25,
   "id": "a6dd4a54",
   "metadata": {},
   "outputs": [],
   "source": [
    "x=data.iloc[:,1:-1]"
   ]
  },
  {
   "cell_type": "code",
   "execution_count": 24,
   "id": "1171a04e",
   "metadata": {},
   "outputs": [],
   "source": [
    "y=data.Class"
   ]
  },
  {
   "cell_type": "code",
   "execution_count": 27,
   "id": "3f4e7fcd",
   "metadata": {},
   "outputs": [],
   "source": [
    "#split data\n",
    "x_train,x_test,y_train,y_test=train_test_split(x,y,random_state=22,test_size=0.2)"
   ]
  },
  {
   "cell_type": "code",
   "execution_count": 28,
   "id": "e50ca061",
   "metadata": {},
   "outputs": [],
   "source": [
    "#fearture project ->Standardization\n",
    "transfer=StandardScaler()\n",
    "x_train=transfer.fit_transform(x_train)\n",
    "x_test=transfer.fit_transform(x_test)"
   ]
  },
  {
   "cell_type": "code",
   "execution_count": 29,
   "id": "e4c59d0a",
   "metadata": {},
   "outputs": [
    {
     "data": {
      "text/plain": [
       "LogisticRegression()"
      ]
     },
     "execution_count": 29,
     "metadata": {},
     "output_type": "execute_result"
    }
   ],
   "source": [
    "estimator=LogisticRegression()\n",
    "estimator.fit(x_train,y_train)"
   ]
  },
  {
   "cell_type": "code",
   "execution_count": 36,
   "id": "26063146",
   "metadata": {},
   "outputs": [
    {
     "name": "stdout",
     "output_type": "stream",
     "text": [
      "accuracu is :->0.9854014598540146\n",
      "\n",
      "prediction is [2 4 4 2 2 2 2 2 2 2 2 2 2 4 2 2 4 4 4 2 4 2 4 4 4 2 4 2 2 2 2 2 4 2 2 2 4\n",
      " 2 2 2 2 4 2 4 4 4 4 2 4 4 2 2 2 2 2 4 2 2 2 2 4 4 4 4 2 4 2 2 4 2 2 2 2 4\n",
      " 2 2 2 2 2 2 4 4 4 2 4 4 4 4 2 2 2 4 2 4 2 2 2 2 2 2 4 2 2 4 2 2 4 2 4 4 2\n",
      " 2 2 2 4 2 2 2 2 2 2 4 2 4 2 2 2 4 2 4 2 2 2 4 2 2 2]\n",
      "\n"
     ]
    }
   ],
   "source": [
    "#estimation of model\n",
    "ret=estimator.score(x_test,y_test)# accuracy\n",
    "print(\"accuracu is :->%s\\n\"%ret)\n",
    "y_pre=estimator.predict(x_test)\n",
    "print(\"prediction is %s\\n\"%y_pre)"
   ]
  },
  {
   "cell_type": "code",
   "execution_count": 40,
   "id": "ccce0fe6",
   "metadata": {},
   "outputs": [
    {
     "name": "stdout",
     "output_type": "stream",
     "text": [
      "              precision    recall  f1-score   support\n",
      "\n",
      "        good       0.99      0.99      0.99        89\n",
      "         bad       0.98      0.98      0.98        48\n",
      "\n",
      "    accuracy                           0.99       137\n",
      "   macro avg       0.98      0.98      0.98       137\n",
      "weighted avg       0.99      0.99      0.99       137\n",
      "\n"
     ]
    }
   ],
   "source": [
    "#estimation of accuracy and recall\n",
    "ret=classification_report(y_test,y_pre,labels=(2,4),target_names=(\"good\",\"bad\"))\n",
    "print(ret)"
   ]
  },
  {
   "cell_type": "code",
   "execution_count": 49,
   "id": "57ef5cd4",
   "metadata": {},
   "outputs": [],
   "source": [
    "#standar of auc\n",
    "y_test=np.where(y_test>3,1,0)"
   ]
  },
  {
   "cell_type": "code",
   "execution_count": 53,
   "id": "cf20d150",
   "metadata": {},
   "outputs": [],
   "source": [
    "from sklearn.datasets import make_classification\n",
    "import matplotlib.pyplot as plt"
   ]
  },
  {
   "cell_type": "code",
   "execution_count": null,
   "id": "347e6b15",
   "metadata": {},
   "outputs": [],
   "source": [
    "X,y=make_classification(n_samples=5000,\n",
    "                        n_features=2,    # size of feature value\n",
    "                        n_informative=2, #size of multi_feature\n",
    "                        n_redundant=0,   #size of redundant imformation \n",
    "                        n_repeated=0,    #repeated imfor\n",
    "                        n_classes=3,     #classi\n",
    "                       n_clusters_per_class=1,weights=[0.01,0.05,0.96],random_state=0.01)"
   ]
  },
  {
   "cell_type": "code",
   "execution_count": null,
   "id": "855dc18d",
   "metadata": {},
   "outputs": [],
   "source": []
  },
  {
   "cell_type": "code",
   "execution_count": null,
   "id": "db708c1f",
   "metadata": {},
   "outputs": [],
   "source": []
  }
 ],
 "metadata": {
  "kernelspec": {
   "display_name": "Python 3 (ipykernel)",
   "language": "python",
   "name": "python3"
  },
  "language_info": {
   "codemirror_mode": {
    "name": "ipython",
    "version": 3
   },
   "file_extension": ".py",
   "mimetype": "text/x-python",
   "name": "python",
   "nbconvert_exporter": "python",
   "pygments_lexer": "ipython3",
   "version": "3.8.10"
  },
  "toc": {
   "base_numbering": 1,
   "nav_menu": {},
   "number_sections": true,
   "sideBar": true,
   "skip_h1_title": false,
   "title_cell": "Table of Contents",
   "title_sidebar": "Contents",
   "toc_cell": false,
   "toc_position": {},
   "toc_section_display": true,
   "toc_window_display": false
  }
 },
 "nbformat": 4,
 "nbformat_minor": 5
}
