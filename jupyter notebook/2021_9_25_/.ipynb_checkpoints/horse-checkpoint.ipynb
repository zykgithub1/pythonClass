{
 "cells": [
  {
   "cell_type": "code",
   "execution_count": 52,
   "id": "94fd9542",
   "metadata": {},
   "outputs": [],
   "source": [
    "frTrain=open(\"horseColicTraining.txt\")\n",
    "frTest=open(\"horseColicTest.txt\")"
   ]
  },
  {
   "cell_type": "code",
   "execution_count": 53,
   "id": "f845ccde",
   "metadata": {},
   "outputs": [],
   "source": [
    "import numpy as np\n",
    "import pandas as pd"
   ]
  },
  {
   "cell_type": "code",
   "execution_count": 54,
   "id": "6ce541c2",
   "metadata": {},
   "outputs": [],
   "source": [
    "test_list=[]\n",
    "for i in frTrain.readlines():\n",
    "    test_list.append(i.strip())"
   ]
  },
  {
   "cell_type": "code",
   "execution_count": 55,
   "id": "f8fbd3c3",
   "metadata": {},
   "outputs": [],
   "source": [
    "spli_list=[]"
   ]
  },
  {
   "cell_type": "code",
   "execution_count": 56,
   "id": "1174ae04",
   "metadata": {},
   "outputs": [],
   "source": [
    "for i in test_list:\n",
    "    spli_list.append(i.split(\"\\t\"))"
   ]
  },
  {
   "cell_type": "code",
   "execution_count": 59,
   "id": "06cd1541",
   "metadata": {
    "scrolled": true
   },
   "outputs": [],
   "source": [
    "ss=pd.DataFrame(spli_list)\n",
    "        "
   ]
  },
  {
   "cell_type": "code",
   "execution_count": 65,
   "id": "5910320d",
   "metadata": {},
   "outputs": [
    {
     "data": {
      "text/plain": [
       "0      2.000000\n",
       "1      1.000000\n",
       "2      2.000000\n",
       "3      1.000000\n",
       "4      2.000000\n",
       "         ...   \n",
       "294    1.000000\n",
       "295    2.000000\n",
       "296    1.000000\n",
       "297    1.000000\n",
       "298    1.000000\n",
       "Name: 0, Length: 299, dtype: object"
      ]
     },
     "execution_count": 65,
     "metadata": {},
     "output_type": "execute_result"
    }
   ],
   "source": [
    "ss[0]"
   ]
  },
  {
   "cell_type": "code",
   "execution_count": 50,
   "id": "19b077c2",
   "metadata": {},
   "outputs": [],
   "source": []
  },
  {
   "cell_type": "code",
   "execution_count": 51,
   "id": "066b4ad3",
   "metadata": {},
   "outputs": [
    {
     "data": {
      "text/plain": [
       "'12321\\t234'"
      ]
     },
     "execution_count": 51,
     "metadata": {},
     "output_type": "execute_result"
    }
   ],
   "source": []
  },
  {
   "cell_type": "code",
   "execution_count": null,
   "id": "9186e2c8",
   "metadata": {},
   "outputs": [],
   "source": []
  }
 ],
 "metadata": {
  "kernelspec": {
   "display_name": "Python 3 (ipykernel)",
   "language": "python",
   "name": "python3"
  },
  "language_info": {
   "codemirror_mode": {
    "name": "ipython",
    "version": 3
   },
   "file_extension": ".py",
   "mimetype": "text/x-python",
   "name": "python",
   "nbconvert_exporter": "python",
   "pygments_lexer": "ipython3",
   "version": "3.9.6"
  }
 },
 "nbformat": 4,
 "nbformat_minor": 5
}
