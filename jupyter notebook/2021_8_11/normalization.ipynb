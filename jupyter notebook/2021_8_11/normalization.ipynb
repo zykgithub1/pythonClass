{
 "cells": [
  {
   "cell_type": "code",
   "execution_count": 7,
   "id": "65e97a96",
   "metadata": {},
   "outputs": [],
   "source": [
    "from sklearn.preprocessing import MinMaxScaler,StandardScaler"
   ]
  },
  {
   "cell_type": "code",
   "execution_count": 8,
   "id": "66f307d4",
   "metadata": {
    "scrolled": true
   },
   "outputs": [
    {
     "name": "stdout",
     "output_type": "stream",
     "text": [
      "0.5305555555555556\n",
      "[[1.         0.         0.         0.        ]\n",
      " [0.         1.         1.         1.        ]\n",
      " [0.43333333 0.33333333 0.6        1.        ]]\n"
     ]
    }
   ],
   "source": [
    "#x'=x-min/(max-min)  X''=X'*(max-min)+min\n",
    "mm=MinMaxScaler(feature_range=(0,1))  # range\n",
    "data=[[90,2,10,40],[60,5,15,45],[73,3,13,45]]\n",
    "data=mm.fit_transform(data)\n",
    "print(data.mean())\n",
    "print(data)"
   ]
  },
  {
   "cell_type": "code",
   "execution_count": 9,
   "id": "c12f58f4",
   "metadata": {
    "scrolled": true
   },
   "outputs": [
    {
     "name": "stdout",
     "output_type": "stream",
     "text": [
      "[[ 1.27540458 -1.06904497 -1.29777137 -1.41421356]\n",
      " [-1.16685951  1.33630621  1.13554995  0.70710678]\n",
      " [-0.10854507 -0.26726124  0.16222142  0.70710678]]\n",
      "-1.4802973661668753e-16\n"
     ]
    }
   ],
   "source": [
    "stand=StandardScaler()\n",
    "data=[[90,2,10,40],[60,5,15,45],[73,3,13,45]]\n",
    "data=stand.fit_transform(data)\n",
    "print(data)\n",
    "print(data.mean())"
   ]
  },
  {
   "cell_type": "code",
   "execution_count": 10,
   "id": "e91893ca",
   "metadata": {},
   "outputs": [
    {
     "name": "stdout",
     "output_type": "stream",
     "text": [
      "4.666666666666667\n"
     ]
    },
    {
     "data": {
      "text/plain": [
       "array([[2],\n",
       "       [3],\n",
       "       [9]])"
      ]
     },
     "execution_count": 10,
     "metadata": {},
     "output_type": "execute_result"
    }
   ],
   "source": [
    "from sklearn.feature_selection import VarianceThreshold\n",
    "v=VarianceThreshold(threshold=3)\n",
    "data=v.fit_transform([[0,2,4,3],[0,3,7,3],[0,9,6,3]])\n",
    "print(data.mean())\n",
    "data"
   ]
  },
  {
   "cell_type": "code",
   "execution_count": 11,
   "id": "8fd2f470",
   "metadata": {},
   "outputs": [
    {
     "data": {
      "text/plain": [
       "array([[12,  4, 89, 31, 88,  3, 56, 33, 12, 70],\n",
       "       [67, 95, 56,  8, 58, 58,  0, 48, 51, 71],\n",
       "       [43, 34, 82, 67, 92, 62, 62, 86,  4, 56],\n",
       "       [31, 74, 18,  8, 16,  7,  8, 71, 74, 83],\n",
       "       [52, 23, 80, 90,  2, 26, 79, 51, 41, 71]])"
      ]
     },
     "execution_count": 11,
     "metadata": {},
     "output_type": "execute_result"
    }
   ],
   "source": [
    "import numpy as pd\n",
    "featrue=pd.random.randint(0,100,size=(5,10))\n",
    "featrue"
   ]
  },
  {
   "cell_type": "code",
   "execution_count": 12,
   "id": "1b8a3f25",
   "metadata": {},
   "outputs": [],
   "source": [
    "med=np.median(featrue.var(axis=0))"
   ]
  },
  {
   "cell_type": "code",
   "execution_count": 13,
   "id": "5d7b7c7b",
   "metadata": {},
   "outputs": [
    {
     "data": {
      "text/plain": [
       "array([[ 4, 89, 31, 88, 56],\n",
       "       [95, 56,  8, 58,  0],\n",
       "       [34, 82, 67, 92, 62],\n",
       "       [74, 18,  8, 16,  8],\n",
       "       [23, 80, 90,  2, 79]])"
      ]
     },
     "execution_count": 13,
     "metadata": {},
     "output_type": "execute_result"
    }
   ],
   "source": [
    "v=VarianceThreshold(threshold=med)\n",
    "v.fit_transform(featrue)"
   ]
  },
  {
   "cell_type": "code",
   "execution_count": 14,
   "id": "295d8dbc",
   "metadata": {},
   "outputs": [
    {
     "data": {
      "text/plain": [
       "array([[-2.88362421e+00, -1.25443227e+00,  8.61572474e-17],\n",
       "       [-1.45140588e+00,  1.56492061e+00,  8.61572474e-17],\n",
       "       [ 4.33503009e+00, -3.10488337e-01,  8.61572474e-17]])"
      ]
     },
     "execution_count": 14,
     "metadata": {},
     "output_type": "execute_result"
    }
   ],
   "source": [
    "from sklearn.decomposition import PCA\n",
    "pca=PCA(n_components=3)\n",
    "pca.fit_transform([[0,2,4,3],[0,3,7,3],[0,9,6,3]])"
   ]
  },
  {
   "cell_type": "code",
   "execution_count": 15,
   "id": "853976ab",
   "metadata": {},
   "outputs": [],
   "source": [
    "from sklearn.model_selection import train_test_split\n",
    "import sklearn.datasets as ds\n",
    "iris=ds.load_iris()"
   ]
  },
  {
   "cell_type": "code",
   "execution_count": 16,
   "id": "0dbc9264",
   "metadata": {},
   "outputs": [
    {
     "data": {
      "text/plain": [
       "(150, 4)"
      ]
     },
     "execution_count": 16,
     "metadata": {},
     "output_type": "execute_result"
    }
   ],
   "source": [
    "feature=iris['data']\n",
    "target=iris.target\n",
    "feature.shape"
   ]
  },
  {
   "cell_type": "code",
   "execution_count": 22,
   "id": "566ddede",
   "metadata": {},
   "outputs": [
    {
     "data": {
      "text/plain": [
       "array([0, 0, 0, 0, 0, 0, 0, 0, 0, 0, 0, 0, 0, 0, 0, 0, 0, 0, 0, 0, 0, 0,\n",
       "       0, 0, 0, 0, 0, 0, 0, 0, 0, 0, 0, 0, 0, 0, 0, 0, 0, 0, 0, 0, 0, 0,\n",
       "       0, 0, 0, 0, 0, 0, 1, 1, 1, 1, 1, 1, 1, 1, 1, 1, 1, 1, 1, 1, 1, 1,\n",
       "       1, 1, 1, 1, 1, 1, 1, 1, 1, 1, 1, 1, 1, 1, 1, 1, 1, 1, 1, 1, 1, 1,\n",
       "       1, 1, 1, 1, 1, 1, 1, 1, 1, 1, 1, 1, 2, 2, 2, 2, 2, 2, 2, 2, 2, 2,\n",
       "       2, 2, 2, 2, 2, 2, 2, 2, 2, 2, 2, 2, 2, 2, 2, 2, 2, 2, 2, 2, 2, 2,\n",
       "       2, 2, 2, 2, 2, 2, 2, 2, 2, 2, 2, 2, 2, 2, 2, 2, 2, 2])"
      ]
     },
     "execution_count": 22,
     "metadata": {},
     "output_type": "execute_result"
    }
   ],
   "source": [
    "target"
   ]
  },
  {
   "cell_type": "code",
   "execution_count": null,
   "id": "21190088",
   "metadata": {},
   "outputs": [],
   "source": [
    "#get large datasets\n",
    "# news_data=ds.fetch_20newsgroups(data_home=None,subset=\"all\",random_state=22)\n",
    "# news_data"
   ]
  },
  {
   "cell_type": "code",
   "execution_count": 32,
   "id": "7bb92cf1",
   "metadata": {},
   "outputs": [],
   "source": [
    "from sklearn.model_selection import train_test_split\n",
    "x_train,x_test,y_train,y_test=train_test_split(feature,target,test_size=0.5,random_state=22)"
   ]
  },
  {
   "cell_type": "code",
   "execution_count": 33,
   "id": "161ceca4",
   "metadata": {},
   "outputs": [
    {
     "data": {
      "text/plain": [
       "(75, 4)"
      ]
     },
     "execution_count": 33,
     "metadata": {},
     "output_type": "execute_result"
    }
   ],
   "source": [
    "x_test.shape"
   ]
  },
  {
   "cell_type": "code",
   "execution_count": null,
   "id": "a25d7944",
   "metadata": {},
   "outputs": [],
   "source": []
  }
 ],
 "metadata": {
  "kernelspec": {
   "display_name": "Python 3 (ipykernel)",
   "language": "python",
   "name": "python3"
  },
  "language_info": {
   "codemirror_mode": {
    "name": "ipython",
    "version": 3
   },
   "file_extension": ".py",
   "mimetype": "text/x-python",
   "name": "python",
   "nbconvert_exporter": "python",
   "pygments_lexer": "ipython3",
   "version": "3.9.6"
  },
  "toc": {
   "base_numbering": 1,
   "nav_menu": {},
   "number_sections": true,
   "sideBar": true,
   "skip_h1_title": false,
   "title_cell": "Table of Contents",
   "title_sidebar": "Contents",
   "toc_cell": false,
   "toc_position": {},
   "toc_section_display": true,
   "toc_window_display": false
  },
  "varInspector": {
   "cols": {
    "lenName": 16,
    "lenType": 16,
    "lenVar": 40
   },
   "kernels_config": {
    "python": {
     "delete_cmd_postfix": "",
     "delete_cmd_prefix": "del ",
     "library": "var_list.py",
     "varRefreshCmd": "print(var_dic_list())"
    },
    "r": {
     "delete_cmd_postfix": ") ",
     "delete_cmd_prefix": "rm(",
     "library": "var_list.r",
     "varRefreshCmd": "cat(var_dic_list()) "
    }
   },
   "types_to_exclude": [
    "module",
    "function",
    "builtin_function_or_method",
    "instance",
    "_Feature"
   ],
   "window_display": false
  }
 },
 "nbformat": 4,
 "nbformat_minor": 5
}
