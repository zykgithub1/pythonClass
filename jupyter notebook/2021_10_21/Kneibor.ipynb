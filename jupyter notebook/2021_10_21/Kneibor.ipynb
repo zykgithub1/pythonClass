{
 "cells": [
  {
   "cell_type": "code",
   "execution_count": 219,
   "id": "7e0ed75e",
   "metadata": {},
   "outputs": [],
   "source": [
    "import numpy as np\n",
    "import pandas as pd\n",
    "import matplotlib.pyplot as plt\n",
    "import math\n",
    "import matplotlib as mpl\n",
    "%matplotlib inline\n",
    "plt.rcParams[\"font.sans-serif\"]=[\"Simhei\"]"
   ]
  },
  {
   "cell_type": "code",
   "execution_count": 6,
   "id": "d622758d",
   "metadata": {},
   "outputs": [
    {
     "data": {
      "text/plain": [
       "41.048751503547585"
      ]
     },
     "execution_count": 6,
     "metadata": {},
     "output_type": "execute_result"
    }
   ],
   "source": [
    "(23**2+abs(101-67)**2)**(1/2)"
   ]
  },
  {
   "cell_type": "code",
   "execution_count": 8,
   "id": "7f76b549",
   "metadata": {},
   "outputs": [],
   "source": [
    "rowdata={\"moveName\":[\"吴文东西\",\"后来的我们\",\"前任三\",\"红海行动\",\"唐人街探案\",\"战狼\"],\n",
    "         \"fighttimes\":[1,5,12,108,112,115],\n",
    "         \"kisstimes\":[101,89,97,5,9,8],\n",
    "         \"category\":[\"love\",\"love\",\"love\",\"action\",\"action\",\"action\"]\n",
    "}"
   ]
  },
  {
   "cell_type": "code",
   "execution_count": 9,
   "id": "3177e192",
   "metadata": {},
   "outputs": [
    {
     "data": {
      "text/html": [
       "<div>\n",
       "<style scoped>\n",
       "    .dataframe tbody tr th:only-of-type {\n",
       "        vertical-align: middle;\n",
       "    }\n",
       "\n",
       "    .dataframe tbody tr th {\n",
       "        vertical-align: top;\n",
       "    }\n",
       "\n",
       "    .dataframe thead th {\n",
       "        text-align: right;\n",
       "    }\n",
       "</style>\n",
       "<table border=\"1\" class=\"dataframe\">\n",
       "  <thead>\n",
       "    <tr style=\"text-align: right;\">\n",
       "      <th></th>\n",
       "      <th>moveName</th>\n",
       "      <th>fighttimes</th>\n",
       "      <th>kisstimes</th>\n",
       "      <th>category</th>\n",
       "    </tr>\n",
       "  </thead>\n",
       "  <tbody>\n",
       "    <tr>\n",
       "      <th>0</th>\n",
       "      <td>吴文东西</td>\n",
       "      <td>1</td>\n",
       "      <td>101</td>\n",
       "      <td>love</td>\n",
       "    </tr>\n",
       "    <tr>\n",
       "      <th>1</th>\n",
       "      <td>后来的我们</td>\n",
       "      <td>5</td>\n",
       "      <td>89</td>\n",
       "      <td>love</td>\n",
       "    </tr>\n",
       "    <tr>\n",
       "      <th>2</th>\n",
       "      <td>前任三</td>\n",
       "      <td>12</td>\n",
       "      <td>97</td>\n",
       "      <td>love</td>\n",
       "    </tr>\n",
       "    <tr>\n",
       "      <th>3</th>\n",
       "      <td>红海行动</td>\n",
       "      <td>108</td>\n",
       "      <td>5</td>\n",
       "      <td>action</td>\n",
       "    </tr>\n",
       "    <tr>\n",
       "      <th>4</th>\n",
       "      <td>唐人街探案</td>\n",
       "      <td>112</td>\n",
       "      <td>9</td>\n",
       "      <td>action</td>\n",
       "    </tr>\n",
       "    <tr>\n",
       "      <th>5</th>\n",
       "      <td>战狼</td>\n",
       "      <td>115</td>\n",
       "      <td>8</td>\n",
       "      <td>action</td>\n",
       "    </tr>\n",
       "  </tbody>\n",
       "</table>\n",
       "</div>"
      ],
      "text/plain": [
       "  moveName  fighttimes  kisstimes category\n",
       "0     吴文东西           1        101     love\n",
       "1    后来的我们           5         89     love\n",
       "2      前任三          12         97     love\n",
       "3     红海行动         108          5   action\n",
       "4    唐人街探案         112          9   action\n",
       "5       战狼         115          8   action"
      ]
     },
     "execution_count": 9,
     "metadata": {},
     "output_type": "execute_result"
    }
   ],
   "source": [
    "data=pd.DataFrame(rowdata)\n",
    "data"
   ]
  },
  {
   "cell_type": "code",
   "execution_count": 165,
   "id": "b717197c",
   "metadata": {},
   "outputs": [],
   "source": [
    "newdata=[24,67]"
   ]
  },
  {
   "cell_type": "code",
   "execution_count": 30,
   "id": "9bce8a21",
   "metadata": {},
   "outputs": [
    {
     "data": {
      "text/html": [
       "<div>\n",
       "<style scoped>\n",
       "    .dataframe tbody tr th:only-of-type {\n",
       "        vertical-align: middle;\n",
       "    }\n",
       "\n",
       "    .dataframe tbody tr th {\n",
       "        vertical-align: top;\n",
       "    }\n",
       "\n",
       "    .dataframe thead th {\n",
       "        text-align: right;\n",
       "    }\n",
       "</style>\n",
       "<table border=\"1\" class=\"dataframe\">\n",
       "  <thead>\n",
       "    <tr style=\"text-align: right;\">\n",
       "      <th></th>\n",
       "      <th>fighttimes</th>\n",
       "      <th>kisstimes</th>\n",
       "    </tr>\n",
       "  </thead>\n",
       "  <tbody>\n",
       "    <tr>\n",
       "      <th>0</th>\n",
       "      <td>-23</td>\n",
       "      <td>34</td>\n",
       "    </tr>\n",
       "    <tr>\n",
       "      <th>1</th>\n",
       "      <td>-19</td>\n",
       "      <td>22</td>\n",
       "    </tr>\n",
       "    <tr>\n",
       "      <th>2</th>\n",
       "      <td>-12</td>\n",
       "      <td>30</td>\n",
       "    </tr>\n",
       "    <tr>\n",
       "      <th>3</th>\n",
       "      <td>84</td>\n",
       "      <td>-62</td>\n",
       "    </tr>\n",
       "    <tr>\n",
       "      <th>4</th>\n",
       "      <td>88</td>\n",
       "      <td>-58</td>\n",
       "    </tr>\n",
       "    <tr>\n",
       "      <th>5</th>\n",
       "      <td>91</td>\n",
       "      <td>-59</td>\n",
       "    </tr>\n",
       "  </tbody>\n",
       "</table>\n",
       "</div>"
      ],
      "text/plain": [
       "   fighttimes  kisstimes\n",
       "0         -23         34\n",
       "1         -19         22\n",
       "2         -12         30\n",
       "3          84        -62\n",
       "4          88        -58\n",
       "5          91        -59"
      ]
     },
     "execution_count": 30,
     "metadata": {},
     "output_type": "execute_result"
    }
   ],
   "source": [
    "(data.iloc[:,1:3]-newdata)"
   ]
  },
  {
   "cell_type": "code",
   "execution_count": 37,
   "id": "2c38134e",
   "metadata": {},
   "outputs": [
    {
     "data": {
      "text/plain": [
       "0     1685\n",
       "1      845\n",
       "2     1044\n",
       "3    10900\n",
       "4    11108\n",
       "5    11762\n",
       "dtype: int64"
      ]
     },
     "execution_count": 37,
     "metadata": {},
     "output_type": "execute_result"
    }
   ],
   "source": [
    "((data.iloc[:,1:3]-newdata)**2).sum(1)"
   ]
  },
  {
   "cell_type": "code",
   "execution_count": 36,
   "id": "f881a95f",
   "metadata": {},
   "outputs": [
    {
     "data": {
      "text/html": [
       "<div>\n",
       "<style scoped>\n",
       "    .dataframe tbody tr th:only-of-type {\n",
       "        vertical-align: middle;\n",
       "    }\n",
       "\n",
       "    .dataframe tbody tr th {\n",
       "        vertical-align: top;\n",
       "    }\n",
       "\n",
       "    .dataframe thead th {\n",
       "        text-align: right;\n",
       "    }\n",
       "</style>\n",
       "<table border=\"1\" class=\"dataframe\">\n",
       "  <thead>\n",
       "    <tr style=\"text-align: right;\">\n",
       "      <th></th>\n",
       "      <th>fighttimes</th>\n",
       "      <th>kisstimes</th>\n",
       "    </tr>\n",
       "  </thead>\n",
       "  <tbody>\n",
       "    <tr>\n",
       "      <th>0</th>\n",
       "      <td>529</td>\n",
       "      <td>1156</td>\n",
       "    </tr>\n",
       "    <tr>\n",
       "      <th>1</th>\n",
       "      <td>361</td>\n",
       "      <td>484</td>\n",
       "    </tr>\n",
       "    <tr>\n",
       "      <th>2</th>\n",
       "      <td>144</td>\n",
       "      <td>900</td>\n",
       "    </tr>\n",
       "    <tr>\n",
       "      <th>3</th>\n",
       "      <td>7056</td>\n",
       "      <td>3844</td>\n",
       "    </tr>\n",
       "    <tr>\n",
       "      <th>4</th>\n",
       "      <td>7744</td>\n",
       "      <td>3364</td>\n",
       "    </tr>\n",
       "    <tr>\n",
       "      <th>5</th>\n",
       "      <td>8281</td>\n",
       "      <td>3481</td>\n",
       "    </tr>\n",
       "  </tbody>\n",
       "</table>\n",
       "</div>"
      ],
      "text/plain": [
       "   fighttimes  kisstimes\n",
       "0         529       1156\n",
       "1         361        484\n",
       "2         144        900\n",
       "3        7056       3844\n",
       "4        7744       3364\n",
       "5        8281       3481"
      ]
     },
     "execution_count": 36,
     "metadata": {},
     "output_type": "execute_result"
    }
   ],
   "source": [
    "((data.iloc[:,1:3]-newdata)**2)"
   ]
  },
  {
   "cell_type": "code",
   "execution_count": 49,
   "id": "570bd1df",
   "metadata": {},
   "outputs": [],
   "source": [
    "dist=np.array(list((((data.iloc[:,1:3]-newdata)**2).sum(1))**0.5))"
   ]
  },
  {
   "cell_type": "code",
   "execution_count": 52,
   "id": "90ca1f97",
   "metadata": {},
   "outputs": [
    {
     "data": {
      "text/plain": [
       "array([ 41.0487515 ,  29.06888371,  32.31098884, 104.40306509,\n",
       "       105.39449701, 108.45275469])"
      ]
     },
     "execution_count": 52,
     "metadata": {},
     "output_type": "execute_result"
    }
   ],
   "source": [
    "dist.astype(np.float64)"
   ]
  },
  {
   "cell_type": "code",
   "execution_count": 54,
   "id": "37935bab",
   "metadata": {},
   "outputs": [],
   "source": []
  },
  {
   "cell_type": "code",
   "execution_count": 59,
   "id": "c418123e",
   "metadata": {},
   "outputs": [],
   "source": [
    "dist_l=pd.DataFrame({\"dist\":dist,\"labels\":data.iloc[:,3]})"
   ]
  },
  {
   "cell_type": "code",
   "execution_count": 113,
   "id": "8e3b4d4b",
   "metadata": {},
   "outputs": [],
   "source": [
    "dr=dist_l.sort_values(by=\"dist\",ascending=True)[:4]"
   ]
  },
  {
   "cell_type": "code",
   "execution_count": 115,
   "id": "6bb4e215",
   "metadata": {},
   "outputs": [
    {
     "data": {
      "text/plain": [
       "'love'"
      ]
     },
     "execution_count": 115,
     "metadata": {},
     "output_type": "execute_result"
    }
   ],
   "source": [
    "dr.iloc[:,-1].value_counts().index[0]"
   ]
  },
  {
   "cell_type": "code",
   "execution_count": null,
   "id": "c1d25cc2",
   "metadata": {},
   "outputs": [],
   "source": []
  },
  {
   "cell_type": "code",
   "execution_count": 137,
   "id": "6c404367",
   "metadata": {},
   "outputs": [
    {
     "data": {
      "text/plain": [
       "3.0"
      ]
     },
     "execution_count": 137,
     "metadata": {},
     "output_type": "execute_result"
    }
   ],
   "source": [
    "data.shape[0]/2"
   ]
  },
  {
   "cell_type": "code",
   "execution_count": 161,
   "id": "9a2ffde1",
   "metadata": {},
   "outputs": [],
   "source": [
    "\"\"\"\n",
    "function：KNN分类器\n",
    "paramaters:\n",
    "    newdata 新数据\n",
    "    dataSets 已有数据集\n",
    "    参数 K\n",
    "return :分类好的结果\n",
    "\"\"\"\n",
    "def classify(newData,dataSets,k=None):\n",
    "    result=[]\n",
    "    if k !=None:\n",
    "        k=k\n",
    "    else:\n",
    "        k=dataSets.shape[0]//2\n",
    "#     print(k)\n",
    "    dist=np.array(list((((data.iloc[:,1:3]-newdata)**2).sum(1))**0.5))\n",
    "    dist_l=pd.DataFrame({\"dist\":dist,\"labels\":data.iloc[:,-1]})\n",
    "    dr=dist_l.sort_values(by=\"dist\",ascending=True)[:k]\n",
    "    result.append(dr.iloc[:,-1].value_counts().index[0])\n",
    "    return result"
   ]
  },
  {
   "cell_type": "code",
   "execution_count": 174,
   "id": "b4b4d85c",
   "metadata": {},
   "outputs": [
    {
     "name": "stdout",
     "output_type": "stream",
     "text": [
      "3\n"
     ]
    },
    {
     "data": {
      "text/plain": [
       "['love']"
      ]
     },
     "execution_count": 174,
     "metadata": {},
     "output_type": "execute_result"
    }
   ],
   "source": [
    "classify(newdata,data)"
   ]
  },
  {
   "cell_type": "code",
   "execution_count": 183,
   "id": "6fb66308",
   "metadata": {},
   "outputs": [],
   "source": [
    "dating=pd.read_table(\"datingTestSet.txt\")"
   ]
  },
  {
   "cell_type": "code",
   "execution_count": 185,
   "id": "397f0061",
   "metadata": {},
   "outputs": [
    {
     "name": "stdout",
     "output_type": "stream",
     "text": [
      "<class 'pandas.core.frame.DataFrame'>\n",
      "RangeIndex: 999 entries, 0 to 998\n",
      "Data columns (total 4 columns):\n",
      " #   Column      Non-Null Count  Dtype  \n",
      "---  ------      --------------  -----  \n",
      " 0   40920       999 non-null    int64  \n",
      " 1   8.326976    999 non-null    float64\n",
      " 2   0.953952    999 non-null    float64\n",
      " 3   largeDoses  999 non-null    object \n",
      "dtypes: float64(2), int64(1), object(1)\n",
      "memory usage: 31.3+ KB\n"
     ]
    }
   ],
   "source": [
    "dating.info()"
   ]
  },
  {
   "cell_type": "code",
   "execution_count": 215,
   "id": "bf348e08",
   "metadata": {},
   "outputs": [],
   "source": [
    "colors=[]\n",
    "for i in range(dating.shape[0]):\n",
    "    m=dating.iloc[i,-1]\n",
    "    if m==\"didntLike\":\n",
    "        colors.append(\"black\")\n",
    "    elif m==\"smallDoses\":\n",
    "        colors.append(\"blue\")\n",
    "    elif m==\"largeDoses\":\n",
    "        colors.append(\"red\")\n",
    "    "
   ]
  },
  {
   "cell_type": "code",
   "execution_count": 216,
   "id": "55a35c5e",
   "metadata": {
    "scrolled": true
   },
   "outputs": [
    {
     "data": {
      "text/plain": [
       "999"
      ]
     },
     "execution_count": 216,
     "metadata": {},
     "output_type": "execute_result"
    }
   ],
   "source": [
    "plt.scatter(datinga)"
   ]
  },
  {
   "cell_type": "code",
   "execution_count": 217,
   "id": "85b1e9f9",
   "metadata": {},
   "outputs": [
    {
     "data": {
      "text/plain": [
       "999"
      ]
     },
     "execution_count": 217,
     "metadata": {},
     "output_type": "execute_result"
    }
   ],
   "source": []
  },
  {
   "cell_type": "code",
   "execution_count": null,
   "id": "530ed5fd",
   "metadata": {},
   "outputs": [],
   "source": []
  }
 ],
 "metadata": {
  "kernelspec": {
   "display_name": "Python 3 (ipykernel)",
   "language": "python",
   "name": "python3"
  },
  "language_info": {
   "codemirror_mode": {
    "name": "ipython",
    "version": 3
   },
   "file_extension": ".py",
   "mimetype": "text/x-python",
   "name": "python",
   "nbconvert_exporter": "python",
   "pygments_lexer": "ipython3",
   "version": "3.9.6"
  }
 },
 "nbformat": 4,
 "nbformat_minor": 5
}
