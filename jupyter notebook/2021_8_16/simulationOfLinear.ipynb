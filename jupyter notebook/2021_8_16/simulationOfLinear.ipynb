{
 "cells": [
  {
   "cell_type": "code",
   "execution_count": 2,
   "id": "db1f4c7b",
   "metadata": {},
   "outputs": [],
   "source": [
    "import pandas as pd\n",
    "from sklearn.linear_model import LinearRegression\n",
    "from sklearn.model_selection import train_test_split\n",
    "from sklearn.metrics import mean_absolute_error as MSE,r2_score"
   ]
  },
  {
   "cell_type": "code",
   "execution_count": 5,
   "id": "4650faa5",
   "metadata": {},
   "outputs": [
    {
     "data": {
      "text/plain": [
       "[<matplotlib.lines.Line2D at 0x2137633edc0>]"
      ]
     },
     "execution_count": 5,
     "metadata": {},
     "output_type": "execute_result"
    },
    {
     "data": {
      "image/png": "[encoded data removed]",
      "text/plain": [
       "<Figure size 432x288 with 1 Axes>"
      ]
     },
     "metadata": {
      "needs_background": "light"
     },
     "output_type": "display_data"
    }
   ],
   "source": [
    "import numpy as np\n",
    "import matplotlib.pyplot as plt\n",
    "x=np.array(np.linspace(-100,100,200))\n",
    "y=x**2\n",
    "plt.plot(x,y)"
   ]
  },
  {
   "cell_type": "code",
   "execution_count": 12,
   "id": "a768a740",
   "metadata": {},
   "outputs": [
    {
     "data": {
      "text/plain": [
       "array([ 0.,  1.,  2.,  3.,  4.,  5.,  6.,  7.,  8.,  9., 10., 11.])"
      ]
     },
     "execution_count": 12,
     "metadata": {},
     "output_type": "execute_result"
    }
   ],
   "source": [
    "a=np.array(np.linspace(0,11,12))\n",
    "a"
   ]
  },
  {
   "cell_type": "code",
   "execution_count": 14,
   "id": "edf75f11",
   "metadata": {},
   "outputs": [
    {
     "data": {
      "text/plain": [
       "array([[ 0.,  1.],\n",
       "       [ 2.,  3.],\n",
       "       [ 4.,  5.],\n",
       "       [ 6.,  7.],\n",
       "       [ 8.,  9.],\n",
       "       [10., 11.]])"
      ]
     },
     "execution_count": 14,
     "metadata": {},
     "output_type": "execute_result"
    }
   ],
   "source": [
    "a.reshape(-1,2)"
   ]
  },
  {
   "cell_type": "code",
   "execution_count": 66,
   "id": "c9ca552a",
   "metadata": {},
   "outputs": [
    {
     "data": {
      "text/plain": [
       "LinearRegression()"
      ]
     },
     "execution_count": 66,
     "metadata": {},
     "output_type": "execute_result"
    }
   ],
   "source": [
    "# x_train=[[6],[8],[10],[14],[18]]\n",
    "# y_train=[[12],[15],[22],[29],[35]]\n",
    "x_train=[[6],[8],[10],[14],[18]]\n",
    "y_train=[[7],[10],[16],[16],[18]]\n",
    "linear=LinearRegression()\n",
    "linear.fit(x_train,y_train)"
   ]
  },
  {
   "cell_type": "code",
   "execution_count": 77,
   "id": "7b24f1a0",
   "metadata": {},
   "outputs": [
    {
     "data": {
      "text/plain": [
       "(10,)"
      ]
     },
     "execution_count": 77,
     "metadata": {},
     "output_type": "execute_result"
    }
   ],
   "source": [
    "xx=np.linspace(0,25,10)\n",
    "xx.shape"
   ]
  },
  {
   "cell_type": "code",
   "execution_count": 78,
   "id": "120a9ea3",
   "metadata": {},
   "outputs": [
    {
     "data": {
      "text/plain": [
       "(10, 1)"
      ]
     },
     "execution_count": 78,
     "metadata": {},
     "output_type": "execute_result"
    }
   ],
   "source": [
    "xx=xx.reshape(-1,1)\n",
    "xx.shape"
   ]
  },
  {
   "cell_type": "code",
   "execution_count": 79,
   "id": "0b8c9be9",
   "metadata": {},
   "outputs": [
    {
     "data": {
      "text/plain": [
       "numpy.ndarray"
      ]
     },
     "execution_count": 79,
     "metadata": {},
     "output_type": "execute_result"
    }
   ],
   "source": [
    "yy=linear.predict(xx)\n",
    "type(yy)"
   ]
  },
  {
   "cell_type": "code",
   "execution_count": 80,
   "id": "6c1bcc1b",
   "metadata": {},
   "outputs": [
    {
     "data": {
      "text/plain": [
       "[<matplotlib.lines.Line2D at 0x2137a3ace20>]"
      ]
     },
     "execution_count": 80,
     "metadata": {},
     "output_type": "execute_result"
    },
    {
     "data": {
      "image/png": "[encoded data removed]",
      "text/plain": [
       "<Figure size 432x288 with 1 Axes>"
      ]
     },
     "metadata": {
      "needs_background": "light"
     },
     "output_type": "display_data"
    }
   ],
   "source": [
    "plt.scatter(x_train,y_train)\n",
    "plt.plot(xx,yy)"
   ]
  },
  {
   "cell_type": "code",
   "execution_count": 88,
   "id": "4c09f5f8",
   "metadata": {},
   "outputs": [
    {
     "data": {
      "text/plain": [
       "[[6], [8], [10], [14], [18]]"
      ]
     },
     "execution_count": 88,
     "metadata": {},
     "output_type": "execute_result"
    }
   ],
   "source": [
    "from sklearn.preprocessing import PolynomialFeatures\n",
    "a=[[2,3]]\n",
    "pl=PolynomialFeatures(degree=4)\n",
    "b=pl.fit_transform(a)\n",
    "x_train"
   ]
  },
  {
   "cell_type": "code",
   "execution_count": 94,
   "id": "adb7ec75",
   "metadata": {},
   "outputs": [
    {
     "data": {
      "text/plain": [
       "array([[1.000e+00, 6.000e+00, 3.600e+01, 2.160e+02],\n",
       "       [1.000e+00, 8.000e+00, 6.400e+01, 5.120e+02],\n",
       "       [1.000e+00, 1.000e+01, 1.000e+02, 1.000e+03],\n",
       "       [1.000e+00, 1.400e+01, 1.960e+02, 2.744e+03],\n",
       "       [1.000e+00, 1.800e+01, 3.240e+02, 5.832e+03]])"
      ]
     },
     "execution_count": 94,
     "metadata": {},
     "output_type": "execute_result"
    }
   ],
   "source": [
    "ploy2=PolynomialFeatures(degree=3)\n",
    "x_train_poly2=ploy2.fit_transform(x_train)\n",
    "x_train_poly2\n"
   ]
  },
  {
   "cell_type": "code",
   "execution_count": 95,
   "id": "737e2933",
   "metadata": {},
   "outputs": [
    {
     "data": {
      "text/plain": [
       "[[7], [10], [16], [16], [18]]"
      ]
     },
     "execution_count": 95,
     "metadata": {},
     "output_type": "execute_result"
    }
   ],
   "source": [
    "y_train"
   ]
  },
  {
   "cell_type": "code",
   "execution_count": 96,
   "id": "75d33f24",
   "metadata": {},
   "outputs": [
    {
     "data": {
      "text/plain": [
       "LinearRegression()"
      ]
     },
     "execution_count": 96,
     "metadata": {},
     "output_type": "execute_result"
    }
   ],
   "source": [
    "regressor_ploy2=LinearRegression()\n",
    "regressor_ploy2.fit(x_train_poly2,y_train)"
   ]
  },
  {
   "cell_type": "code",
   "execution_count": 97,
   "id": "8cda7dbf",
   "metadata": {},
   "outputs": [
    {
     "data": {
      "text/plain": [
       "array([[1.00000000e+00, 0.00000000e+00, 0.00000000e+00, 0.00000000e+00],\n",
       "       [1.00000000e+00, 2.77777778e+00, 7.71604938e+00, 2.14334705e+01],\n",
       "       [1.00000000e+00, 5.55555556e+00, 3.08641975e+01, 1.71467764e+02],\n",
       "       [1.00000000e+00, 8.33333333e+00, 6.94444444e+01, 5.78703704e+02],\n",
       "       [1.00000000e+00, 1.11111111e+01, 1.23456790e+02, 1.37174211e+03],\n",
       "       [1.00000000e+00, 1.38888889e+01, 1.92901235e+02, 2.67918381e+03],\n",
       "       [1.00000000e+00, 1.66666667e+01, 2.77777778e+02, 4.62962963e+03],\n",
       "       [1.00000000e+00, 1.94444444e+01, 3.78086420e+02, 7.35168038e+03],\n",
       "       [1.00000000e+00, 2.22222222e+01, 4.93827160e+02, 1.09739369e+04],\n",
       "       [1.00000000e+00, 2.50000000e+01, 6.25000000e+02, 1.56250000e+04]])"
      ]
     },
     "execution_count": 97,
     "metadata": {},
     "output_type": "execute_result"
    }
   ],
   "source": [
    "xx_poly2=ploy2.transform(xx)\n",
    "xx_poly2"
   ]
  },
  {
   "cell_type": "code",
   "execution_count": 98,
   "id": "b0bfc0ba",
   "metadata": {},
   "outputs": [
    {
     "data": {
      "text/plain": [
       "<matplotlib.legend.Legend at 0x2137676cc70>"
      ]
     },
     "execution_count": 98,
     "metadata": {},
     "output_type": "execute_result"
    },
    {
     "data": {
      "image/png": "[encoded data removed]",
      "text/plain": [
       "<Figure size 432x288 with 1 Axes>"
      ]
     },
     "metadata": {
      "needs_background": "light"
     },
     "output_type": "display_data"
    }
   ],
   "source": [
    "yy_ploy2=regressor_ploy2.predict(xx_poly2)\n",
    "plt.scatter(x_train,y_train)\n",
    "plt.plot(xx,yy,label=\"Degree1\")\n",
    "plt.plot(xx,yy_ploy2,label=\"Degree2\")\n",
    "plt.legend()"
   ]
  },
  {
   "cell_type": "code",
   "execution_count": 99,
   "id": "03c81858",
   "metadata": {},
   "outputs": [],
   "source": [
    "from sklearn.datasets import load_iris"
   ]
  },
  {
   "cell_type": "code",
   "execution_count": 100,
   "id": "f0a61128",
   "metadata": {},
   "outputs": [],
   "source": [
    "iris=load_iris()\n",
    "faeture=iris.data\n",
    "target=iris.target\n",
    "x_train,x_test,y_train,y_test=train_test_split(faeture,target,test_size=0.2,random_state=22)"
   ]
  },
  {
   "cell_type": "code",
   "execution_count": 101,
   "id": "2b87b53a",
   "metadata": {},
   "outputs": [
    {
     "data": {
      "text/plain": [
       "((120, 4), (30, 4))"
      ]
     },
     "execution_count": 101,
     "metadata": {},
     "output_type": "execute_result"
    }
   ],
   "source": [
    "x_train.shape,x_test.shape"
   ]
  },
  {
   "cell_type": "code",
   "execution_count": 102,
   "id": "217d2429",
   "metadata": {},
   "outputs": [
    {
     "data": {
      "text/plain": [
       "((120,), (30,))"
      ]
     },
     "execution_count": 102,
     "metadata": {},
     "output_type": "execute_result"
    }
   ],
   "source": [
    "y_train.shape,y_test.shape"
   ]
  },
  {
   "cell_type": "code",
   "execution_count": null,
   "id": "6cd5f622",
   "metadata": {},
   "outputs": [],
   "source": []
  },
  {
   "cell_type": "code",
   "execution_count": null,
   "id": "2ca0487d",
   "metadata": {},
   "outputs": [],
   "source": []
  }
 ],
 "metadata": {
  "kernelspec": {
   "display_name": "Python 3 (ipykernel)",
   "language": "python",
   "name": "python3"
  },
  "language_info": {
   "codemirror_mode": {
    "name": "ipython",
    "version": 3
   },
   "file_extension": ".py",
   "mimetype": "text/x-python",
   "name": "python",
   "nbconvert_exporter": "python",
   "pygments_lexer": "ipython3",
   "version": "3.9.6"
  }
 },
 "nbformat": 4,
 "nbformat_minor": 5
}
