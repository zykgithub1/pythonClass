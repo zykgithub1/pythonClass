{
 "cells": [
  {
   "cell_type": "code",
   "execution_count": 99,
   "id": "ea915086",
   "metadata": {},
   "outputs": [],
   "source": [
    "import numpy as np\n",
    "import pandas as pd"
   ]
  },
  {
   "cell_type": "code",
   "execution_count": 100,
   "id": "9118c9b7",
   "metadata": {},
   "outputs": [],
   "source": [
    "df=pd.read_csv(\"./datingTestSet.txt\",header=None,sep='\\s+')\n"
   ]
  },
  {
   "cell_type": "code",
   "execution_count": 101,
   "id": "0ff2837f",
   "metadata": {},
   "outputs": [
    {
     "data": {
      "text/html": [
       "<div>\n",
       "<style scoped>\n",
       "    .dataframe tbody tr th:only-of-type {\n",
       "        vertical-align: middle;\n",
       "    }\n",
       "\n",
       "    .dataframe tbody tr th {\n",
       "        vertical-align: top;\n",
       "    }\n",
       "\n",
       "    .dataframe thead th {\n",
       "        text-align: right;\n",
       "    }\n",
       "</style>\n",
       "<table border=\"1\" class=\"dataframe\">\n",
       "  <thead>\n",
       "    <tr style=\"text-align: right;\">\n",
       "      <th></th>\n",
       "      <th>0</th>\n",
       "      <th>1</th>\n",
       "      <th>2</th>\n",
       "    </tr>\n",
       "  </thead>\n",
       "  <tbody>\n",
       "    <tr>\n",
       "      <th>0</th>\n",
       "      <td>40920</td>\n",
       "      <td>8.326976</td>\n",
       "      <td>0.953952</td>\n",
       "    </tr>\n",
       "    <tr>\n",
       "      <th>1</th>\n",
       "      <td>14488</td>\n",
       "      <td>7.153469</td>\n",
       "      <td>1.673904</td>\n",
       "    </tr>\n",
       "    <tr>\n",
       "      <th>2</th>\n",
       "      <td>26052</td>\n",
       "      <td>1.441871</td>\n",
       "      <td>0.805124</td>\n",
       "    </tr>\n",
       "    <tr>\n",
       "      <th>3</th>\n",
       "      <td>75136</td>\n",
       "      <td>13.147394</td>\n",
       "      <td>0.428964</td>\n",
       "    </tr>\n",
       "    <tr>\n",
       "      <th>4</th>\n",
       "      <td>38344</td>\n",
       "      <td>1.669788</td>\n",
       "      <td>0.134296</td>\n",
       "    </tr>\n",
       "    <tr>\n",
       "      <th>...</th>\n",
       "      <td>...</td>\n",
       "      <td>...</td>\n",
       "      <td>...</td>\n",
       "    </tr>\n",
       "    <tr>\n",
       "      <th>995</th>\n",
       "      <td>11145</td>\n",
       "      <td>3.410627</td>\n",
       "      <td>0.631838</td>\n",
       "    </tr>\n",
       "    <tr>\n",
       "      <th>996</th>\n",
       "      <td>68846</td>\n",
       "      <td>9.974715</td>\n",
       "      <td>0.669787</td>\n",
       "    </tr>\n",
       "    <tr>\n",
       "      <th>997</th>\n",
       "      <td>26575</td>\n",
       "      <td>10.650102</td>\n",
       "      <td>0.866627</td>\n",
       "    </tr>\n",
       "    <tr>\n",
       "      <th>998</th>\n",
       "      <td>48111</td>\n",
       "      <td>9.134528</td>\n",
       "      <td>0.728045</td>\n",
       "    </tr>\n",
       "    <tr>\n",
       "      <th>999</th>\n",
       "      <td>43757</td>\n",
       "      <td>7.882601</td>\n",
       "      <td>1.332446</td>\n",
       "    </tr>\n",
       "  </tbody>\n",
       "</table>\n",
       "<p>1000 rows × 3 columns</p>\n",
       "</div>"
      ],
      "text/plain": [
       "         0          1         2\n",
       "0    40920   8.326976  0.953952\n",
       "1    14488   7.153469  1.673904\n",
       "2    26052   1.441871  0.805124\n",
       "3    75136  13.147394  0.428964\n",
       "4    38344   1.669788  0.134296\n",
       "..     ...        ...       ...\n",
       "995  11145   3.410627  0.631838\n",
       "996  68846   9.974715  0.669787\n",
       "997  26575  10.650102  0.866627\n",
       "998  48111   9.134528  0.728045\n",
       "999  43757   7.882601  1.332446\n",
       "\n",
       "[1000 rows x 3 columns]"
      ]
     },
     "execution_count": 101,
     "metadata": {},
     "output_type": "execute_result"
    }
   ],
   "source": [
    "feature=df[[0,1,2]]\n",
    "target=df[3]\n",
    "feature"
   ]
  },
  {
   "cell_type": "code",
   "execution_count": 102,
   "id": "c25351e7",
   "metadata": {},
   "outputs": [],
   "source": [
    "from sklearn.model_selection import train_test_split\n",
    "x_train,x_test,y_train,y_test=train_test_split(feature,target,test_size=0.2,random_state=2020)"
   ]
  },
  {
   "cell_type": "code",
   "execution_count": 103,
   "id": "cc704184",
   "metadata": {},
   "outputs": [
    {
     "data": {
      "text/html": [
       "<div>\n",
       "<style scoped>\n",
       "    .dataframe tbody tr th:only-of-type {\n",
       "        vertical-align: middle;\n",
       "    }\n",
       "\n",
       "    .dataframe tbody tr th {\n",
       "        vertical-align: top;\n",
       "    }\n",
       "\n",
       "    .dataframe thead th {\n",
       "        text-align: right;\n",
       "    }\n",
       "</style>\n",
       "<table border=\"1\" class=\"dataframe\">\n",
       "  <thead>\n",
       "    <tr style=\"text-align: right;\">\n",
       "      <th></th>\n",
       "      <th>0</th>\n",
       "      <th>1</th>\n",
       "      <th>2</th>\n",
       "    </tr>\n",
       "  </thead>\n",
       "  <tbody>\n",
       "    <tr>\n",
       "      <th>983</th>\n",
       "      <td>9493</td>\n",
       "      <td>6.724021</td>\n",
       "      <td>0.563044</td>\n",
       "    </tr>\n",
       "    <tr>\n",
       "      <th>337</th>\n",
       "      <td>15941</td>\n",
       "      <td>0.000000</td>\n",
       "      <td>0.061191</td>\n",
       "    </tr>\n",
       "    <tr>\n",
       "      <th>434</th>\n",
       "      <td>81046</td>\n",
       "      <td>15.833048</td>\n",
       "      <td>1.568245</td>\n",
       "    </tr>\n",
       "    <tr>\n",
       "      <th>193</th>\n",
       "      <td>52914</td>\n",
       "      <td>3.976796</td>\n",
       "      <td>1.043109</td>\n",
       "    </tr>\n",
       "    <tr>\n",
       "      <th>437</th>\n",
       "      <td>39299</td>\n",
       "      <td>6.325139</td>\n",
       "      <td>0.605109</td>\n",
       "    </tr>\n",
       "    <tr>\n",
       "      <th>...</th>\n",
       "      <td>...</td>\n",
       "      <td>...</td>\n",
       "      <td>...</td>\n",
       "    </tr>\n",
       "    <tr>\n",
       "      <th>707</th>\n",
       "      <td>29241</td>\n",
       "      <td>7.791833</td>\n",
       "      <td>1.111416</td>\n",
       "    </tr>\n",
       "    <tr>\n",
       "      <th>630</th>\n",
       "      <td>7052</td>\n",
       "      <td>2.633627</td>\n",
       "      <td>1.097866</td>\n",
       "    </tr>\n",
       "    <tr>\n",
       "      <th>323</th>\n",
       "      <td>67705</td>\n",
       "      <td>6.038620</td>\n",
       "      <td>1.509646</td>\n",
       "    </tr>\n",
       "    <tr>\n",
       "      <th>392</th>\n",
       "      <td>56557</td>\n",
       "      <td>11.746200</td>\n",
       "      <td>1.695517</td>\n",
       "    </tr>\n",
       "    <tr>\n",
       "      <th>864</th>\n",
       "      <td>12268</td>\n",
       "      <td>5.515189</td>\n",
       "      <td>0.250562</td>\n",
       "    </tr>\n",
       "  </tbody>\n",
       "</table>\n",
       "<p>800 rows × 3 columns</p>\n",
       "</div>"
      ],
      "text/plain": [
       "         0          1         2\n",
       "983   9493   6.724021  0.563044\n",
       "337  15941   0.000000  0.061191\n",
       "434  81046  15.833048  1.568245\n",
       "193  52914   3.976796  1.043109\n",
       "437  39299   6.325139  0.605109\n",
       "..     ...        ...       ...\n",
       "707  29241   7.791833  1.111416\n",
       "630   7052   2.633627  1.097866\n",
       "323  67705   6.038620  1.509646\n",
       "392  56557  11.746200  1.695517\n",
       "864  12268   5.515189  0.250562\n",
       "\n",
       "[800 rows x 3 columns]"
      ]
     },
     "execution_count": 103,
     "metadata": {},
     "output_type": "execute_result"
    }
   ],
   "source": [
    "x_train"
   ]
  },
  {
   "cell_type": "code",
   "execution_count": 104,
   "id": "53227091",
   "metadata": {},
   "outputs": [
    {
     "data": {
      "text/plain": [
       "0      largeDoses\n",
       "1      smallDoses\n",
       "2       didntLike\n",
       "3       didntLike\n",
       "4       didntLike\n",
       "          ...    \n",
       "995    smallDoses\n",
       "996     didntLike\n",
       "997    largeDoses\n",
       "998    largeDoses\n",
       "999    largeDoses\n",
       "Name: 3, Length: 1000, dtype: object"
      ]
     },
     "execution_count": 104,
     "metadata": {},
     "output_type": "execute_result"
    }
   ],
   "source": [
    "target"
   ]
  },
  {
   "cell_type": "code",
   "execution_count": 105,
   "id": "a50cad3d",
   "metadata": {},
   "outputs": [],
   "source": [
    "# 归一化~~ 对训练集特征进行预处理\n",
    "from sklearn.preprocessing import MinMaxScaler\n",
    "from sklearn.neighbors import KNeighborsClassifier"
   ]
  },
  {
   "cell_type": "code",
   "execution_count": 106,
   "id": "07551741",
   "metadata": {},
   "outputs": [],
   "source": [
    "mm=MinMaxScaler()\n",
    "m_x_train=mm.fit_transform(x_train)"
   ]
  },
  {
   "cell_type": "code",
   "execution_count": 107,
   "id": "3781d800",
   "metadata": {},
   "outputs": [
    {
     "data": {
      "text/plain": [
       "array([[0.10400666, 0.32142592, 0.33162236],\n",
       "       [0.17465187, 0.        , 0.03543224],\n",
       "       [0.88795153, 0.75686141, 0.92488496],\n",
       "       ...,\n",
       "       [0.74178563, 0.28866195, 0.89030024],\n",
       "       [0.61964655, 0.56149931, 1.        ],\n",
       "       [0.13440996, 0.26364057, 0.14719768]])"
      ]
     },
     "execution_count": 107,
     "metadata": {},
     "output_type": "execute_result"
    }
   ],
   "source": [
    "m_x_train"
   ]
  },
  {
   "cell_type": "code",
   "execution_count": 108,
   "id": "03e995bb",
   "metadata": {},
   "outputs": [
    {
     "data": {
      "text/plain": [
       "(800, 3)"
      ]
     },
     "execution_count": 108,
     "metadata": {},
     "output_type": "execute_result"
    }
   ],
   "source": [
    "m_x_train.shape"
   ]
  },
  {
   "cell_type": "code",
   "execution_count": 109,
   "id": "7b046431",
   "metadata": {},
   "outputs": [
    {
     "data": {
      "text/plain": [
       "(200, 3)"
      ]
     },
     "execution_count": 109,
     "metadata": {},
     "output_type": "execute_result"
    }
   ],
   "source": [
    "# 对测试集数据进行归一化处理\n",
    "m_x_test=mm.transform(x_test)\n",
    "m_x_test.shape"
   ]
  },
  {
   "cell_type": "code",
   "execution_count": 110,
   "id": "a997c6a2",
   "metadata": {},
   "outputs": [],
   "source": [
    "scores=[]\n",
    "ks=[]\n",
    "for k in range(3,55):\n",
    "    knn=KNeighborsClassifier(n_neighbors=k)\n",
    "    knn.fit(m_x_train,y_train)\n",
    "    score=knn.score(m_x_test,y_test)\n",
    "    scores.append(score)\n",
    "    ks.append(k)"
   ]
  },
  {
   "cell_type": "code",
   "execution_count": 111,
   "id": "d08d11a9",
   "metadata": {},
   "outputs": [],
   "source": [
    "import matplotlib.pyplot as plt"
   ]
  },
  {
   "cell_type": "code",
   "execution_count": 112,
   "id": "220a4d01",
   "metadata": {},
   "outputs": [
    {
     "data": {
      "text/plain": [
       "[<matplotlib.lines.Line2D at 0x1ac2a196280>]"
      ]
     },
     "execution_count": 112,
     "metadata": {},
     "output_type": "execute_result"
    },
    {
     "data": {
      "image/png": "[encoded data removed]",
      "text/plain": [
       "<Figure size 432x288 with 1 Axes>"
      ]
     },
     "metadata": {
      "needs_background": "light"
     },
     "output_type": "display_data"
    }
   ],
   "source": [
    "scores_arr=np.array(scores)\n",
    "k_arr=np.array(ks)\n",
    "plt.plot(k_arr,scores_arr)"
   ]
  },
  {
   "cell_type": "code",
   "execution_count": 113,
   "id": "5690bbb7",
   "metadata": {},
   "outputs": [
    {
     "data": {
      "text/plain": [
       "12"
      ]
     },
     "execution_count": 113,
     "metadata": {},
     "output_type": "execute_result"
    }
   ],
   "source": [
    "scores_arr.argmax()"
   ]
  },
  {
   "cell_type": "code",
   "execution_count": 114,
   "id": "905a2117",
   "metadata": {},
   "outputs": [
    {
     "data": {
      "text/plain": [
       "15"
      ]
     },
     "execution_count": 114,
     "metadata": {},
     "output_type": "execute_result"
    }
   ],
   "source": [
    "k_arr[12]"
   ]
  },
  {
   "cell_type": "code",
   "execution_count": 115,
   "id": "41fa2bba",
   "metadata": {},
   "outputs": [],
   "source": [
    "knn=KNeighborsClassifier(n_neighbors=15).fit(m_x_train,y_train)"
   ]
  },
  {
   "cell_type": "code",
   "execution_count": 116,
   "id": "5e0e373e",
   "metadata": {},
   "outputs": [
    {
     "data": {
      "text/plain": [
       "0.965"
      ]
     },
     "execution_count": 116,
     "metadata": {},
     "output_type": "execute_result"
    }
   ],
   "source": [
    "knn.score(m_x_test,y_test)"
   ]
  },
  {
   "cell_type": "code",
   "execution_count": 117,
   "id": "fa9bbb02",
   "metadata": {},
   "outputs": [
    {
     "data": {
      "text/plain": [
       "array([[0.24322636, 0.00956053, 0.05833704]])"
      ]
     },
     "execution_count": 117,
     "metadata": {},
     "output_type": "execute_result"
    }
   ],
   "source": [
    "test1=[22200,0.2,0.1]\n",
    "test1=mm.transform([test1])\n",
    "test1"
   ]
  },
  {
   "cell_type": "code",
   "execution_count": 118,
   "id": "d63726bf",
   "metadata": {},
   "outputs": [
    {
     "data": {
      "text/plain": [
       "array(['smallDoses'], dtype=object)"
      ]
     },
     "execution_count": 118,
     "metadata": {},
     "output_type": "execute_result"
    }
   ],
   "source": [
    "knn.predict(test1)"
   ]
  },
  {
   "cell_type": "code",
   "execution_count": 119,
   "id": "d841786f",
   "metadata": {},
   "outputs": [
    {
     "data": {
      "text/plain": [
       "725    largeDoses\n",
       "986    smallDoses\n",
       "815     didntLike\n",
       "656    smallDoses\n",
       "469    smallDoses\n",
       "          ...    \n",
       "871    largeDoses\n",
       "947     didntLike\n",
       "258     didntLike\n",
       "38     largeDoses\n",
       "227     didntLike\n",
       "Name: 3, Length: 200, dtype: object"
      ]
     },
     "execution_count": 119,
     "metadata": {},
     "output_type": "execute_result"
    }
   ],
   "source": [
    "y_test"
   ]
  },
  {
   "cell_type": "code",
   "execution_count": 120,
   "id": "6665c2fd",
   "metadata": {},
   "outputs": [
    {
     "data": {
      "text/plain": [
       "(800, 3)"
      ]
     },
     "execution_count": 120,
     "metadata": {},
     "output_type": "execute_result"
    }
   ],
   "source": [
    "x_train.shape"
   ]
  },
  {
   "cell_type": "code",
   "execution_count": 121,
   "id": "c6f0b4f6",
   "metadata": {},
   "outputs": [],
   "source": [
    "from sklearn.datasets import load_iris\n",
    "from sklearn.model_selection import cross_val_score"
   ]
  },
  {
   "cell_type": "code",
   "execution_count": null,
   "id": "fd140452",
   "metadata": {},
   "outputs": [],
   "source": []
  },
  {
   "cell_type": "code",
   "execution_count": 122,
   "id": "b431c870",
   "metadata": {},
   "outputs": [
    {
     "data": {
      "text/plain": [
       "0.7"
      ]
     },
     "execution_count": 122,
     "metadata": {},
     "output_type": "execute_result"
    }
   ],
   "source": [
    "iris=load_iris()\n",
    "feature=iris.data\n",
    "target=iris.target\n",
    "x_train,x_test,y_train,y_test=train_test_split(feature,target,train_size=0.2,random_state=1996)\n",
    "cross_val_score(knn,x_train,y_train,cv=5).mean()"
   ]
  },
  {
   "cell_type": "code",
   "execution_count": 126,
   "id": "684a4cc0",
   "metadata": {},
   "outputs": [],
   "source": [
    "scores=[]\n",
    "cvs=[]\n",
    "for i in range(3,22):\n",
    "    knn=KNeighborsClassifier(n_neighbors=i)\n",
    "    score=cross_val_score(knn,x_train,y_train,cv=6).mean()\n",
    "    scores.append(score)\n",
    "    cvs.append(i)"
   ]
  },
  {
   "cell_type": "code",
   "execution_count": 127,
   "id": "89404ecf",
   "metadata": {},
   "outputs": [
    {
     "data": {
      "text/plain": [
       "[0.9,\n",
       " 0.9333333333333332,\n",
       " 0.9,\n",
       " 0.9,\n",
       " 0.9,\n",
       " 0.9,\n",
       " 0.9,\n",
       " 0.9,\n",
       " 0.9333333333333332,\n",
       " 0.8333333333333334,\n",
       " 0.8333333333333334,\n",
       " 0.6999999999999998,\n",
       " 0.6999999999999998,\n",
       " 0.6999999999999998,\n",
       " 0.6999999999999998,\n",
       " 0.6999999999999998,\n",
       " 0.6333333333333334,\n",
       " 0.6333333333333334,\n",
       " 0.5]"
      ]
     },
     "execution_count": 127,
     "metadata": {},
     "output_type": "execute_result"
    }
   ],
   "source": [
    "scores"
   ]
  },
  {
   "cell_type": "code",
   "execution_count": 128,
   "id": "bd79e3b5",
   "metadata": {},
   "outputs": [
    {
     "data": {
      "text/plain": [
       "[<matplotlib.lines.Line2D at 0x1ac29b15100>]"
      ]
     },
     "execution_count": 128,
     "metadata": {},
     "output_type": "execute_result"
    },
    {
     "data": {
      "image/png": "[encoded data removed]",
      "text/plain": [
       "<Figure size 432x288 with 1 Axes>"
      ]
     },
     "metadata": {
      "needs_background": "light"
     },
     "output_type": "display_data"
    }
   ],
   "source": [
    "plt.plot(cvs,scores)"
   ]
  },
  {
   "cell_type": "code",
   "execution_count": 130,
   "id": "b86ce1c5",
   "metadata": {},
   "outputs": [
    {
     "data": {
      "text/plain": [
       "1"
      ]
     },
     "execution_count": 130,
     "metadata": {},
     "output_type": "execute_result"
    }
   ],
   "source": [
    "scores=np.array(scores)\n",
    "scores.argmax()"
   ]
  },
  {
   "cell_type": "code",
   "execution_count": 131,
   "id": "50aa17de",
   "metadata": {},
   "outputs": [
    {
     "data": {
      "text/plain": [
       "4"
      ]
     },
     "execution_count": 131,
     "metadata": {},
     "output_type": "execute_result"
    }
   ],
   "source": [
    "cvs[1]"
   ]
  },
  {
   "cell_type": "code",
   "execution_count": null,
   "id": "da2ed81e",
   "metadata": {},
   "outputs": [],
   "source": []
  }
 ],
 "metadata": {
  "kernelspec": {
   "display_name": "Python 3 (ipykernel)",
   "language": "python",
   "name": "python3"
  },
  "language_info": {
   "codemirror_mode": {
    "name": "ipython",
    "version": 3
   },
   "file_extension": ".py",
   "mimetype": "text/x-python",
   "name": "python",
   "nbconvert_exporter": "python",
   "pygments_lexer": "ipython3",
   "version": "3.9.6"
  },
  "toc": {
   "base_numbering": 1,
   "nav_menu": {},
   "number_sections": true,
   "sideBar": true,
   "skip_h1_title": false,
   "title_cell": "Table of Contents",
   "title_sidebar": "Contents",
   "toc_cell": false,
   "toc_position": {},
   "toc_section_display": true,
   "toc_window_display": false
  },
  "varInspector": {
   "cols": {
    "lenName": 16,
    "lenType": 16,
    "lenVar": 40
   },
   "kernels_config": {
    "python": {
     "delete_cmd_postfix": "",
     "delete_cmd_prefix": "del ",
     "library": "var_list.py",
     "varRefreshCmd": "print(var_dic_list())"
    },
    "r": {
     "delete_cmd_postfix": ") ",
     "delete_cmd_prefix": "rm(",
     "library": "var_list.r",
     "varRefreshCmd": "cat(var_dic_list()) "
    }
   },
   "types_to_exclude": [
    "module",
    "function",
    "builtin_function_or_method",
    "instance",
    "_Feature"
   ],
   "window_display": false
  }
 },
 "nbformat": 4,
 "nbformat_minor": 5
}
