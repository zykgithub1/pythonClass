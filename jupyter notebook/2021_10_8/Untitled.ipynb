{
 "cells": [
  {
   "cell_type": "code",
   "execution_count": 1,
   "id": "646caf7c",
   "metadata": {},
   "outputs": [],
   "source": [
    "import numpy as np\n",
    "import pandas as pd\n",
    "import matplotlib.pyplot as plt\n",
    "import seaborn as sns\n",
    "import matplotlib as mpl\n",
    "%matplotlib inline"
   ]
  },
  {
   "cell_type": "code",
   "execution_count": 2,
   "id": "bdce9ee3",
   "metadata": {},
   "outputs": [
    {
     "data": {
      "text/plain": [
       "<Figure size 1280x800 with 0 Axes>"
      ]
     },
     "metadata": {},
     "output_type": "display_data"
    }
   ],
   "source": [
    "fig=plt.figure(figsize=(16,10),dpi=80)\n",
    "grid=plt.GridSpec(4,4,hspace=0.5,wspace=0.2)"
   ]
  },
  {
   "cell_type": "code",
   "execution_count": 3,
   "id": "bb71eec6",
   "metadata": {},
   "outputs": [
    {
     "name": "stderr",
     "output_type": "stream",
     "text": [
      "C:\\Users\\zyk\\AppData\\Local\\Temp/ipykernel_11728/89474557.py:1: UserWarning: Matplotlib is currently using module://matplotlib_inline.backend_inline, which is a non-GUI backend, so cannot show the figure.\n",
      "  fig.show()\n"
     ]
    }
   ],
   "source": [
    "fig.show()"
   ]
  },
  {
   "cell_type": "code",
   "execution_count": 4,
   "id": "15d314b9",
   "metadata": {},
   "outputs": [],
   "source": [
    "ax_main=fig.add_subplot(grid[:-1,:-1])\n",
    "ax_right=fig.add_subplot(grid[:-1,-1],xticklabels=[],yticklabels=[])\n",
    "ax_bottom=fig.add_subplot(grid[-1,0:-1],xticklabels=[],yticklabels=[])"
   ]
  },
  {
   "cell_type": "code",
   "execution_count": 5,
   "id": "097c3c23",
   "metadata": {},
   "outputs": [
    {
     "ename": "NameError",
     "evalue": "name 'np' is not defined",
     "output_type": "error",
     "traceback": [
      "\u001b[1;31m---------------------------------------------------------------------------\u001b[0m",
      "\u001b[1;31mNameError\u001b[0m                                 Traceback (most recent call last)",
      "\u001b[1;32m~\\AppData\\Local\\Temp/ipykernel_11284/3048339951.py\u001b[0m in \u001b[0;36m<module>\u001b[1;34m\u001b[0m\n\u001b[1;32m----> 1\u001b[1;33m \u001b[0mX\u001b[0m\u001b[1;33m=\u001b[0m\u001b[0mnp\u001b[0m\u001b[1;33m.\u001b[0m\u001b[0mrandom\u001b[0m\u001b[1;33m.\u001b[0m\u001b[0mrandn\u001b[0m\u001b[1;33m(\u001b[0m\u001b[1;36m10000\u001b[0m\u001b[1;33m)\u001b[0m\u001b[1;33m\u001b[0m\u001b[1;33m\u001b[0m\u001b[0m\n\u001b[0m\u001b[0;32m      2\u001b[0m \u001b[0my\u001b[0m\u001b[1;33m=\u001b[0m\u001b[0mnp\u001b[0m\u001b[1;33m.\u001b[0m\u001b[0mrandom\u001b[0m\u001b[1;33m.\u001b[0m\u001b[0mrandn\u001b[0m\u001b[1;33m(\u001b[0m\u001b[1;36m10000\u001b[0m\u001b[1;33m)\u001b[0m\u001b[1;33m\u001b[0m\u001b[1;33m\u001b[0m\u001b[0m\n",
      "\u001b[1;31mNameError\u001b[0m: name 'np' is not defined"
     ]
    }
   ],
   "source": [
    "X=np.random.randn(10000)\n",
    "y=np.random.randn(10000)"
   ]
  },
  {
   "cell_type": "code",
   "execution_count": 4,
   "id": "a47dc928",
   "metadata": {},
   "outputs": [
    {
     "ename": "NameError",
     "evalue": "name 'plt' is not defined",
     "output_type": "error",
     "traceback": [
      "\u001b[1;31m---------------------------------------------------------------------------\u001b[0m",
      "\u001b[1;31mNameError\u001b[0m                                 Traceback (most recent call last)",
      "\u001b[1;32m~\\AppData\\Local\\Temp/ipykernel_11284/679849901.py\u001b[0m in \u001b[0;36m<module>\u001b[1;34m\u001b[0m\n\u001b[1;32m----> 1\u001b[1;33m n,bins,patches=plt.hist(x=[X,y],bins=100,\n\u001b[0m\u001b[0;32m      2\u001b[0m \u001b[1;31m#                        histtype='bar'\u001b[0m\u001b[1;33m\u001b[0m\u001b[1;33m\u001b[0m\u001b[1;33m\u001b[0m\u001b[0m\n\u001b[0;32m      3\u001b[0m                         \u001b[0morientation\u001b[0m\u001b[1;33m=\u001b[0m\u001b[1;34m\"vertical\"\u001b[0m\u001b[1;33m,\u001b[0m\u001b[1;33m\u001b[0m\u001b[1;33m\u001b[0m\u001b[0m\n\u001b[0;32m      4\u001b[0m                         \u001b[0mhisttype\u001b[0m\u001b[1;33m=\u001b[0m\u001b[1;34m\"stepfilled\"\u001b[0m\u001b[1;33m,\u001b[0m\u001b[1;33m\u001b[0m\u001b[1;33m\u001b[0m\u001b[0m\n\u001b[0;32m      5\u001b[0m                         \u001b[0mcolor\u001b[0m\u001b[1;33m=\u001b[0m\u001b[1;33m[\u001b[0m\u001b[1;34m\"pink\"\u001b[0m\u001b[1;33m,\u001b[0m\u001b[1;34m\"blue\"\u001b[0m\u001b[1;33m]\u001b[0m\u001b[1;33m\u001b[0m\u001b[1;33m\u001b[0m\u001b[0m\n",
      "\u001b[1;31mNameError\u001b[0m: name 'plt' is not defined"
     ]
    }
   ],
   "source": [
    "n,bins,patches=plt.hist(X,bins=100,\n",
    "#                        histtype='bar'\n",
    "                        orientation=\"vertical\",\n",
    "                        histtype=\"stepfilled\",\n",
    "                        color=[\"pink\",\"blue\"]\n",
    "                       )"
   ]
  },
  {
   "cell_type": "code",
   "execution_count": 7,
   "id": "39beee6e",
   "metadata": {},
   "outputs": [
    {
     "data": {
      "text/plain": [
       "array([[  1.,   0.,   0.,   0.,   0.,   0.,   0.,   2.,   2.,   1.,   0.,\n",
       "          3.,   1.,   4.,   4.,   2.,  11.,   7.,   7.,  13.,  18.,  17.,\n",
       "         40.,  25.,  42.,  39.,  42.,  59.,  74.,  78.,  85., 102., 115.,\n",
       "        144., 143., 171., 177., 190., 242., 272., 246., 262., 294., 311.,\n",
       "        296., 327., 292., 304., 323., 341., 341., 315., 334., 342., 322.,\n",
       "        306., 276., 278., 275., 212., 229., 193., 172., 164., 167., 148.,\n",
       "        102., 104., 100.,  75.,  56.,  64.,  51.,  49.,  35.,  32.,  31.,\n",
       "         14.,  21.,  12.,   8.,  10.,   9.,   8.,   4.,   3.,   0.,   4.,\n",
       "          1.,   0.,   1.,   0.,   1.,   1.,   0.,   1.,   0.,   0.,   0.,\n",
       "          0.],\n",
       "       [  0.,   0.,   0.,   1.,   0.,   0.,   0.,   0.,   0.,   0.,   0.,\n",
       "          2.,   1.,   3.,   2.,   6.,  10.,   8.,   6.,  22.,  20.,  23.,\n",
       "         22.,  27.,  31.,  47.,  60.,  63.,  73.,  71.,  82., 107., 142.,\n",
       "        140., 138., 175., 197., 195., 228., 254., 265., 265., 283., 291.,\n",
       "        287., 305., 326., 341., 355., 319., 341., 323., 327., 344., 324.,\n",
       "        284., 288., 273., 247., 240., 233., 182., 152., 151., 140., 115.,\n",
       "        131., 126.,  98.,  75.,  63.,  69.,  56.,  41.,  31.,  24.,  28.,\n",
       "         20.,   9.,  17.,   8.,  11.,  11.,   8.,   4.,   2.,   2.,   0.,\n",
       "          2.,   2.,   2.,   0.,   0.,   0.,   1.,   0.,   0.,   1.,   0.,\n",
       "          1.]])"
      ]
     },
     "execution_count": 7,
     "metadata": {},
     "output_type": "execute_result"
    }
   ],
   "source": [
    "n"
   ]
  },
  {
   "cell_type": "code",
   "execution_count": 8,
   "id": "96636db7",
   "metadata": {},
   "outputs": [
    {
     "data": {
      "text/plain": [
       "array([-4.19571886, -4.1110282 , -4.02633754, -3.94164688, -3.85695622,\n",
       "       -3.77226556, -3.6875749 , -3.60288424, -3.51819358, -3.43350292,\n",
       "       -3.34881227, -3.26412161, -3.17943095, -3.09474029, -3.01004963,\n",
       "       -2.92535897, -2.84066831, -2.75597765, -2.67128699, -2.58659633,\n",
       "       -2.50190567, -2.41721501, -2.33252435, -2.24783369, -2.16314303,\n",
       "       -2.07845237, -1.99376171, -1.90907105, -1.82438039, -1.73968973,\n",
       "       -1.65499907, -1.57030841, -1.48561775, -1.40092709, -1.31623643,\n",
       "       -1.23154577, -1.14685511, -1.06216445, -0.97747379, -0.89278313,\n",
       "       -0.80809247, -0.72340181, -0.63871115, -0.55402049, -0.46932983,\n",
       "       -0.38463917, -0.29994851, -0.21525786, -0.1305672 , -0.04587654,\n",
       "        0.03881412,  0.12350478,  0.20819544,  0.2928861 ,  0.37757676,\n",
       "        0.46226742,  0.54695808,  0.63164874,  0.7163394 ,  0.80103006,\n",
       "        0.88572072,  0.97041138,  1.05510204,  1.1397927 ,  1.22448336,\n",
       "        1.30917402,  1.39386468,  1.47855534,  1.563246  ,  1.64793666,\n",
       "        1.73262732,  1.81731798,  1.90200864,  1.9866993 ,  2.07138996,\n",
       "        2.15608062,  2.24077128,  2.32546194,  2.4101526 ,  2.49484326,\n",
       "        2.57953392,  2.66422458,  2.74891524,  2.8336059 ,  2.91829656,\n",
       "        3.00298721,  3.08767787,  3.17236853,  3.25705919,  3.34174985,\n",
       "        3.42644051,  3.51113117,  3.59582183,  3.68051249,  3.76520315,\n",
       "        3.84989381,  3.93458447,  4.01927513,  4.10396579,  4.18865645,\n",
       "        4.27334711])"
      ]
     },
     "execution_count": 8,
     "metadata": {},
     "output_type": "execute_result"
    }
   ],
   "source": [
    "bins"
   ]
  },
  {
   "cell_type": "code",
   "execution_count": 9,
   "id": "5bb2fe0c",
   "metadata": {},
   "outputs": [
    {
     "name": "stdout",
     "output_type": "stream",
     "text": [
      "Polygon401((-4.19572, 0) ...)\n"
     ]
    }
   ],
   "source": [
    "for i in patches[0]:\n",
    "    print(i)"
   ]
  },
  {
   "cell_type": "code",
   "execution_count": 14,
   "id": "482e4449",
   "metadata": {},
   "outputs": [],
   "source": [
    "df=pd.read_csv(\"https://raw.githubusercontent.com/selva86/datasets/master/mpg_ggplot2.csv\")"
   ]
  },
  {
   "cell_type": "code",
   "execution_count": 15,
   "id": "46653259",
   "metadata": {},
   "outputs": [
    {
     "data": {
      "text/html": [
       "<div>\n",
       "<style scoped>\n",
       "    .dataframe tbody tr th:only-of-type {\n",
       "        vertical-align: middle;\n",
       "    }\n",
       "\n",
       "    .dataframe tbody tr th {\n",
       "        vertical-align: top;\n",
       "    }\n",
       "\n",
       "    .dataframe thead th {\n",
       "        text-align: right;\n",
       "    }\n",
       "</style>\n",
       "<table border=\"1\" class=\"dataframe\">\n",
       "  <thead>\n",
       "    <tr style=\"text-align: right;\">\n",
       "      <th></th>\n",
       "      <th>manufacturer</th>\n",
       "      <th>model</th>\n",
       "      <th>displ</th>\n",
       "      <th>year</th>\n",
       "      <th>cyl</th>\n",
       "      <th>trans</th>\n",
       "      <th>drv</th>\n",
       "      <th>cty</th>\n",
       "      <th>hwy</th>\n",
       "      <th>fl</th>\n",
       "      <th>class</th>\n",
       "    </tr>\n",
       "  </thead>\n",
       "  <tbody>\n",
       "    <tr>\n",
       "      <th>0</th>\n",
       "      <td>audi</td>\n",
       "      <td>a4</td>\n",
       "      <td>1.8</td>\n",
       "      <td>1999</td>\n",
       "      <td>4</td>\n",
       "      <td>auto(l5)</td>\n",
       "      <td>f</td>\n",
       "      <td>18</td>\n",
       "      <td>29</td>\n",
       "      <td>p</td>\n",
       "      <td>compact</td>\n",
       "    </tr>\n",
       "    <tr>\n",
       "      <th>1</th>\n",
       "      <td>audi</td>\n",
       "      <td>a4</td>\n",
       "      <td>1.8</td>\n",
       "      <td>1999</td>\n",
       "      <td>4</td>\n",
       "      <td>manual(m5)</td>\n",
       "      <td>f</td>\n",
       "      <td>21</td>\n",
       "      <td>29</td>\n",
       "      <td>p</td>\n",
       "      <td>compact</td>\n",
       "    </tr>\n",
       "    <tr>\n",
       "      <th>2</th>\n",
       "      <td>audi</td>\n",
       "      <td>a4</td>\n",
       "      <td>2.0</td>\n",
       "      <td>2008</td>\n",
       "      <td>4</td>\n",
       "      <td>manual(m6)</td>\n",
       "      <td>f</td>\n",
       "      <td>20</td>\n",
       "      <td>31</td>\n",
       "      <td>p</td>\n",
       "      <td>compact</td>\n",
       "    </tr>\n",
       "    <tr>\n",
       "      <th>3</th>\n",
       "      <td>audi</td>\n",
       "      <td>a4</td>\n",
       "      <td>2.0</td>\n",
       "      <td>2008</td>\n",
       "      <td>4</td>\n",
       "      <td>auto(av)</td>\n",
       "      <td>f</td>\n",
       "      <td>21</td>\n",
       "      <td>30</td>\n",
       "      <td>p</td>\n",
       "      <td>compact</td>\n",
       "    </tr>\n",
       "    <tr>\n",
       "      <th>4</th>\n",
       "      <td>audi</td>\n",
       "      <td>a4</td>\n",
       "      <td>2.8</td>\n",
       "      <td>1999</td>\n",
       "      <td>6</td>\n",
       "      <td>auto(l5)</td>\n",
       "      <td>f</td>\n",
       "      <td>16</td>\n",
       "      <td>26</td>\n",
       "      <td>p</td>\n",
       "      <td>compact</td>\n",
       "    </tr>\n",
       "  </tbody>\n",
       "</table>\n",
       "</div>"
      ],
      "text/plain": [
       "  manufacturer model  displ  year  cyl       trans drv  cty  hwy fl    class\n",
       "0         audi    a4    1.8  1999    4    auto(l5)   f   18   29  p  compact\n",
       "1         audi    a4    1.8  1999    4  manual(m5)   f   21   29  p  compact\n",
       "2         audi    a4    2.0  2008    4  manual(m6)   f   20   31  p  compact\n",
       "3         audi    a4    2.0  2008    4    auto(av)   f   21   30  p  compact\n",
       "4         audi    a4    2.8  1999    6    auto(l5)   f   16   26  p  compact"
      ]
     },
     "execution_count": 15,
     "metadata": {},
     "output_type": "execute_result"
    }
   ],
   "source": [
    "df.head()"
   ]
  },
  {
   "cell_type": "code",
   "execution_count": 19,
   "id": "a8ed16df",
   "metadata": {},
   "outputs": [
    {
     "data": {
      "text/plain": [
       "array(['manufacturer', 'model', 'displ', 'year', 'cyl', 'trans', 'drv',\n",
       "       'cty', 'hwy', 'fl', 'class'], dtype=object)"
      ]
     },
     "execution_count": 19,
     "metadata": {},
     "output_type": "execute_result"
    }
   ],
   "source": [
    "df.columns.values"
   ]
  },
  {
   "cell_type": "code",
   "execution_count": 36,
   "id": "05b7521c",
   "metadata": {},
   "outputs": [
    {
     "data": {
      "text/plain": [
       "<Figure size 1280x800 with 0 Axes>"
      ]
     },
     "metadata": {},
     "output_type": "display_data"
    }
   ],
   "source": [
    "fig=plt.figure(figsize=(16,10),dpi=80,facecolor=\"black\")\n",
    "grid=plt.GridSpec(4,4,hspace=0.5,wspace=0.2)"
   ]
  },
  {
   "cell_type": "code",
   "execution_count": 41,
   "id": "8caafa44",
   "metadata": {},
   "outputs": [],
   "source": [
    "ax_main=fig.add_subplot(grid[:-1,:-1])\n",
    "ax_right=fig.add_subplot(grid[:-1,-1],xticklabels=[],yticklabels=[])\n",
    "ax_bottom=fig.add_subplot(grid[-1,0:-1],xticklabels=[],yticklabels=[])\n",
    "ax_main="
   ]
  },
  {
   "cell_type": "code",
   "execution_count": null,
   "id": "81f6a0b1",
   "metadata": {},
   "outputs": [],
   "source": []
  },
  {
   "cell_type": "code",
   "execution_count": null,
   "id": "7f4d4892",
   "metadata": {},
   "outputs": [],
   "source": []
  },
  {
   "cell_type": "code",
   "execution_count": null,
   "id": "ed409aa6",
   "metadata": {},
   "outputs": [],
   "source": []
  },
  {
   "cell_type": "code",
   "execution_count": null,
   "id": "63ea97d0",
   "metadata": {},
   "outputs": [],
   "source": []
  },
  {
   "cell_type": "code",
   "execution_count": null,
   "id": "d7fea045",
   "metadata": {},
   "outputs": [],
   "source": []
  },
  {
   "cell_type": "code",
   "execution_count": null,
   "id": "9374119b",
   "metadata": {},
   "outputs": [],
   "source": []
  },
  {
   "cell_type": "code",
   "execution_count": null,
   "id": "4785e829",
   "metadata": {},
   "outputs": [],
   "source": []
  },
  {
   "cell_type": "code",
   "execution_count": null,
   "id": "2a1cd82e",
   "metadata": {},
   "outputs": [],
   "source": []
  },
  {
   "cell_type": "code",
   "execution_count": null,
   "id": "c9baefa9",
   "metadata": {},
   "outputs": [],
   "source": []
  },
  {
   "cell_type": "code",
   "execution_count": null,
   "id": "8261998d",
   "metadata": {},
   "outputs": [],
   "source": []
  },
  {
   "cell_type": "code",
   "execution_count": null,
   "id": "e45f2897",
   "metadata": {},
   "outputs": [],
   "source": []
  },
  {
   "cell_type": "code",
   "execution_count": null,
   "id": "a6bcaed7",
   "metadata": {},
   "outputs": [],
   "source": []
  },
  {
   "cell_type": "markdown",
   "id": "8de98579",
   "metadata": {},
   "source": []
  },
  {
   "cell_type": "code",
   "execution_count": 38,
   "id": "9ea41720",
   "metadata": {},
   "outputs": [
    {
     "data": {
      "image/png": "[encoded data removed]",
      "text/plain": [
       "<Figure size 432x288 with 2 Axes>"
      ]
     },
     "metadata": {},
     "output_type": "display_data"
    }
   ],
   "source": [
    "ax1 = plt.axes([0.0, 0.0, 0.7, 1])\n",
    "ax2 = plt.axes([0.95, 0.0, 0.25, 1])"
   ]
  },
  {
   "cell_type": "code",
   "execution_count": 39,
   "id": "0c45c63e",
   "metadata": {},
   "outputs": [
    {
     "name": "stderr",
     "output_type": "stream",
     "text": [
      "C:\\Users\\zyk\\AppData\\Local\\Temp/ipykernel_11728/210728423.py:61: UserWarning: This figure includes Axes that are not compatible with tight_layout, so results might be incorrect.\n",
      "  plt.tight_layout()\n"
     ]
    },
    {
     "data": {
      "image/png": "[encoded data removed]",
      "text/plain": [
       "<Figure size 504x360 with 3 Axes>"
      ]
     },
     "metadata": {},
     "output_type": "display_data"
    }
   ],
   "source": [
    "from matplotlib import font_manager as fm\n",
    "from  matplotlib import cm\n",
    "from matplotlib import font_manager as fm\n",
    "import matplotlib as mpl\n",
    "import pandas as pd\n",
    "import numpy as np\n",
    "import matplotlib.pyplot as plt\n",
    " \n",
    "plt.style.use('ggplot')\n",
    " \n",
    "# 原始数据\n",
    "shapes = ['Cross', 'Cone', 'Egg', 'Teardrop', 'Chevron', 'Diamond', 'Cylinder',\n",
    "       'Rectangle', 'Flash', 'Cigar', 'Changing', 'Formation', 'Oval', 'Disk',\n",
    "       'Sphere', 'Fireball', 'Triangle', 'Circle', 'Light']\n",
    "values = [  287,   383,   842,   866,  1187,  1405,  1495,  1620,  1717,\n",
    "        2313,  2378,  3070,  4332,  5841,  6482,  7785,  9358,  9818, 20254]\n",
    " \n",
    "s = pd.Series(values, index=shapes)\n",
    "s\n",
    " \n",
    "labels = s.index\n",
    "sizes = s.values\n",
    "# explode = (0.2,0,0,0,0,0,0,0,0,0,0,0,0,0,0,0,0,0,0)  # only \"explode\" the 1st slice\n",
    " \n",
    "fig, axes = plt.subplots(figsize=[7,5] ) # 设置绘图区域大小\n",
    "#ax1, ax2 = axes.ravel()\n",
    " \n",
    "ax1 = plt.axes([0.0, 0.0, 0.7, 1])\n",
    "#axes.axis('off')\n",
    " \n",
    "ax2 = plt.axes([0.75, 0.0, 0.25, 1])\n",
    "ax2.axis('off')\n",
    "#ax3 = plt.axes([0.75, 0.0, 0.25, 1])\n",
    "#ax2.axis('off')\n",
    "axes.axis('off')\n",
    " \n",
    " \n",
    " \n",
    "# for ax in axes:\n",
    "#     ax.axis('off')\n",
    " \n",
    "colors = cm.rainbow(np.arange(len(sizes))/len(sizes)) # colormaps: Paired, autumn, rainbow, gray,spring,Darks\n",
    " \n",
    "patches, texts, autotexts = ax1.pie(sizes, labels=labels, autopct='%1.0f%%',\n",
    "        shadow=False, startangle=170, colors=colors)\n",
    " \n",
    "ax1.axis('equal')\n",
    " \n",
    "# 重新设置字体大小\n",
    "proptease = fm.FontProperties()\n",
    "proptease.set_size('xx-small')\n",
    "# font size include: ‘xx-small’,x-small’,'small’,'medium’,‘large’,‘x-large’,‘xx-large’ or number, e.g. '12'\n",
    "plt.setp(autotexts, fontproperties=proptease)\n",
    "plt.setp(texts, fontproperties=proptease)\n",
    " \n",
    "#ax1.set_title('Shapes', loc='center')\n",
    " \n",
    "# ax2 只显示图例（legend）\n",
    "ax2.legend(patches, labels, loc='right')\n",
    " \n",
    "plt.tight_layout()\n",
    "plt.savefig('Demo_project_set_legend_good.jpg')\n",
    "plt.show()\n",
    "\n"
   ]
  },
  {
   "cell_type": "code",
   "execution_count": null,
   "id": "4d71a2f0",
   "metadata": {},
   "outputs": [],
   "source": []
  },
  {
   "cell_type": "code",
   "execution_count": null,
   "id": "5205a096",
   "metadata": {},
   "outputs": [],
   "source": []
  },
  {
   "cell_type": "code",
   "execution_count": null,
   "id": "957ecdf9",
   "metadata": {},
   "outputs": [],
   "source": []
  }
 ],
 "metadata": {
  "kernelspec": {
   "display_name": "Python 3 (ipykernel)",
   "language": "python",
   "name": "python3"
  },
  "language_info": {
   "codemirror_mode": {
    "name": "ipython",
    "version": 3
   },
   "file_extension": ".py",
   "mimetype": "text/x-python",
   "name": "python",
   "nbconvert_exporter": "python",
   "pygments_lexer": "ipython3",
   "version": "3.9.6"
  }
 },
 "nbformat": 4,
 "nbformat_minor": 5
}
