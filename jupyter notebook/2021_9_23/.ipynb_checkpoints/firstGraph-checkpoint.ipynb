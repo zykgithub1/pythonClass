{
 "cells": [
  {
   "cell_type": "code",
   "execution_count": 1,
   "id": "6251cb0d",
   "metadata": {},
   "outputs": [],
   "source": [
    "import numpy as np\n",
    "import pandas as pd\n",
    "import matplotlib as mpl\n",
    "import matplotlib.pyplot as plt\n",
    "import seaborn as sns"
   ]
  },
  {
   "cell_type": "code",
   "execution_count": 2,
   "id": "622ffafd",
   "metadata": {},
   "outputs": [],
   "source": [
    "midwest=pd.read_csv(\"https://raw.githubusercontent.com/selva86/datasets/master/midwest_filter.csv\")"
   ]
  },
  {
   "cell_type": "code",
   "execution_count": 3,
   "id": "ec7cd90b",
   "metadata": {},
   "outputs": [
    {
     "data": {
      "text/html": [
       "<div>\n",
       "<style scoped>\n",
       "    .dataframe tbody tr th:only-of-type {\n",
       "        vertical-align: middle;\n",
       "    }\n",
       "\n",
       "    .dataframe tbody tr th {\n",
       "        vertical-align: top;\n",
       "    }\n",
       "\n",
       "    .dataframe thead th {\n",
       "        text-align: right;\n",
       "    }\n",
       "</style>\n",
       "<table border=\"1\" class=\"dataframe\">\n",
       "  <thead>\n",
       "    <tr style=\"text-align: right;\">\n",
       "      <th></th>\n",
       "      <th>PID</th>\n",
       "      <th>county</th>\n",
       "      <th>state</th>\n",
       "      <th>area</th>\n",
       "      <th>poptotal</th>\n",
       "      <th>popdensity</th>\n",
       "      <th>popwhite</th>\n",
       "      <th>popblack</th>\n",
       "      <th>popamerindian</th>\n",
       "      <th>popasian</th>\n",
       "      <th>...</th>\n",
       "      <th>percprof</th>\n",
       "      <th>poppovertyknown</th>\n",
       "      <th>percpovertyknown</th>\n",
       "      <th>percbelowpoverty</th>\n",
       "      <th>percchildbelowpovert</th>\n",
       "      <th>percadultpoverty</th>\n",
       "      <th>percelderlypoverty</th>\n",
       "      <th>inmetro</th>\n",
       "      <th>category</th>\n",
       "      <th>dot_size</th>\n",
       "    </tr>\n",
       "  </thead>\n",
       "  <tbody>\n",
       "    <tr>\n",
       "      <th>0</th>\n",
       "      <td>561</td>\n",
       "      <td>ADAMS</td>\n",
       "      <td>IL</td>\n",
       "      <td>0.052</td>\n",
       "      <td>66090</td>\n",
       "      <td>1270.961540</td>\n",
       "      <td>63917</td>\n",
       "      <td>1702</td>\n",
       "      <td>98</td>\n",
       "      <td>249</td>\n",
       "      <td>...</td>\n",
       "      <td>4.355859</td>\n",
       "      <td>63628</td>\n",
       "      <td>96.274777</td>\n",
       "      <td>13.151443</td>\n",
       "      <td>18.011717</td>\n",
       "      <td>11.009776</td>\n",
       "      <td>12.443812</td>\n",
       "      <td>0</td>\n",
       "      <td>AAR</td>\n",
       "      <td>250.944411</td>\n",
       "    </tr>\n",
       "    <tr>\n",
       "      <th>1</th>\n",
       "      <td>562</td>\n",
       "      <td>ALEXANDER</td>\n",
       "      <td>IL</td>\n",
       "      <td>0.014</td>\n",
       "      <td>10626</td>\n",
       "      <td>759.000000</td>\n",
       "      <td>7054</td>\n",
       "      <td>3496</td>\n",
       "      <td>19</td>\n",
       "      <td>48</td>\n",
       "      <td>...</td>\n",
       "      <td>2.870315</td>\n",
       "      <td>10529</td>\n",
       "      <td>99.087145</td>\n",
       "      <td>32.244278</td>\n",
       "      <td>45.826514</td>\n",
       "      <td>27.385647</td>\n",
       "      <td>25.228976</td>\n",
       "      <td>0</td>\n",
       "      <td>LHR</td>\n",
       "      <td>185.781260</td>\n",
       "    </tr>\n",
       "    <tr>\n",
       "      <th>2</th>\n",
       "      <td>563</td>\n",
       "      <td>BOND</td>\n",
       "      <td>IL</td>\n",
       "      <td>0.022</td>\n",
       "      <td>14991</td>\n",
       "      <td>681.409091</td>\n",
       "      <td>14477</td>\n",
       "      <td>429</td>\n",
       "      <td>35</td>\n",
       "      <td>16</td>\n",
       "      <td>...</td>\n",
       "      <td>4.488572</td>\n",
       "      <td>14235</td>\n",
       "      <td>94.956974</td>\n",
       "      <td>12.068844</td>\n",
       "      <td>14.036061</td>\n",
       "      <td>10.852090</td>\n",
       "      <td>12.697410</td>\n",
       "      <td>0</td>\n",
       "      <td>AAR</td>\n",
       "      <td>175.905385</td>\n",
       "    </tr>\n",
       "    <tr>\n",
       "      <th>3</th>\n",
       "      <td>564</td>\n",
       "      <td>BOONE</td>\n",
       "      <td>IL</td>\n",
       "      <td>0.017</td>\n",
       "      <td>30806</td>\n",
       "      <td>1812.117650</td>\n",
       "      <td>29344</td>\n",
       "      <td>127</td>\n",
       "      <td>46</td>\n",
       "      <td>150</td>\n",
       "      <td>...</td>\n",
       "      <td>4.197800</td>\n",
       "      <td>30337</td>\n",
       "      <td>98.477569</td>\n",
       "      <td>7.209019</td>\n",
       "      <td>11.179536</td>\n",
       "      <td>5.536013</td>\n",
       "      <td>6.217047</td>\n",
       "      <td>1</td>\n",
       "      <td>ALU</td>\n",
       "      <td>319.823487</td>\n",
       "    </tr>\n",
       "    <tr>\n",
       "      <th>4</th>\n",
       "      <td>565</td>\n",
       "      <td>BROWN</td>\n",
       "      <td>IL</td>\n",
       "      <td>0.018</td>\n",
       "      <td>5836</td>\n",
       "      <td>324.222222</td>\n",
       "      <td>5264</td>\n",
       "      <td>547</td>\n",
       "      <td>14</td>\n",
       "      <td>5</td>\n",
       "      <td>...</td>\n",
       "      <td>3.367680</td>\n",
       "      <td>4815</td>\n",
       "      <td>82.505140</td>\n",
       "      <td>13.520249</td>\n",
       "      <td>13.022889</td>\n",
       "      <td>11.143211</td>\n",
       "      <td>19.200000</td>\n",
       "      <td>0</td>\n",
       "      <td>AAR</td>\n",
       "      <td>130.442161</td>\n",
       "    </tr>\n",
       "  </tbody>\n",
       "</table>\n",
       "<p>5 rows × 29 columns</p>\n",
       "</div>"
      ],
      "text/plain": [
       "   PID     county state   area  poptotal   popdensity  popwhite  popblack  \\\n",
       "0  561      ADAMS    IL  0.052     66090  1270.961540     63917      1702   \n",
       "1  562  ALEXANDER    IL  0.014     10626   759.000000      7054      3496   \n",
       "2  563       BOND    IL  0.022     14991   681.409091     14477       429   \n",
       "3  564      BOONE    IL  0.017     30806  1812.117650     29344       127   \n",
       "4  565      BROWN    IL  0.018      5836   324.222222      5264       547   \n",
       "\n",
       "   popamerindian  popasian  ...  percprof  poppovertyknown  percpovertyknown  \\\n",
       "0             98       249  ...  4.355859            63628         96.274777   \n",
       "1             19        48  ...  2.870315            10529         99.087145   \n",
       "2             35        16  ...  4.488572            14235         94.956974   \n",
       "3             46       150  ...  4.197800            30337         98.477569   \n",
       "4             14         5  ...  3.367680             4815         82.505140   \n",
       "\n",
       "   percbelowpoverty  percchildbelowpovert  percadultpoverty  \\\n",
       "0         13.151443             18.011717         11.009776   \n",
       "1         32.244278             45.826514         27.385647   \n",
       "2         12.068844             14.036061         10.852090   \n",
       "3          7.209019             11.179536          5.536013   \n",
       "4         13.520249             13.022889         11.143211   \n",
       "\n",
       "   percelderlypoverty  inmetro  category    dot_size  \n",
       "0           12.443812        0       AAR  250.944411  \n",
       "1           25.228976        0       LHR  185.781260  \n",
       "2           12.697410        0       AAR  175.905385  \n",
       "3            6.217047        1       ALU  319.823487  \n",
       "4           19.200000        0       AAR  130.442161  \n",
       "\n",
       "[5 rows x 29 columns]"
      ]
     },
     "execution_count": 3,
     "metadata": {},
     "output_type": "execute_result"
    }
   ],
   "source": [
    "midwest.head()"
   ]
  },
  {
   "cell_type": "code",
   "execution_count": 4,
   "id": "2e90e363",
   "metadata": {},
   "outputs": [
    {
     "data": {
      "text/plain": [
       "(332, 29)"
      ]
     },
     "execution_count": 4,
     "metadata": {},
     "output_type": "execute_result"
    }
   ],
   "source": [
    "midwest.shape"
   ]
  },
  {
   "cell_type": "code",
   "execution_count": 6,
   "id": "f4e44067",
   "metadata": {},
   "outputs": [
    {
     "data": {
      "text/plain": [
       "Index(['PID', 'county', 'state', 'area', 'poptotal', 'popdensity', 'popwhite',\n",
       "       'popblack', 'popamerindian', 'popasian', 'popother', 'percwhite',\n",
       "       'percblack', 'percamerindan', 'percasian', 'percother', 'popadults',\n",
       "       'perchsd', 'percollege', 'percprof', 'poppovertyknown',\n",
       "       'percpovertyknown', 'percbelowpoverty', 'percchildbelowpovert',\n",
       "       'percadultpoverty', 'percelderlypoverty', 'inmetro', 'category',\n",
       "       'dot_size'],\n",
       "      dtype='object')"
      ]
     },
     "execution_count": 6,
     "metadata": {},
     "output_type": "execute_result"
    }
   ],
   "source": [
    "midwest.columns"
   ]
  },
  {
   "cell_type": "code",
   "execution_count": 8,
   "id": "4e7f611b",
   "metadata": {},
   "outputs": [
    {
     "data": {
      "text/plain": [
       "(0.09019607843137255, 0.7450980392156863, 0.8117647058823529, 1.0)"
      ]
     },
     "execution_count": 8,
     "metadata": {},
     "output_type": "execute_result"
    }
   ],
   "source": [
    "plt.cm.tab10(6/2.7)"
   ]
  },
  {
   "cell_type": "code",
   "execution_count": 9,
   "id": "3ad55c0b",
   "metadata": {},
   "outputs": [
    {
     "data": {
      "text/plain": [
       "0      0.052\n",
       "1      0.014\n",
       "2      0.022\n",
       "3      0.017\n",
       "4      0.018\n",
       "       ...  \n",
       "327    0.032\n",
       "328    0.050\n",
       "329    0.045\n",
       "330    0.037\n",
       "331    0.048\n",
       "Name: area, Length: 332, dtype: float64"
      ]
     },
     "execution_count": 9,
     "metadata": {},
     "output_type": "execute_result"
    }
   ],
   "source": [
    "midwest[\"area\"]"
   ]
  },
  {
   "cell_type": "code",
   "execution_count": 13,
   "id": "dc70ff99",
   "metadata": {},
   "outputs": [
    {
     "data": {
      "text/plain": [
       "0      66090\n",
       "1      10626\n",
       "2      14991\n",
       "3      30806\n",
       "4       5836\n",
       "       ...  \n",
       "327    75000\n",
       "328    13772\n",
       "329    46104\n",
       "330    19385\n",
       "331    73605\n",
       "Name: poptotal, Length: 332, dtype: int64"
      ]
     },
     "execution_count": 13,
     "metadata": {},
     "output_type": "execute_result"
    }
   ],
   "source": [
    "midwest[\"poptotal\"]"
   ]
  },
  {
   "cell_type": "code",
   "execution_count": 12,
   "id": "e3b78801",
   "metadata": {},
   "outputs": [],
   "source": [
    "categories=np.unique(midwest.category)"
   ]
  },
  {
   "cell_type": "code",
   "execution_count": 18,
   "id": "650ac183",
   "metadata": {},
   "outputs": [
    {
     "data": {
      "text/plain": [
       "array(['AAR', 'AAU', 'AHR', 'ALR', 'ALU', 'HAR', 'HAU', 'HHR', 'HLR',\n",
       "       'HLU', 'LAR', 'LAU', 'LHR', 'LHU'], dtype=object)"
      ]
     },
     "execution_count": 18,
     "metadata": {},
     "output_type": "execute_result"
    }
   ],
   "source": [
    "categories"
   ]
  },
  {
   "cell_type": "code",
   "execution_count": 19,
   "id": "396609c1",
   "metadata": {},
   "outputs": [
    {
     "name": "stderr",
     "output_type": "stream",
     "text": [
      "*c* argument looks like a single numeric RGB or RGBA sequence, which should be avoided as value-mapping will have precedence in case its length matches with *x* & *y*.  Please use the *color* keyword-argument or provide a 2D array with a single row if you intend to specify the same RGB or RGBA value for all points.\n"
     ]
    },
    {
     "data": {
      "text/plain": [
       "<matplotlib.collections.PathCollection at 0x23f96969310>"
      ]
     },
     "execution_count": 19,
     "metadata": {},
     "output_type": "execute_result"
    },
    {
     "data": {
      "image/png": "[encoded data removed]",
      "text/plain": [
       "<Figure size 432x288 with 1 Axes>"
      ]
     },
     "metadata": {
      "needs_background": "light"
     },
     "output_type": "display_data"
    }
   ],
   "source": [
    "#self atempt\n",
    "plt.scatter(midwest.area,midwest.poptotal,c=plt.cm.tab10(3/2.7))"
   ]
  },
  {
   "cell_type": "code",
   "execution_count": 33,
   "id": "ad7ae684",
   "metadata": {},
   "outputs": [],
   "source": [
    "color1=plt.cm.tab10(7.1)"
   ]
  },
  {
   "cell_type": "code",
   "execution_count": 34,
   "id": "1c763af9",
   "metadata": {},
   "outputs": [
    {
     "data": {
      "text/plain": [
       "numpy.ndarray"
      ]
     },
     "execution_count": 34,
     "metadata": {},
     "output_type": "execute_result"
    }
   ],
   "source": [
    "x1=np.array(np.random.randn(10))\n",
    "type(x1)"
   ]
  },
  {
   "cell_type": "code",
   "execution_count": 35,
   "id": "b082c7be",
   "metadata": {},
   "outputs": [
    {
     "data": {
      "text/plain": [
       "array([-0.94127572, -1.0627274 , -0.1853682 ,  0.28087029,  0.23291397,\n",
       "        0.27121549,  0.12144106, -0.24018722, -0.08799307,  1.70415013])"
      ]
     },
     "execution_count": 35,
     "metadata": {},
     "output_type": "execute_result"
    }
   ],
   "source": [
    "x11=np.random.randn(10)\n",
    "x11"
   ]
  },
  {
   "cell_type": "code",
   "execution_count": 36,
   "id": "183e3456",
   "metadata": {},
   "outputs": [],
   "source": [
    "x2=x1+x1**2-10"
   ]
  },
  {
   "cell_type": "code",
   "execution_count": 41,
   "id": "16dd7e1d",
   "metadata": {},
   "outputs": [
    {
     "data": {
      "text/plain": [
       "<matplotlib.collections.PathCollection at 0x23f963950a0>"
      ]
     },
     "execution_count": 41,
     "metadata": {},
     "output_type": "execute_result"
    },
    {
     "data": {
      "image/png": "[encoded data removed]",
      "text/plain": [
       "<Figure size 432x288 with 1 Axes>"
      ]
     },
     "metadata": {
      "needs_background": "light"
     },
     "output_type": "display_data"
    }
   ],
   "source": [
    "plt.scatter(x1,x2,c=np.array(color1).reshape(1,-1))"
   ]
  },
  {
   "cell_type": "code",
   "execution_count": 90,
   "id": "b9afe191",
   "metadata": {},
   "outputs": [
    {
     "data": {
      "text/plain": [
       "<matplotlib.legend.Legend at 0x23f96d6b370>"
      ]
     },
     "execution_count": 90,
     "metadata": {},
     "output_type": "execute_result"
    },
    {
     "data": {
      "image/png": "[encoded data removed]",
      "text/plain": [
       "<Figure size 1440x576 with 1 Axes>"
      ]
     },
     "metadata": {
      "needs_background": "light"
     },
     "output_type": "display_data"
    }
   ],
   "source": [
    "plt.figure(figsize=(20,8))\n",
    "for i in range(len(categories)):\n",
    "    plt.scatter(midwest[midwest[\"category\"]==categories[i]][\"area\"],\n",
    "               midwest[midwest[\"category\"]==categories[i]][\"poptotal\"],\n",
    "                s=20,label=categories[i],\n",
    "               c=np.array(plt.cm.tab10(i/len(categories))).reshape(1,-1),\n",
    "               )\n",
    "plt.legend()\n"
   ]
  },
  {
   "cell_type": "code",
   "execution_count": 93,
   "id": "7f12bb27",
   "metadata": {},
   "outputs": [
    {
     "data": {
      "text/plain": [
       "[(0.12156862745098039, 0.4666666666666667, 0.7058823529411765, 1.0),\n",
       " (0.12156862745098039, 0.4666666666666667, 0.7058823529411765, 1.0),\n",
       " (1.0, 0.4980392156862745, 0.054901960784313725, 1.0),\n",
       " (0.17254901960784313, 0.6274509803921569, 0.17254901960784313, 1.0),\n",
       " (0.8392156862745098, 0.15294117647058825, 0.1568627450980392, 1.0),\n",
       " (0.8392156862745098, 0.15294117647058825, 0.1568627450980392, 1.0),\n",
       " (0.5803921568627451, 0.403921568627451, 0.7411764705882353, 1.0),\n",
       " (0.5490196078431373, 0.33725490196078434, 0.29411764705882354, 1.0),\n",
       " (0.8901960784313725, 0.4666666666666667, 0.7607843137254902, 1.0),\n",
       " (0.8901960784313725, 0.4666666666666667, 0.7607843137254902, 1.0),\n",
       " (0.4980392156862745, 0.4980392156862745, 0.4980392156862745, 1.0),\n",
       " (0.7372549019607844, 0.7411764705882353, 0.13333333333333333, 1.0),\n",
       " (0.09019607843137255, 0.7450980392156863, 0.8117647058823529, 1.0),\n",
       " (0.09019607843137255, 0.7450980392156863, 0.8117647058823529, 1.0)]"
      ]
     },
     "execution_count": 93,
     "metadata": {},
     "output_type": "execute_result"
    }
   ],
   "source": [
    "colors=[plt.cm.tab10(i/float(len(categories)-1)) for i in range(len(categories))]\n",
    "colors"
   ]
  },
  {
   "cell_type": "code",
   "execution_count": 66,
   "id": "1b946e0a",
   "metadata": {
    "collapsed": true
   },
   "outputs": [
    {
     "data": {
      "text/plain": [
       "0      0.052\n",
       "2      0.022\n",
       "4      0.018\n",
       "5      0.050\n",
       "7      0.027\n",
       "       ...  \n",
       "327    0.032\n",
       "328    0.050\n",
       "329    0.045\n",
       "330    0.037\n",
       "331    0.048\n",
       "Name: area, Length: 186, dtype: float64"
      ]
     },
     "execution_count": 66,
     "metadata": {},
     "output_type": "execute_result"
    }
   ],
   "source": [
    "midwest[midwest[\"category\"]==categories[0]][\"area\"]\n",
    "midwest.loc[midwest[\"category\"]==categories[0],\"area\"]"
   ]
  },
  {
   "cell_type": "code",
   "execution_count": 97,
   "id": "7dab4bda",
   "metadata": {},
   "outputs": [
    {
     "data": {
      "image/png": "[encoded data removed]",
      "text/plain": [
       "<Figure size 720x576 with 1 Axes>"
      ]
     },
     "metadata": {
      "needs_background": "light"
     },
     "output_type": "display_data"
    }
   ],
   "source": [
    "plt.figure(figsize=(10,8))\n",
    "\n",
    "for i in range(len(categories)):\n",
    "    plt.scatter(midwest[midwest[\"category\"]==categories[i]][\"area\"],\n",
    "                midwest[midwest[\"category\"]==categories[i]][\"poptotal\"],\n",
    "                c=np.array(colors[i]).reshape(1,-1),\n",
    "                s=20\n",
    "               )"
   ]
  },
  {
   "cell_type": "code",
   "execution_count": null,
   "id": "991d1568",
   "metadata": {},
   "outputs": [],
   "source": []
  },
  {
   "cell_type": "code",
   "execution_count": null,
   "id": "80349a4a",
   "metadata": {},
   "outputs": [],
   "source": []
  }
 ],
 "metadata": {
  "kernelspec": {
   "display_name": "Python 3 (ipykernel)",
   "language": "python",
   "name": "python3"
  },
  "language_info": {
   "codemirror_mode": {
    "name": "ipython",
    "version": 3
   },
   "file_extension": ".py",
   "mimetype": "text/x-python",
   "name": "python",
   "nbconvert_exporter": "python",
   "pygments_lexer": "ipython3",
   "version": "3.9.6"
  }
 },
 "nbformat": 4,
 "nbformat_minor": 5
}
