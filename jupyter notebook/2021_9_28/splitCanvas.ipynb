{
 "cells": [
  {
   "cell_type": "code",
   "execution_count": 1,
   "id": "41f6a086",
   "metadata": {},
   "outputs": [],
   "source": [
    "import numpy as np\n",
    "import pandas as pd\n",
    "import matplotlib as mpl\n",
    "import matplotlib.pyplot as plt\n",
    "import seaborn as sns\n",
    "%matplotlib inline"
   ]
  },
  {
   "cell_type": "code",
   "execution_count": 2,
   "id": "1ee77dae",
   "metadata": {},
   "outputs": [],
   "source": [
    "df=pd.read_csv(\"https://raw.githubusercontent.com/selva86/datasets/master/mpg_ggplot2.csv\")"
   ]
  },
  {
   "cell_type": "code",
   "execution_count": 24,
   "id": "e4b41765",
   "metadata": {},
   "outputs": [
    {
     "data": {
      "text/plain": [
       "<Figure size 1280x800 with 0 Axes>"
      ]
     },
     "metadata": {},
     "output_type": "display_data"
    }
   ],
   "source": [
    "fig=plt.figure(figsize=(16,10),dpi=80)\n",
    "grid=plt.GridSpec(4,4,hspace=0.5,wspace=0.2)"
   ]
  },
  {
   "cell_type": "code",
   "execution_count": 25,
   "id": "ed5530cf",
   "metadata": {},
   "outputs": [],
   "source": [
    "ax_main=fig.add_subplot(grid[:-1,:-1])\n",
    "ax_right=fig.add_subplot(grid[:-1,-1],xticklabels=[],yticklabels=[])\n",
    "ax_bottom=fig.add_subplot(grid[-1,0:-1],xticklabels=[],yticklabels=[])"
   ]
  },
  {
   "cell_type": "code",
   "execution_count": 26,
   "id": "53ec4710",
   "metadata": {},
   "outputs": [
    {
     "data": {
      "text/plain": [
       "<module 'matplotlib.pyplot' from 'd:\\\\codeinstalls\\\\python\\\\lib\\\\site-packages\\\\matplotlib\\\\pyplot.py'>"
      ]
     },
     "execution_count": 26,
     "metadata": {},
     "output_type": "execute_result"
    }
   ],
   "source": [
    "plt"
   ]
  },
  {
   "cell_type": "code",
   "execution_count": 37,
   "id": "970081e7",
   "metadata": {},
   "outputs": [],
   "source": [
    "x=np.random.randn(10000)\n",
    "y=np.random.randn(10000)"
   ]
  },
  {
   "cell_type": "code",
   "execution_count": 28,
   "id": "792460b0",
   "metadata": {},
   "outputs": [
    {
     "data": {
      "text/plain": [
       "(10000,)"
      ]
     },
     "execution_count": 28,
     "metadata": {},
     "output_type": "execute_result"
    }
   ],
   "source": [
    "x.shape"
   ]
  },
  {
   "cell_type": "code",
   "execution_count": 46,
   "id": "d3f6381c",
   "metadata": {},
   "outputs": [
    {
     "data": {
      "image/png": "[encoded data removed]",
      "text/plain": [
       "<Figure size 432x288 with 1 Axes>"
      ]
     },
     "metadata": {
      "needs_background": "light"
     },
     "output_type": "display_data"
    }
   ],
   "source": [
    "n,bins,patches=plt.hist(x=[x,y],bins=50,\n",
    "      #  orientation=\"horizontal\",\n",
    "         orientation=\"vertical\",\n",
    "         color=[\"red\",\"green\"]\n",
    "#          histtype=\"stepfilled\"\n",
    "        )"
   ]
  },
  {
   "cell_type": "code",
   "execution_count": 48,
   "id": "8b0a85cc",
   "metadata": {},
   "outputs": [
    {
     "data": {
      "text/plain": [
       "(51,)"
      ]
     },
     "execution_count": 48,
     "metadata": {},
     "output_type": "execute_result"
    }
   ],
   "source": [
    "bins.shape"
   ]
  },
  {
   "cell_type": "code",
   "execution_count": 52,
   "id": "144a9867",
   "metadata": {},
   "outputs": [
    {
     "data": {
      "text/plain": [
       "[<BarContainer object of 50 artists>, <BarContainer object of 50 artists>]"
      ]
     },
     "execution_count": 52,
     "metadata": {},
     "output_type": "execute_result"
    }
   ],
   "source": [
    "[*patches]"
   ]
  },
  {
   "cell_type": "code",
   "execution_count": 53,
   "id": "47ccd58c",
   "metadata": {},
   "outputs": [
    {
     "data": {
      "text/plain": [
       "<a list of 2 BarContainer objects>"
      ]
     },
     "execution_count": 53,
     "metadata": {},
     "output_type": "execute_result"
    }
   ],
   "source": [
    "patches"
   ]
  },
  {
   "cell_type": "code",
   "execution_count": null,
   "id": "8406920c",
   "metadata": {},
   "outputs": [],
   "source": []
  }
 ],
 "metadata": {
  "kernelspec": {
   "display_name": "Python 3 (ipykernel)",
   "language": "python",
   "name": "python3"
  },
  "language_info": {
   "codemirror_mode": {
    "name": "ipython",
    "version": 3
   },
   "file_extension": ".py",
   "mimetype": "text/x-python",
   "name": "python",
   "nbconvert_exporter": "python",
   "pygments_lexer": "ipython3",
   "version": "3.9.6"
  }
 },
 "nbformat": 4,
 "nbformat_minor": 5
}
