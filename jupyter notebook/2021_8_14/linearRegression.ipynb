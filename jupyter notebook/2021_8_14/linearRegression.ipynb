{
 "cells": [
  {
   "cell_type": "code",
   "execution_count": 6,
   "id": "717653a9",
   "metadata": {},
   "outputs": [],
   "source": [
    "import pandas as pd\n",
    "import matplotlib.pyplot as plt\n",
    "from pylab import mpl\n",
    "mpl.rcParams['font.sans-serif']=['FangSong']\n",
    "mpl.rcParams['axes.unicode_minus']=False"
   ]
  },
  {
   "cell_type": "code",
   "execution_count": 7,
   "id": "1ef97f47",
   "metadata": {},
   "outputs": [
    {
     "data": {
      "text/html": [
       "<div>\n",
       "<style scoped>\n",
       "    .dataframe tbody tr th:only-of-type {\n",
       "        vertical-align: middle;\n",
       "    }\n",
       "\n",
       "    .dataframe tbody tr th {\n",
       "        vertical-align: top;\n",
       "    }\n",
       "\n",
       "    .dataframe thead th {\n",
       "        text-align: right;\n",
       "    }\n",
       "</style>\n",
       "<table border=\"1\" class=\"dataframe\">\n",
       "  <thead>\n",
       "    <tr style=\"text-align: right;\">\n",
       "      <th></th>\n",
       "      <th>area</th>\n",
       "      <th>price</th>\n",
       "    </tr>\n",
       "  </thead>\n",
       "  <tbody>\n",
       "    <tr>\n",
       "      <th>0</th>\n",
       "      <td>55</td>\n",
       "      <td>110</td>\n",
       "    </tr>\n",
       "    <tr>\n",
       "      <th>1</th>\n",
       "      <td>76</td>\n",
       "      <td>152</td>\n",
       "    </tr>\n",
       "    <tr>\n",
       "      <th>2</th>\n",
       "      <td>80</td>\n",
       "      <td>160</td>\n",
       "    </tr>\n",
       "    <tr>\n",
       "      <th>3</th>\n",
       "      <td>100</td>\n",
       "      <td>200</td>\n",
       "    </tr>\n",
       "    <tr>\n",
       "      <th>4</th>\n",
       "      <td>120</td>\n",
       "      <td>240</td>\n",
       "    </tr>\n",
       "    <tr>\n",
       "      <th>5</th>\n",
       "      <td>150</td>\n",
       "      <td>300</td>\n",
       "    </tr>\n",
       "  </tbody>\n",
       "</table>\n",
       "</div>"
      ],
      "text/plain": [
       "   area  price\n",
       "0    55    110\n",
       "1    76    152\n",
       "2    80    160\n",
       "3   100    200\n",
       "4   120    240\n",
       "5   150    300"
      ]
     },
     "execution_count": 7,
     "metadata": {},
     "output_type": "execute_result"
    }
   ],
   "source": [
    "dic={\n",
    "    'area':[55,76,80,100,120,150],\n",
    "    'price':[110,152,160,200,240,300]\n",
    "}\n",
    "df=pd.DataFrame(dic)\n",
    "df"
   ]
  },
  {
   "cell_type": "code",
   "execution_count": 13,
   "id": "7de61695",
   "metadata": {},
   "outputs": [
    {
     "data": {
      "text/plain": [
       "<matplotlib.collections.PathCollection at 0x236c0510160>"
      ]
     },
     "execution_count": 13,
     "metadata": {},
     "output_type": "execute_result"
    },
    {
     "data": {
      "image/png": "[encoded data removed]",
      "text/plain": [
       "<Figure size 432x288 with 1 Axes>"
      ]
     },
     "metadata": {
      "needs_background": "light"
     },
     "output_type": "display_data"
    }
   ],
   "source": [
    "plt.scatter(df.area,df.price)\n",
    "plt.xlabel('area')\n",
    "plt.ylabel('price')\n",
    "plt.title('relations of estate area and price')\n",
    "plt.scatter(np.linspace(0,180,1000),np.linspace(0,180,1000)*2,alpha=0.01)"
   ]
  },
  {
   "cell_type": "code",
   "execution_count": 15,
   "id": "5f49be6b",
   "metadata": {},
   "outputs": [],
   "source": [
    "from sklearn.linear_model import LinearRegression\n",
    "from sklearn.model_selection import train_test_split\n",
    "from sklearn.datasets import fetch_california_housing as fch"
   ]
  },
  {
   "cell_type": "code",
   "execution_count": 17,
   "id": "bc014e1a",
   "metadata": {},
   "outputs": [],
   "source": [
    "feature=fch().data\n",
    "target=fch().target"
   ]
  },
  {
   "cell_type": "code",
   "execution_count": 23,
   "id": "4a00fbae",
   "metadata": {},
   "outputs": [
    {
     "data": {
      "text/plain": [
       "['MedInc',\n",
       " 'HouseAge',\n",
       " 'AveRooms',\n",
       " 'AveBedrms',\n",
       " 'Population',\n",
       " 'AveOccup',\n",
       " 'Latitude',\n",
       " 'Longitude']"
      ]
     },
     "execution_count": 23,
     "metadata": {},
     "output_type": "execute_result"
    }
   ],
   "source": [
    "fch().feature_names"
   ]
  },
  {
   "cell_type": "code",
   "execution_count": 20,
   "id": "c14e926d",
   "metadata": {},
   "outputs": [
    {
     "data": {
      "text/plain": [
       "(20640,)"
      ]
     },
     "execution_count": 20,
     "metadata": {},
     "output_type": "execute_result"
    }
   ],
   "source": [
    "target.shape"
   ]
  },
  {
   "cell_type": "code",
   "execution_count": 24,
   "id": "0237578b",
   "metadata": {},
   "outputs": [],
   "source": [
    "x_train,x_test,y_train,y_test=train_test_split(feature,target,test_size=0.2,random_state=1996)"
   ]
  },
  {
   "cell_type": "code",
   "execution_count": 28,
   "id": "3e2ea4e6",
   "metadata": {},
   "outputs": [
    {
     "data": {
      "text/plain": [
       "LinearRegression()"
      ]
     },
     "execution_count": 28,
     "metadata": {},
     "output_type": "execute_result"
    }
   ],
   "source": [
    "linner=LinearRegression()\n",
    "linner.fit(x_train,y_train)\n"
   ]
  },
  {
   "cell_type": "code",
   "execution_count": 31,
   "id": "9506a263",
   "metadata": {},
   "outputs": [
    {
     "data": {
      "text/plain": [
       "0.610173372225379"
      ]
     },
     "execution_count": 31,
     "metadata": {},
     "output_type": "execute_result"
    }
   ],
   "source": [
    "linner.score(x_train,y_train)"
   ]
  },
  {
   "cell_type": "code",
   "execution_count": 33,
   "id": "10a0a35f",
   "metadata": {},
   "outputs": [
    {
     "data": {
      "text/plain": [
       "array([ 4.41613770e-01,  9.62129948e-03, -1.16128772e-01,  7.38740865e-01,\n",
       "       -3.64198732e-06, -4.15526029e-03, -4.19774718e-01, -4.34522048e-01])"
      ]
     },
     "execution_count": 33,
     "metadata": {},
     "output_type": "execute_result"
    }
   ],
   "source": [
    "# linner regression's target is getting coef ->w\n",
    "linner.coef_"
   ]
  },
  {
   "cell_type": "code",
   "execution_count": 34,
   "id": "5b3267db",
   "metadata": {},
   "outputs": [
    {
     "data": {
      "text/plain": [
       "-37.07533269275561"
      ]
     },
     "execution_count": 34,
     "metadata": {},
     "output_type": "execute_result"
    }
   ],
   "source": [
    "# 截距  ->b\n",
    "linner.intercept_"
   ]
  },
  {
   "cell_type": "code",
   "execution_count": 39,
   "id": "83032dc7",
   "metadata": {},
   "outputs": [
    {
     "data": {
      "text/plain": [
       "[('MedInc', 0.4416137699919398),\n",
       " ('HouseAge', 0.009621299483482065),\n",
       " ('AveRooms', -0.11612877167587636),\n",
       " ('AveBedrms', 0.7387408653099437),\n",
       " ('Population', -3.641987315150183e-06),\n",
       " ('AveOccup', -0.004155260287933562),\n",
       " ('Latitude', -0.4197747179219054),\n",
       " ('Longitude', -0.434522048340946)]"
      ]
     },
     "execution_count": 39,
     "metadata": {},
     "output_type": "execute_result"
    }
   ],
   "source": [
    "[*zip(fch().feature_names,linner.coef_)]"
   ]
  },
  {
   "cell_type": "code",
   "execution_count": 40,
   "id": "37602880",
   "metadata": {},
   "outputs": [],
   "source": [
    "from sklearn.metrics import mean_squared_error"
   ]
  },
  {
   "cell_type": "code",
   "execution_count": 49,
   "id": "383e89d7",
   "metadata": {},
   "outputs": [
    {
     "data": {
      "text/plain": [
       "array([3.36339302, 2.20876078, 2.54593161, ..., 1.20663604, 3.48069077,\n",
       "       0.64067101])"
      ]
     },
     "execution_count": 49,
     "metadata": {},
     "output_type": "execute_result"
    }
   ],
   "source": [
    "y_true=y_test\n",
    "y_pre=linner.predict(x_test)\n",
    "y_pre"
   ]
  },
  {
   "cell_type": "code",
   "execution_count": 50,
   "id": "4a27be4a",
   "metadata": {},
   "outputs": [
    {
     "data": {
      "text/plain": [
       "array([4.384, 2.711, 2.472, ..., 1.5  , 2.739, 0.917])"
      ]
     },
     "execution_count": 50,
     "metadata": {},
     "output_type": "execute_result"
    }
   ],
   "source": [
    "y_true"
   ]
  },
  {
   "cell_type": "code",
   "execution_count": 51,
   "id": "d08c6789",
   "metadata": {},
   "outputs": [
    {
     "data": {
      "text/plain": [
       "0.5325925627311785"
      ]
     },
     "execution_count": 51,
     "metadata": {},
     "output_type": "execute_result"
    }
   ],
   "source": [
    "# this value should largely small\n",
    "# 它与y_true.min()的比较  是评判的重要指标  不能比min大\n",
    "mean_squared_error(y_true,y_pre)"
   ]
  },
  {
   "cell_type": "code",
   "execution_count": 58,
   "id": "2a78c32d",
   "metadata": {},
   "outputs": [
    {
     "name": "stdout",
     "output_type": "stream",
     "text": [
      "y_true->max 5.00001      y_true->min 0.325\n"
     ]
    }
   ],
   "source": [
    "print(\"y_true->max\",y_true.max(),\"     y_true->min\",y_true.min())"
   ]
  },
  {
   "cell_type": "code",
   "execution_count": 59,
   "id": "d2579db9",
   "metadata": {},
   "outputs": [
    {
     "name": "stdout",
     "output_type": "stream",
     "text": [
      "y_pre->max 10.949805554521248      y_pre->min -0.9984469456441047\n"
     ]
    }
   ],
   "source": [
    "print(\"y_pre->max\",y_pre.max(),\"     y_pre->min\",y_pre.min())"
   ]
  },
  {
   "cell_type": "markdown",
   "id": "c39c3ad4",
   "metadata": {},
   "source": [
    "# 交叉验证 MSE"
   ]
  },
  {
   "cell_type": "code",
   "execution_count": 68,
   "id": "ee6b9eae",
   "metadata": {},
   "outputs": [],
   "source": [
    "from sklearn.model_selection import cross_val_score\n",
    "from sklearn.metrics import r2_score\n"
   ]
  },
  {
   "cell_type": "markdown",
   "id": "3181584e",
   "metadata": {},
   "source": [
    "# 均方误差越小越好  r2愈接近1越好\n"
   ]
  },
  {
   "cell_type": "code",
   "execution_count": 69,
   "id": "1b1007d7",
   "metadata": {},
   "outputs": [
    {
     "data": {
      "text/plain": [
       "-0.5258975784411083"
      ]
     },
     "execution_count": 69,
     "metadata": {},
     "output_type": "execute_result"
    }
   ],
   "source": [
    "cross_val_score(linner,x_train,y_train,cv=5,scoring='neg_mean_squared_error').mean()"
   ]
  },
  {
   "cell_type": "code",
   "execution_count": 70,
   "id": "4994b179",
   "metadata": {},
   "outputs": [
    {
     "data": {
      "text/plain": [
       "0.5867598426865732"
      ]
     },
     "execution_count": 70,
     "metadata": {},
     "output_type": "execute_result"
    }
   ],
   "source": [
    "r2_score(y_test,y_pre)"
   ]
  },
  {
   "cell_type": "code",
   "execution_count": 71,
   "id": "a7e77f2c",
   "metadata": {},
   "outputs": [
    {
     "data": {
      "text/plain": [
       "0.5867598426865732"
      ]
     },
     "execution_count": 71,
     "metadata": {},
     "output_type": "execute_result"
    }
   ],
   "source": [
    "r2_score(y_test,linner.predict(x_test))"
   ]
  },
  {
   "cell_type": "code",
   "execution_count": 73,
   "id": "95627c5e",
   "metadata": {},
   "outputs": [
    {
     "data": {
      "text/plain": [
       "0.5867598426865732"
      ]
     },
     "execution_count": 73,
     "metadata": {},
     "output_type": "execute_result"
    }
   ],
   "source": [
    "r2=linner.score(x_test,y_test)\n",
    "r2"
   ]
  },
  {
   "cell_type": "code",
   "execution_count": 74,
   "id": "15e6698f",
   "metadata": {},
   "outputs": [
    {
     "data": {
      "text/plain": [
       "0.6068334262363482"
      ]
     },
     "execution_count": 74,
     "metadata": {},
     "output_type": "execute_result"
    }
   ],
   "source": [
    "cross_val_score(linner,x_train,y_train,cv=10,scoring='r2').mean()"
   ]
  },
  {
   "cell_type": "code",
   "execution_count": 75,
   "id": "bb4c0a61",
   "metadata": {},
   "outputs": [
    {
     "data": {
      "text/plain": [
       "array([3.36339302, 2.20876078, 2.54593161, ..., 1.20663604, 3.48069077,\n",
       "       0.64067101])"
      ]
     },
     "execution_count": 75,
     "metadata": {},
     "output_type": "execute_result"
    }
   ],
   "source": [
    "y_pre"
   ]
  },
  {
   "cell_type": "code",
   "execution_count": 78,
   "id": "b4b00f32",
   "metadata": {},
   "outputs": [
    {
     "data": {
      "text/plain": [
       "array([4.384, 2.711, 2.472, ..., 1.5  , 2.739, 0.917])"
      ]
     },
     "execution_count": 78,
     "metadata": {},
     "output_type": "execute_result"
    }
   ],
   "source": [
    "y_true"
   ]
  },
  {
   "cell_type": "code",
   "execution_count": 77,
   "id": "1e64ae9e",
   "metadata": {},
   "outputs": [
    {
     "data": {
      "text/plain": [
       "<matplotlib.legend.Legend at 0x236da14ce50>"
      ]
     },
     "execution_count": 77,
     "metadata": {},
     "output_type": "execute_result"
    },
    {
     "data": {
      "image/png": "[encoded data removed]",
      "text/plain": [
       "<Figure size 432x288 with 1 Axes>"
      ]
     },
     "metadata": {
      "needs_background": "light"
     },
     "output_type": "display_data"
    }
   ],
   "source": [
    "plt.plot(range(len(y_test)),sorted(y_test),c='black',label='y_true')\n",
    "plt.plot(range(len(y_pre)),sorted(y_pre),c='red',label='y_pre')\n",
    "plt.legend()"
   ]
  },
  {
   "cell_type": "code",
   "execution_count": null,
   "id": "67568607",
   "metadata": {},
   "outputs": [],
   "source": []
  }
 ],
 "metadata": {
  "kernelspec": {
   "display_name": "Python 3 (ipykernel)",
   "language": "python",
   "name": "python3"
  },
  "language_info": {
   "codemirror_mode": {
    "name": "ipython",
    "version": 3
   },
   "file_extension": ".py",
   "mimetype": "text/x-python",
   "name": "python",
   "nbconvert_exporter": "python",
   "pygments_lexer": "ipython3",
   "version": "3.9.6"
  },
  "toc": {
   "base_numbering": 1,
   "nav_menu": {},
   "number_sections": true,
   "sideBar": true,
   "skip_h1_title": false,
   "title_cell": "Table of Contents",
   "title_sidebar": "Contents",
   "toc_cell": false,
   "toc_position": {},
   "toc_section_display": true,
   "toc_window_display": false
  },
  "varInspector": {
   "cols": {
    "lenName": 16,
    "lenType": 16,
    "lenVar": 40
   },
   "kernels_config": {
    "python": {
     "delete_cmd_postfix": "",
     "delete_cmd_prefix": "del ",
     "library": "var_list.py",
     "varRefreshCmd": "print(var_dic_list())"
    },
    "r": {
     "delete_cmd_postfix": ") ",
     "delete_cmd_prefix": "rm(",
     "library": "var_list.r",
     "varRefreshCmd": "cat(var_dic_list()) "
    }
   },
   "types_to_exclude": [
    "module",
    "function",
    "builtin_function_or_method",
    "instance",
    "_Feature"
   ],
   "window_display": false
  }
 },
 "nbformat": 4,
 "nbformat_minor": 5
}
