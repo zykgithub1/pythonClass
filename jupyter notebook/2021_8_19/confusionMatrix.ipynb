{
 "cells": [
  {
   "cell_type": "markdown",
   "id": "ee0fa599",
   "metadata": {},
   "source": [
    "   #                   正       反\n",
    "# 正例  真正例TP   伪反例FN\n",
    "# 反例  伪正例FP   真反例TN"
   ]
  },
  {
   "cell_type": "markdown",
   "id": "e7f2130c",
   "metadata": {},
   "source": [
    "## TPR=TP/(TP+FN)  正例占所有预测为正例的rate  越大越好"
   ]
  },
  {
   "cell_type": "markdown",
   "id": "f498ed98",
   "metadata": {},
   "source": [
    "## FPR=FP/(FP+TN)  将反例预测错占所有预测为反例的rate  越小越好  "
   ]
  },
  {
   "cell_type": "markdown",
   "id": "3543f110",
   "metadata": {},
   "source": [
    "## 准确率accuracy =(TP+TN)/(TP+FN+FP+TN)  ->  accurate prediction/all prediction"
   ]
  },
  {
   "cell_type": "markdown",
   "id": "af6a90a8",
   "metadata": {},
   "source": [
    "## 召回率recall=TP/(TP+FN)    正例被找出来了多少"
   ]
  },
  {
   "cell_type": "code",
   "execution_count": null,
   "id": "c030ef82",
   "metadata": {},
   "outputs": [],
   "source": []
  },
  {
   "cell_type": "code",
   "execution_count": null,
   "id": "7479e192",
   "metadata": {},
   "outputs": [],
   "source": []
  },
  {
   "cell_type": "code",
   "execution_count": null,
   "id": "56db81bd",
   "metadata": {},
   "outputs": [],
   "source": []
  }
 ],
 "metadata": {
  "kernelspec": {
   "display_name": "Python 3 (ipykernel)",
   "language": "python",
   "name": "python3"
  },
  "language_info": {
   "codemirror_mode": {
    "name": "ipython",
    "version": 3
   },
   "file_extension": ".py",
   "mimetype": "text/x-python",
   "name": "python",
   "nbconvert_exporter": "python",
   "pygments_lexer": "ipython3",
   "version": "3.9.6"
  }
 },
 "nbformat": 4,
 "nbformat_minor": 5
}
