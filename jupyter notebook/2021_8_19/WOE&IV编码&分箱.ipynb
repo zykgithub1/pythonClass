{
 "cells": [
  {
   "cell_type": "code",
   "execution_count": 1,
   "id": "488dfd73",
   "metadata": {},
   "outputs": [],
   "source": [
    "import numpy as np\n",
    "import pandas as pd\n",
    "#numpy .cut ->分箱"
   ]
  },
  {
   "cell_type": "code",
   "execution_count": 2,
   "id": "94b5d9ab",
   "metadata": {},
   "outputs": [
    {
     "name": "stdout",
     "output_type": "stream",
     "text": [
      "[80 57 93 53 33 91 82 43 47 49 94 47 41 48 58 37 63 48 54 88]\n"
     ]
    }
   ],
   "source": [
    "score_list=np.random.randint(30,100,size=20)\n",
    "print(score_list)"
   ]
  },
  {
   "cell_type": "markdown",
   "id": "6647ceee",
   "metadata": {},
   "source": [
    "## way 1"
   ]
  },
  {
   "cell_type": "code",
   "execution_count": 14,
   "id": "2a796ca9",
   "metadata": {
    "scrolled": true
   },
   "outputs": [
    {
     "name": "stdout",
     "output_type": "stream",
     "text": [
      "[(70, 80], (0, 59], (80, 100], (0, 59], (0, 59], ..., (0, 59], (59, 70], (0, 59], (0, 59], (80, 100]]\n",
      "Length: 20\n",
      "Categories (4, interval[int64, right]): [(0, 59] < (59, 70] < (70, 80] < (80, 100]]\n",
      "(0, 59]      13\n",
      "(80, 100]     5\n",
      "(59, 70]      1\n",
      "(70, 80]      1\n",
      "dtype: int64\n"
     ]
    }
   ],
   "source": [
    "bins=[0,59,70,80,100]\n",
    "score_cat=pd.cut(score_list,bins)\n",
    "print(score_cat)\n",
    "print(pd.value_counts(score_cat))"
   ]
  },
  {
   "cell_type": "markdown",
   "id": "dfe5a37e",
   "metadata": {},
   "source": [
    "## way2"
   ]
  },
  {
   "cell_type": "code",
   "execution_count": 15,
   "id": "2d140c72",
   "metadata": {},
   "outputs": [
    {
     "name": "stdout",
     "output_type": "stream",
     "text": [
      "[(73.667, 94.0], (53.333, 73.667], (73.667, 94.0], (32.939, 53.333], (32.939, 53.333], ..., (32.939, 53.333], (53.333, 73.667], (32.939, 53.333], (53.333, 73.667], (73.667, 94.0]]\n",
      "Length: 20\n",
      "Categories (3, interval[float64, right]): [(32.939, 53.333] < (53.333, 73.667] < (73.667, 94.0]]\n",
      "(32.939, 53.333]    10\n",
      "(73.667, 94.0]       6\n",
      "(53.333, 73.667]     4\n",
      "dtype: int64\n"
     ]
    }
   ],
   "source": [
    "bins=3\n",
    "score_cat=pd.cut(score_list,bins)\n",
    "print(score_cat)\n",
    "print(pd.value_counts(score_cat))"
   ]
  },
  {
   "cell_type": "code",
   "execution_count": 25,
   "id": "8db26dd9",
   "metadata": {},
   "outputs": [],
   "source": [
    "import sklearn.datasets as ds\n",
    "bc=ds.load_breast_cancer()"
   ]
  },
  {
   "cell_type": "code",
   "execution_count": 26,
   "id": "e0dc9da4",
   "metadata": {},
   "outputs": [],
   "source": [
    "feature=bc.data\n",
    "target=bc.target"
   ]
  },
  {
   "cell_type": "code",
   "execution_count": 28,
   "id": "fb61ac0f",
   "metadata": {},
   "outputs": [
    {
     "data": {
      "text/plain": [
       "(569, 30)"
      ]
     },
     "execution_count": 28,
     "metadata": {},
     "output_type": "execute_result"
    }
   ],
   "source": [
    "feature.shape"
   ]
  },
  {
   "cell_type": "code",
   "execution_count": 47,
   "id": "74d0aded",
   "metadata": {},
   "outputs": [
    {
     "data": {
      "text/plain": [
       "(9.71, 39.28)"
      ]
     },
     "execution_count": 47,
     "metadata": {},
     "output_type": "execute_result"
    }
   ],
   "source": [
    "feature[:,1].min(),feature[:,1].max()"
   ]
  },
  {
   "cell_type": "code",
   "execution_count": 88,
   "id": "e6f95d93",
   "metadata": {},
   "outputs": [
    {
     "data": {
      "text/plain": [
       "[0, 0, 0, 0, 0, ..., 3, 3, 4, 4, 4]\n",
       "Length: 569\n",
       "Categories (5, int64): [0 < 1 < 2 < 3 < 4]"
      ]
     },
     "execution_count": 88,
     "metadata": {},
     "output_type": "execute_result"
    }
   ],
   "source": [
    "fea_bins=pd.cut(feature[:,1],bins=5,labels=range(5))\n",
    "pd.value_counts(fea_bins)\n",
    "fea_bins"
   ]
  },
  {
   "cell_type": "code",
   "execution_count": 62,
   "id": "90538144",
   "metadata": {},
   "outputs": [
    {
     "data": {
      "text/html": [
       "<div>\n",
       "<style scoped>\n",
       "    .dataframe tbody tr th:only-of-type {\n",
       "        vertical-align: middle;\n",
       "    }\n",
       "\n",
       "    .dataframe tbody tr th {\n",
       "        vertical-align: top;\n",
       "    }\n",
       "\n",
       "    .dataframe thead th {\n",
       "        text-align: right;\n",
       "    }\n",
       "</style>\n",
       "<table border=\"1\" class=\"dataframe\">\n",
       "  <thead>\n",
       "    <tr style=\"text-align: right;\">\n",
       "      <th>col_0</th>\n",
       "      <th>0</th>\n",
       "      <th>1</th>\n",
       "    </tr>\n",
       "    <tr>\n",
       "      <th>row_0</th>\n",
       "      <th></th>\n",
       "      <th></th>\n",
       "    </tr>\n",
       "  </thead>\n",
       "  <tbody>\n",
       "    <tr>\n",
       "      <th>0</th>\n",
       "      <td>68</td>\n",
       "      <td>45</td>\n",
       "    </tr>\n",
       "    <tr>\n",
       "      <th>1</th>\n",
       "      <td>107</td>\n",
       "      <td>192</td>\n",
       "    </tr>\n",
       "    <tr>\n",
       "      <th>2</th>\n",
       "      <td>31</td>\n",
       "      <td>98</td>\n",
       "    </tr>\n",
       "    <tr>\n",
       "      <th>3</th>\n",
       "      <td>4</td>\n",
       "      <td>21</td>\n",
       "    </tr>\n",
       "    <tr>\n",
       "      <th>4</th>\n",
       "      <td>2</td>\n",
       "      <td>1</td>\n",
       "    </tr>\n",
       "  </tbody>\n",
       "</table>\n",
       "</div>"
      ],
      "text/plain": [
       "col_0    0    1\n",
       "row_0          \n",
       "0       68   45\n",
       "1      107  192\n",
       "2       31   98\n",
       "3        4   21\n",
       "4        2    1"
      ]
     },
     "execution_count": 62,
     "metadata": {},
     "output_type": "execute_result"
    }
   ],
   "source": [
    "#对分箱后的特征进行woe编码\n",
    "gi=pd.crosstab(fea_bins,target)\n",
    "gi"
   ]
  },
  {
   "cell_type": "code",
   "execution_count": 67,
   "id": "613b11de",
   "metadata": {},
   "outputs": [
    {
     "data": {
      "text/plain": [
       "1    357\n",
       "0    212\n",
       "dtype: int64"
      ]
     },
     "execution_count": 67,
     "metadata": {},
     "output_type": "execute_result"
    }
   ],
   "source": [
    "gb=pd.DataFrame(target).value_counts()\n",
    "gb"
   ]
  },
  {
   "cell_type": "code",
   "execution_count": 68,
   "id": "86b0c595",
   "metadata": {},
   "outputs": [
    {
     "data": {
      "text/plain": [
       "row_0\n",
       "0    0.392981\n",
       "1    1.065578\n",
       "2    1.877293\n",
       "3    3.117647\n",
       "4    0.296919\n",
       "dtype: float64"
      ]
     },
     "execution_count": 68,
     "metadata": {},
     "output_type": "execute_result"
    }
   ],
   "source": [
    "gbi=(gi[1]/gi[0])/(gb[1]/gb[0])\n",
    "gbi"
   ]
  },
  {
   "cell_type": "code",
   "execution_count": 73,
   "id": "4e1826fb",
   "metadata": {},
   "outputs": [],
   "source": [
    "woe=np.log(gbi)"
   ]
  },
  {
   "cell_type": "code",
   "execution_count": 75,
   "id": "8843b7fe",
   "metadata": {},
   "outputs": [
    {
     "data": {
      "text/plain": [
       "row_0\n",
       "0   -0.933995\n",
       "1    0.063517\n",
       "2    0.629831\n",
       "3    1.137079\n",
       "4   -1.214297\n",
       "dtype: float64"
      ]
     },
     "execution_count": 75,
     "metadata": {},
     "output_type": "execute_result"
    }
   ],
   "source": [
    "woe"
   ]
  },
  {
   "cell_type": "code",
   "execution_count": 80,
   "id": "e6b73702",
   "metadata": {},
   "outputs": [
    {
     "data": {
      "text/plain": [
       "{0: -0.9339947225134135,\n",
       " 1: 0.06351703045824882,\n",
       " 2: 0.6298307670777991,\n",
       " 3: 1.1370785694959058,\n",
       " 4: -1.214296687667572}"
      ]
     },
     "execution_count": 80,
     "metadata": {},
     "output_type": "execute_result"
    }
   ],
   "source": [
    "dict=woe.to_dict()\n",
    "dict"
   ]
  },
  {
   "cell_type": "code",
   "execution_count": 85,
   "id": "2257f09b",
   "metadata": {},
   "outputs": [
    {
     "data": {
      "text/plain": [
       "569"
      ]
     },
     "execution_count": 85,
     "metadata": {},
     "output_type": "execute_result"
    }
   ],
   "source": [
    "woe_bins=fea_bins.map(dict)\n",
    "len(woe_bins.tolist())"
   ]
  },
  {
   "cell_type": "code",
   "execution_count": null,
   "id": "ad4cdb83",
   "metadata": {},
   "outputs": [],
   "source": []
  },
  {
   "cell_type": "code",
   "execution_count": null,
   "id": "4349d121",
   "metadata": {},
   "outputs": [],
   "source": []
  },
  {
   "cell_type": "code",
   "execution_count": null,
   "id": "75cc7343",
   "metadata": {},
   "outputs": [],
   "source": []
  }
 ],
 "metadata": {
  "kernelspec": {
   "display_name": "Python 3 (ipykernel)",
   "language": "python",
   "name": "python3"
  },
  "language_info": {
   "codemirror_mode": {
    "name": "ipython",
    "version": 3
   },
   "file_extension": ".py",
   "mimetype": "text/x-python",
   "name": "python",
   "nbconvert_exporter": "python",
   "pygments_lexer": "ipython3",
   "version": "3.9.6"
  }
 },
 "nbformat": 4,
 "nbformat_minor": 5
}
