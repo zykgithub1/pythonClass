{
 "cells": [
  {
   "cell_type": "code",
   "execution_count": 1,
   "id": "a08df561",
   "metadata": {},
   "outputs": [],
   "source": [
    "import numpy as np\n",
    "import pandas as pd\n",
    "import matplotlib.pyplot as plt\n",
    "import random\n",
    "%matplotlib inline"
   ]
  },
  {
   "cell_type": "code",
   "execution_count": 2,
   "id": "86a4a1e2",
   "metadata": {},
   "outputs": [],
   "source": [
    "def loadDataSet(file):\n",
    "    dataSet=pd.read_table(file,header=None)\n",
    "    xMat=np.mat(dataSet.iloc[:,:-1].values)\n",
    "    yMat=np.mat(dataSet.iloc[:,-1].values).T\n",
    "    return xMat,yMat\n"
   ]
  },
  {
   "cell_type": "code",
   "execution_count": 3,
   "id": "64e7cc1d",
   "metadata": {
    "scrolled": true
   },
   "outputs": [],
   "source": [
    "file=\"testSet.txt\"\n",
    "xMat,yMat=loadDataSet(file)"
   ]
  },
  {
   "cell_type": "code",
   "execution_count": 4,
   "id": "f3ee5c9a",
   "metadata": {},
   "outputs": [],
   "source": [
    "def showDateSet(xMat,yMat):\n",
    "    data_p=[]\n",
    "    data_n=[]\n",
    "    m=xMat.shape[0]\n",
    "    for i in range(m):\n",
    "        if yMat[i]>0:\n",
    "            data_p.append(xMat[i])\n",
    "        else:\n",
    "            data_n.append(xMat[i])\n",
    "    data_p=np.array(data_p)\n",
    "    data_n=np.array(data_n)\n",
    "    plt.scatter(data_p.T[0],data_p.T[1])\n",
    "    plt.scatter(data_n.T[0],data_n.T[1])\n",
    "    plt.show()"
   ]
  },
  {
   "cell_type": "code",
   "execution_count": 5,
   "id": "634a1aca",
   "metadata": {},
   "outputs": [
    {
     "data": {
      "image/png": "[encoded data removed]",
      "text/plain": [
       "<Figure size 432x288 with 1 Axes>"
      ]
     },
     "metadata": {
      "needs_background": "light"
     },
     "output_type": "display_data"
    }
   ],
   "source": [
    "showDateSet(xMat,yMat)"
   ]
  },
  {
   "cell_type": "code",
   "execution_count": 6,
   "id": "d0cf63e7",
   "metadata": {},
   "outputs": [],
   "source": [
    "#随机选择J的函数\n",
    "def selectJrand(i,m):\n",
    "    j=i\n",
    "    while(j==i):\n",
    "        j=int(np.random.uniform(0,m))\n",
    "    return j"
   ]
  },
  {
   "cell_type": "code",
   "execution_count": 7,
   "id": "883496de",
   "metadata": {},
   "outputs": [],
   "source": [
    "#边界处理  如果al大于上界 取上界  al<下界 取下界\n",
    "def clipAlpha(aj,H,L):\n",
    "    if aj>H:\n",
    "        aj=H\n",
    "    if aj<L:\n",
    "        aj=L\n",
    "    return aj"
   ]
  },
  {
   "cell_type": "code",
   "execution_count": 8,
   "id": "45cdb3de",
   "metadata": {},
   "outputs": [],
   "source": [
    "\"\"\"\n",
    "C->惩罚因子\n",
    "toler 容错率\n",
    "maxIterax 最大迭代次数\n",
    "\"\"\"\n",
    "def smoSimple(xMat,yMat,C,toler,maxIter):\n",
    "    b=0 #初始化b参数\n",
    "    m,n=xMat.shape #m为数据集的总行数，n为特征的数量\n",
    "    alpha = np.mat(np.zeros((m,1))) #初始化alpha参数，设为0\n",
    "    iters =0 #初始化迭代次数\n",
    "    while (iters<maxIter):\n",
    "        alpha_ = 0 #初始化alpha优化次数\n",
    "        for i in range(m):\n",
    "            #步骤1：计算误差Ei\n",
    "            fXi=np.multiply(alpha,yMat).T*(xMat*xMat[i,:].T)+b\n",
    "            Ei=fXi-yMat[i]\n",
    "            #优化alpha，设定容错率\n",
    "            if ((yMat[i]*Ei<-toler)and(alpha[i]<C)) or((yMat[i]*Ei>toler)and(alpha[i]>0)):\n",
    "            #随机选择一个与alpha_i成对优化的alpha_j\n",
    "                j=selectJrand(i,m)\n",
    "                #步骤1：计算误差Ej\n",
    "                fXj=np.multiply(alpha,yMat).T*(xMat*xMat[j,:].T)+b\n",
    "                Ej=fXj-yMat[j]\n",
    "                #保存更新前的alpha_i和alpha_j\n",
    "                alphaIold=alpha[i].copy()\n",
    "                alphaJold=alpha[j].copy()\n",
    "                #步骤2：计算上下界H和L\n",
    "                if (yMat[i]!=yMat[j]):\n",
    "                    L=max(0,alpha[j]-alpha[i])\n",
    "                    H=min(C,C+alpha[j]-alpha[i])\n",
    "                else:\n",
    "                    L=max(0,alpha[j]+alpha[i]-C)\n",
    "                    H=min(C,C+alpha[j]+alpha[i])\n",
    "                if L==H:\n",
    "                    #print('L==H')\n",
    "                    continue\n",
    "                #步骤3：计算学习率eta(eta是alpha_j的最优修改量)\n",
    "                eta=2*xMat[i,:]*xMat[j,:].T-xMat[i,:]*xMat[i,:].T-xMat[j,:]*xMat[j,:].T\n",
    "                if eta>=0:\n",
    "                    #print('eta>=0')\n",
    "                    continue\n",
    "                #步骤4：更新alpha_j\n",
    "                alpha[j]-= yMat[j]*(Ei-Ej)/eta\n",
    "                #步骤5：修剪alpha_j\n",
    "                alpha[j]=clipAlpha(alpha[j],H,L)\n",
    "                if abs(alpha[j]-alphaJold)<0.00001:\n",
    "                    #print('alpha_j 变化太小')\n",
    "                    continue\n",
    "                #步骤6：更新alpha_i\n",
    "                alpha[i]+=yMat[j]*yMat[i]*(alphaJold-alpha[j])\n",
    "                #步骤7：更新b_1和b_2\n",
    "                b1=b-Ei-yMat[i]*(alpha[i]-alphaIold)*xMat[i,:]*xMat[i,:].T-yMat[j]*(alpha[j]-alphaJold)*xMat[i,:]*xMat[j,:].T\n",
    "                b2=b-Ej-yMat[i]*(alpha[i]-alphaIold)*xMat[i,:]*xMat[j,:].T-yMat[j]*(alpha[j]-alphaJold)*xMat[j,:]*xMat[j,:].T\n",
    "                #步骤8：根据b_1和b_2更新b\n",
    "                if (0<alpha[i])and(C>alpha[i]): b=b1\n",
    "                elif (0<alpha[j])and(C>alpha[j]): b=b2\n",
    "                else: b=(b1+b2)/2\n",
    "                #统计优化次数\n",
    "                alpha_+=1\n",
    "                #print(f'第{iters}次迭代 样本{i},alpha优化次数:{alpha_}')\n",
    "        #更新迭代次数\n",
    "        if alpha_==0: iters+=1\n",
    "        else: iters=0\n",
    "        #print(f'迭代次数为:{iters}')\n",
    "    return b,alpha"
   ]
  },
  {
   "cell_type": "code",
   "execution_count": 9,
   "id": "2a473a78",
   "metadata": {},
   "outputs": [
    {
     "name": "stdout",
     "output_type": "stream",
     "text": [
      "Wall time: 26.6 s\n"
     ]
    }
   ],
   "source": [
    "%time b,alpha=smoSimple(xMat,yMat,0.6,0.001,5)"
   ]
  },
  {
   "cell_type": "code",
   "execution_count": 10,
   "id": "e552fa31",
   "metadata": {},
   "outputs": [],
   "source": [
    "def get_sv(xMat,yMat,alpha):\n",
    "    m=xMat.shape[0]\n",
    "    sv_x=[]\n",
    "    sv_y=[]\n",
    "    for i in range(m):\n",
    "        if alpha[i]>0:\n",
    "            sv_x.append(xMat[i])\n",
    "            sv_y.append(yMat[i])\n",
    "    sv_x1=np.array(sv_x).T\n",
    "    sv_y1=np.array(sv_y).T\n",
    "    return sv_x1,sv_y1\n",
    "        "
   ]
  },
  {
   "cell_type": "code",
   "execution_count": 11,
   "id": "5b46ef96",
   "metadata": {},
   "outputs": [],
   "source": [
    "sv_x1,sv_y1=get_sv(xMat,yMat,alpha)"
   ]
  },
  {
   "cell_type": "code",
   "execution_count": 12,
   "id": "5584da08",
   "metadata": {},
   "outputs": [],
   "source": [
    "def showPlot(xMat, yMat,alpha,b):\n",
    "    data_p = [] #正样本\n",
    "    data_n = [] #负样本\n",
    "    m = xMat.shape[0] #样本总数\n",
    "    for i in range(m):\n",
    "        if yMat[i] > 0:\n",
    "            data_p.append(xMat[i])\n",
    "        else:\n",
    "            data_n.append(xMat[i])\n",
    "    data_p_ = np.array(data_p) #转换为numpy矩阵\n",
    "    data_n_ = np.array(data_n) #转换为numpy矩阵\n",
    "    #样本散点图\n",
    "    plt.scatter(data_p_.T[0], data_p_.T[1]) #正样本散点图\n",
    "    plt.scatter(data_n_.T[0], data_n_.T[1]) #负样本散点图\n",
    "    #绘制支持向量\n",
    "    sv_x,sv_y=get_sv(xMat,yMat,alpha)\n",
    "    plt.scatter(sv_x[0], sv_x[1], s=150, c='none', alpha=0.7, linewidth=1.5,edgecolor='red')\n",
    "    #绘制超平面\n",
    "    w = np.dot((np.tile(np.array(yMat).reshape(1, -1).T, (1, 2)) * np.array(xMat)).T,np.array(alpha))\n",
    "    a1, a2 = w\n",
    "    x1 = max(xMat[:,0])[0,0]\n",
    "    x2 = min(xMat[:,0])[0,0]\n",
    "    b = float(b)\n",
    "    a1 = float(a1[0])\n",
    "    a2 = float(a2[0])\n",
    "    y1, y2 = (-b- a1*x1)/a2, (-b - a1*x2)/a2\n",
    "    plt.plot([x1, x2], [y1, y2])\n",
    "    plt.show()"
   ]
  },
  {
   "cell_type": "code",
   "execution_count": 13,
   "id": "cd7bd94f",
   "metadata": {},
   "outputs": [
    {
     "data": {
      "image/png": "[encoded data removed]",
      "text/plain": [
       "<Figure size 432x288 with 1 Axes>"
      ]
     },
     "metadata": {
      "needs_background": "light"
     },
     "output_type": "display_data"
    }
   ],
   "source": [
    "showPlot(xMat, yMat,alpha,b)"
   ]
  },
  {
   "cell_type": "code",
   "execution_count": 14,
   "id": "e0f17a51",
   "metadata": {},
   "outputs": [],
   "source": [
    "class optStruct:\n",
    "    def __init__(self, xMat, yMat, C, toler):\n",
    "        self.X = xMat #特征矩阵\n",
    "        self.Y = yMat #数据标签\n",
    "        self.C = C #松弛变量\n",
    "        self.tol = toler #容错率\n",
    "        self.m = xMat.shape[0] #特征矩阵行数\n",
    "        self.alpha = np.mat(np.zeros((self.m,1))) #根据矩阵行数初始化alpha参数为0\n",
    "        self.b = 0 #初始化b参数为0\n",
    "        self.eCa = np.mat(np.zeros((self.m,2))) #根据矩阵行数初始化误差缓存，第一列为是否有效的标志位，第二列为实际误差E的值。\n"
   ]
  },
  {
   "cell_type": "code",
   "execution_count": 15,
   "id": "711201d3",
   "metadata": {},
   "outputs": [],
   "source": [
    "def calcEk(oS, k):\n",
    "    fXk = np.multiply(oS.alpha,oS.Y).T*(oS.X*oS.X[k,:].T) + oS.b\n",
    "    Ek = fXk - oS.Y[k]\n",
    "    return Ek\n"
   ]
  },
  {
   "cell_type": "code",
   "execution_count": 16,
   "id": "cd84b596",
   "metadata": {},
   "outputs": [],
   "source": [
    "\"\"\"\n",
    "内循环启发方式\n",
    "参数说明：\n",
    "i：标号为i的数据的索引值\n",
    "oS：数据结构\n",
    "Ei：标号为i的数据误差\n",
    "返回:\n",
    "j, maxK：标号为j或maxK的数据的索引值\n",
    "Ej：标号为j的数据误差\n",
    "\"\"\"\n",
    "def selectJ(i, oS, Ei):\n",
    "    maxK = -1; maxDeltaE = 0; Ej = 0 #初始化\n",
    "    oS.eCa[i] = [1,Ei] #根据Ei更新误差缓存\n",
    "    eca = np.nonzero(oS.eCa[:,0].A)[0] #返回误差不为0的数据的索引值\n",
    "    if (len(eca)) > 1: #有不为0的误差\n",
    "        for k in eca: #遍历,找到最大的Ek\n",
    "            if k == i: continue #不计算i,浪费时间\n",
    "            Ek = calcEk(oS, k) #计算Ek\n",
    "            deltaE = abs(Ei - Ek) #计算|Ei-Ek|\n",
    "            if (deltaE > maxDeltaE): #找到maxDeltaE\n",
    "                maxK = k\n",
    "                maxDeltaE = deltaE\n",
    "                Ej = Ek\n",
    "        return maxK, Ej #返回maxK,Ej\n",
    "    else: #没有不为0的误差\n",
    "        j = selectJrand(i, oS.m) #随机选择alpha_j的索引值\n",
    "        Ej = calcEk(oS, j) #计算Ej\n",
    "    return j, Ej #j,Ej\n"
   ]
  },
  {
   "cell_type": "code",
   "execution_count": 17,
   "id": "b519685a",
   "metadata": {},
   "outputs": [],
   "source": [
    "import os"
   ]
  },
  {
   "cell_type": "code",
   "execution_count": 18,
   "id": "46526d30",
   "metadata": {},
   "outputs": [],
   "source": [
    "file=\"digits/trainingDigits/\"\n",
    "FileList=os.listdir(file)"
   ]
  },
  {
   "cell_type": "code",
   "execution_count": 19,
   "id": "068eccbd",
   "metadata": {},
   "outputs": [
    {
     "data": {
      "text/plain": [
       "['1_0.txt', '1_1.txt', '1_10.txt', '1_100.txt', '1_101.txt']"
      ]
     },
     "execution_count": 19,
     "metadata": {},
     "output_type": "execute_result"
    }
   ],
   "source": [
    "FileList[:5]"
   ]
  },
  {
   "cell_type": "code",
   "execution_count": 20,
   "id": "5f8e0c7b",
   "metadata": {},
   "outputs": [],
   "source": [
    "def get_Mat(path):\n",
    "    FileList = os.listdir(path) #提取出文件夹中所有文件的名字\n",
    "    m = len(FileList) #文件个数\n",
    "    label = [] #初始化分类标签\n",
    "    xMat = np.mat(np.zeros((m,1024))) #初始化一个m*1024的全零矩阵\n",
    "    for i in range(m): #遍历每一个文件\n",
    "        xMat_i = np.mat(np.zeros((1,1024)) ) #初始化一个1*1024的全零矩阵\n",
    "        filename = FileList[i] #提取出当前文件名\n",
    "        #读取文件，结果是一个32行*每一行中是一个32位字符串的dataframe\n",
    "        txt = pd.read_csv(f'{path}/{filename}',header=None)\n",
    "        for j in range(32): #遍历当前文件的每一行\n",
    "            num = txt.iloc[j,:] #当前行中的字符串\n",
    "            for k in range(32): #遍历字符串中的每一个数据\n",
    "                xMat_i[0,32*j+k]=int(num[0][k]) #将1*1024矩阵中相应位置替换为当前字符串的值，注意要转换成int类型\n",
    "        xMat[i,:] = xMat_i #将m*1024矩阵中相应的位置替换为该文件的矩阵\n",
    "        filelabel = int(filename.split('_')[0]) #根据文件名切分出手写数字的值\n",
    "        if filelabel==9: #将数字9的标签定为-1\n",
    "            label.append(-1)\n",
    "        else: #将数字1的标签定为1\n",
    "            label.append(1)\n",
    "    yMat=np.mat(label).T #将标签列转换为矩阵\n",
    "    return xMat,yMat\n"
   ]
  },
  {
   "cell_type": "code",
   "execution_count": 29,
   "id": "b7009da1",
   "metadata": {},
   "outputs": [],
   "source": [
    "def updateEk(oS, k):\n",
    "    Ek = calcEk(oS, k) #计算Ek\n",
    "    oS.eCa[k] = [1,Ek] #更新误差缓存\n"
   ]
  },
  {
   "cell_type": "code",
   "execution_count": 32,
   "id": "987e2e77",
   "metadata": {},
   "outputs": [],
   "source": [
    "class optStruct:\n",
    "    def __init__(self, xMat, yMat, C, toler, kTup):\n",
    "        self.X = xMat #特征矩阵\n",
    "        self.Y = yMat #标签矩阵\n",
    "        self.C = C #惩罚因子\n",
    "        self.tol = toler #容错率\n",
    "        self.m = xMat.shape[0] #特征矩阵行数\n",
    "        self.alpha = np.mat(np.zeros((self.m,1))) #根据矩阵行数初始化alpha参数为0\n",
    "        self.b = 0 #初始化b参数为0\n",
    "        self.eCa = np.mat(np.zeros((self.m,2))) #根据矩阵行数初初始化误差缓存，第一列为是否有效的标志位，第二列为实际的误差E的值。\n",
    "        self.K = np.mat(np.zeros((self.m,self.m))) #初始化核K\n",
    "        for i in range(self.m): #计算所有数据的核K\n",
    "            self.K[:,i] = kernelTrans(self.X, self.X[i,:], kTup)\n",
    "\n",
    "\n",
    "#%%\n",
    "\n",
    "def calcEk(oS, k):\n",
    "    fXk = np.multiply(oS.alpha,oS.Y).T*oS.K[:,k] + oS.b\n",
    "    Ek = fXk - oS.Y[k]\n",
    "    return Ek\n",
    "\n",
    "#%%\n",
    "\n",
    "def innerL(i, oS):\n",
    "    #步骤1：计算误差Ei\n",
    "    Ei = calcEk(oS, i)\n",
    "    #优化alpha,设定一定的容错率。\n",
    "    if ((oS.Y[i] * Ei < -oS.tol) and (oS.alpha[i] < oS.C)) or ((oS.Y[i] * Ei > oS.tol)and (oS.alpha[i] > 0)):\n",
    "        #使用内循环启发方式2选择alpha_j,并计算Ej\n",
    "        j,Ej = selectJ(i, oS, Ei)\n",
    "        #保存更新前的aplpha值，使用深拷贝\n",
    "        alphaIold = oS.alpha[i].copy()\n",
    "        alphaJold = oS.alpha[j].copy()\n",
    "        #步骤2：计算上下界L和H\n",
    "        if (oS.Y[i] != oS.Y[j]):\n",
    "            L = max(0, oS.alpha[j] - oS.alpha[i])\n",
    "            H = min(oS.C, oS.C + oS.alpha[j] - oS.alpha[i])\n",
    "        else:\n",
    "            L = max(0, oS.alpha[j] + oS.alpha[i] - oS.C)\n",
    "            H = min(oS.C, oS.alpha[j] + oS.alpha[i])\n",
    "        if L == H:\n",
    "            #print(\"L==H\")\n",
    "            return 0\n",
    "        #步骤3：计算eta\n",
    "        eta = 2.0 * oS.K[i,j] - oS.K[i,i] - oS.K[j,j]\n",
    "        if eta >= 0:\n",
    "            #print(\"eta>=0\")\n",
    "            return 0\n",
    "        #步骤4：更新alpha_j\n",
    "        oS.alpha[j] -= oS.Y[j] * (Ei - Ej)/eta\n",
    "        #步骤5：修剪alpha_j\n",
    "        oS.alpha[j] = clipAlpha(oS.alpha[j],H,L)\n",
    "        #更新Ej至误差缓存\n",
    "        updateEk(oS, j)\n",
    "        if (abs(oS.alpha[j] - alphaJold) < 0.00001):\n",
    "            #print(\"alpha_j变化太小\")\n",
    "            return 0\n",
    "        #步骤6：更新alpha_i\n",
    "        oS.alpha[i] += oS.Y[j]*oS.Y[i]*(alphaJold - oS.alpha[j])\n",
    "        #更新Ei至误差缓存\n",
    "        updateEk(oS, i)\n",
    "        #步骤7：更新b_1和b_2\n",
    "        b1 = oS.b - Ei- oS.Y[i]*(oS.alpha[i]-alphaIold)*oS.K[i,i]- oS.Y[j]*(oS.alpha[j]-alphaJold)*oS.K[i,j]\n",
    "        b2 = oS.b - Ej- oS.Y[i]*(oS.alpha[i]-alphaIold)*oS.K[i,j]- oS.Y[j]*(oS.alpha[j]-alphaJold)*oS.K[j,j]\n",
    "        #步骤8：根据b_1和b_2更新b\n",
    "        if (0 < oS.alpha[i]) and (oS.C > oS.alpha[i]):\n",
    "            oS.b = b1\n",
    "        elif (0 < oS.alpha[j]) and (oS.C > oS.alpha[j]):\n",
    "            oS.b = b2\n",
    "        else:\n",
    "            oS.b = (b1 + b2)/2\n",
    "        return 1\n",
    "    else:\n",
    "        return 0\n",
    "\n",
    "#%%\n",
    "\n",
    "def smoP(xMat, yMat, C, toler, maxIter,kTup = ('lin',0)):\n",
    "    oS = optStruct(xMat, yMat, C, toler,kTup) #初始化数据结构\n",
    "    iters = 0 #初始化当前迭代次数\n",
    "    entireSet = True; alpha_ = 0\n",
    "    #遍历整个数据集都alpha也没有更新或者超过最大迭代次数,则退出循环\n",
    "    while (iters < maxIter) and ((alpha_ > 0) or (entireSet)):\n",
    "        alpha_ = 0\n",
    "        if entireSet: #遍历整个数据集\n",
    "            for i in range(oS.m):\n",
    "                alpha_ += innerL(i,oS) #使用优化的SMO算法\n",
    "                #print(f\"全样本遍历:第{iters}次迭代 样本:{i}, alpha优化次数:{alpha_}\")\n",
    "            iters += 1\n",
    "        else: #遍历不在边界0和C的alpha\n",
    "            nonBoundIs = np.nonzero((oS.alpha.A > 0) * (oS.alpha.A < C))[0]\n",
    "            for i in nonBoundIs:\n",
    "                alpha_ += innerL(i,oS)\n",
    "                #print(f\"非边界遍历:第{iters}次迭代 样本:{i}, alpha优化次数:{alpha_}\")\n",
    "            iters += 1\n",
    "        if entireSet: #遍历一次后改为非边界遍历\n",
    "            entireSet = False\n",
    "        elif (alpha_ == 0): #如果alpha没有更新,计算全样本遍历\n",
    "            entireSet = True\n",
    "        #print(f\"迭代次数: {iters}\")\n",
    "    return oS.b,oS.alpha #返回SMO算法计算的b和alphas\n",
    "\n",
    "#%%"
   ]
  },
  {
   "cell_type": "code",
   "execution_count": 33,
   "id": "300a4479",
   "metadata": {},
   "outputs": [],
   "source": [
    "xmat,ymat=get_Mat(file)\n"
   ]
  },
  {
   "cell_type": "code",
   "execution_count": 34,
   "id": "424ebbbd",
   "metadata": {},
   "outputs": [],
   "source": [
    "def testDigits(kTup=('rbf', 10)):\n",
    "    xMat,yMat = get_Mat('digits/trainingDigits') #得到训练集的特征矩阵和标签矩阵\n",
    "    b,alpha = smoP(xMat, yMat, 200, 0.0001, 10000, kTup) #根据训练集计算出b和alpha\n",
    "    svInd = np.nonzero(alpha.A>0)[0] #提取出非零alpha的索引（也就是支持向量的索引）\n",
    "    sVs=xMat[svInd] #提取出支持向量的特征矩阵\n",
    "    labelSV = yMat[svInd] #提取出支持向量的标签矩阵\n",
    "    print(f\"支持向量个数:{sVs.shape[0]}\" )\n",
    "    m,n = xMat.shape #m是数据集总行数，n是特征数量\n",
    "    errorCount = 0 #初始化错误数\n",
    "    for i in range(m): #遍历每一条数据\n",
    "        K = kernelTrans(sVs,xMat[i,:],kTup) #进行数据转换\n",
    "        predict=K.T * np.multiply(labelSV,alpha[svInd]) + b #根据支持向量计算预测结果\n",
    "        if np.sign(predict) != np.sign(yMat[i]): #检查预测结果与原始标签是否一样\n",
    "            errorCount += 1 #统计预测错误的个数\n",
    "    acc_train=1-errorCount/m #计算训练集的准确率\n",
    "    #print(f\"训练集准确率: {acc_train}\")\n",
    "    xMat,yMat = get_Mat('digits/testDigits')\n",
    "    errorCount = 0\n",
    "    m,n = xMat.shape\n",
    "    for i in range(m):\n",
    "        K = kernelTrans(sVs,xMat[i,:],kTup)\n",
    "        predict=K.T * np.multiply(labelSV,alpha[svInd]) + b\n",
    "        if np.sign(predict) != np.sign(yMat[i]):\n",
    "            errorCount += 1\n",
    "    acc_test=1-errorCount/m\n",
    "    #print(f\"训练集准确率: {acc_test}\")\n",
    "    return acc_train,acc_test,sVs.shape[0]\n"
   ]
  },
  {
   "cell_type": "code",
   "execution_count": 36,
   "id": "771eb46f",
   "metadata": {},
   "outputs": [],
   "source": [
    "def kernelTrans(X, A, kTup):\n",
    "    m,n = X.shape\n",
    "    K = np.mat(np.zeros((m,1)))\n",
    "    if kTup[0] == 'lin':\n",
    "        K = X * A.T #线性核函数,只进行内积。\n",
    "    elif kTup[0] == 'rbf': #高斯核函数,根据高斯核函数公式进行计算\n",
    "        for j in range(m):\n",
    "            deltaRow = X[j,:] - A\n",
    "            K[j] = deltaRow*deltaRow.T\n",
    "        K = np.exp(K/(-1*kTup[1]**2)) #计算高斯核K\n",
    "    else:\n",
    "        raise NameError('核函数无法识别')\n",
    "    return K #返回计算的核K\n"
   ]
  },
  {
   "cell_type": "code",
   "execution_count": 37,
   "id": "48d960ab",
   "metadata": {},
   "outputs": [
    {
     "name": "stderr",
     "output_type": "stream",
     "text": [
      "C:\\Users\\zyk\\AppData\\Local\\Temp/ipykernel_1156/2799040837.py:13: DeprecationWarning: setting an array element with a sequence. This was supported in some cases where the elements are arrays with a single element. For example `np.array([1, np.array([2])], dtype=int)`. In the future this will raise the same ValueError as `np.array([1, [2]], dtype=int)`.\n",
      "  oS.eCa[i] = [1,Ei] #根据Ei更新误差缓存\n",
      "C:\\Users\\zyk\\AppData\\Local\\Temp/ipykernel_1156/2245963076.py:3: DeprecationWarning: setting an array element with a sequence. This was supported in some cases where the elements are arrays with a single element. For example `np.array([1, np.array([2])], dtype=int)`. In the future this will raise the same ValueError as `np.array([1, [2]], dtype=int)`.\n",
      "  oS.eCa[k] = [1,Ek] #更新误差缓存\n"
     ]
    },
    {
     "name": "stdout",
     "output_type": "stream",
     "text": [
      "支持向量个数:121\n"
     ]
    },
    {
     "data": {
      "text/plain": [
       "(1.0, 0.9946236559139785, 121)"
      ]
     },
     "execution_count": 37,
     "metadata": {},
     "output_type": "execute_result"
    }
   ],
   "source": [
    "testDigits(kTup=('rbf',10))"
   ]
  },
  {
   "cell_type": "code",
   "execution_count": null,
   "id": "d73560ea",
   "metadata": {},
   "outputs": [],
   "source": []
  }
 ],
 "metadata": {
  "kernelspec": {
   "display_name": "Python 3 (ipykernel)",
   "language": "python",
   "name": "python3"
  },
  "language_info": {
   "codemirror_mode": {
    "name": "ipython",
    "version": 3
   },
   "file_extension": ".py",
   "mimetype": "text/x-python",
   "name": "python",
   "nbconvert_exporter": "python",
   "pygments_lexer": "ipython3",
   "version": "3.9.6"
  }
 },
 "nbformat": 4,
 "nbformat_minor": 5
}
